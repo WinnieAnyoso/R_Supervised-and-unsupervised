{
  "nbformat": 4,
  "nbformat_minor": 0,
  "metadata": {
    "colab": {
      "name": "w13_Part2.ipynb",
      "provenance": [],
      "authorship_tag": "ABX9TyMgKa5vgUWuW0mm6aXRkvuX",
      "include_colab_link": true
    },
    "kernelspec": {
      "name": "ir",
      "display_name": "R"
    }
  },
  "cells": [
    {
      "cell_type": "markdown",
      "metadata": {
        "id": "view-in-github",
        "colab_type": "text"
      },
      "source": [
        "<a href=\"https://colab.research.google.com/github/WinnieAnyoso/R_Supervised-and-unsupervised/blob/master/w13_Part2.ipynb\" target=\"_parent\"><img src=\"https://colab.research.google.com/assets/colab-badge.svg\" alt=\"Open In Colab\"/></a>"
      ]
    },
    {
      "cell_type": "markdown",
      "metadata": {
        "id": "qjVJV93pkFU-",
        "colab_type": "text"
      },
      "source": [
        "###RESEARCH QUESTION\n",
        "\n",
        "Kira Plastinina is a Russian brand that is sold through a defunct chain of retail stores in Russia, Ukraine, Kazakhstan, Belarus, China, Philippines, and Armenia. The brand’s Sales and Marketing team would like to understand their customer’s behavior from data that they have collected over the past year. More specifically, they would like to learn the characteristics of customer groups.\n",
        "\n",
        "Perform clustering stating insights drawn from your analysis and visualizations.\n",
        "Upon implementation, provide comparisons between the approaches learned this week i.e. K-Means clustering vs Hierarchical clustering highlighting the strengths and limitations of each approach in the context of your analysis. \n",
        "\n",
        "\n",
        "###Metrics Of Success\n",
        "\n",
        "Perform Univariate and bivariate analysis and Kmeans clustering. Challenge the Solution with Hierarchical clustering and get to determine the model with the highest accuracy.\n",
        "\n",
        "Model with the highest accuracy gets to take the day. \n",
        "\n",
        "###Context \n",
        "Fashion designers and Companies in general derive their revenue from the sale merchandise that are related to the company's primary operations. However it is also important to note the behaviour and patterns of potential buyers in order to determine areas of improvement and methods that are no longer useful and need to be scrapped out. \n",
        "\n",
        "It is also important for companies to take keen interest and be as accurate as possible when it comes to revenue collected to reduce the rate at which false revenues could be incurred. \n",
        "\n",
        "###Experimental Design\n",
        "\n",
        "1. Load the dataset\n",
        "2. Explore the data i.e. find information and summaries of all the columns \n",
        "3. Clean the data i.e. check and deal with missing data, duplicates and outliers in the dataset\n",
        "4. Perform Univariate and Bivariate analysis. \n",
        "5. Implement the solution using Kmeans Clustering\n",
        "6. Challenge the solution Using Hierarchical Clustering\n",
        "7. Conclusions and Recommendations \n",
        "\n"
      ]
    },
    {
      "cell_type": "code",
      "metadata": {
        "id": "ItJ8GQ_cL6Db",
        "colab_type": "code",
        "colab": {
          "base_uri": "https://localhost:8080/",
          "height": 196
        },
        "outputId": "96074d4c-512f-4d56-e325-e403267b11a3"
      },
      "source": [
        "data <- read.csv(\"online_shoppers_intention.csv\")\n",
        "head(data)\n"
      ],
      "execution_count": 1,
      "outputs": [
        {
          "output_type": "display_data",
          "data": {
            "text/plain": [
              "  Administrative Administrative_Duration Informational Informational_Duration\n",
              "1 0               0                      0              0                    \n",
              "2 0               0                      0              0                    \n",
              "3 0              -1                      0             -1                    \n",
              "4 0               0                      0              0                    \n",
              "5 0               0                      0              0                    \n",
              "6 0               0                      0              0                    \n",
              "  ProductRelated ProductRelated_Duration BounceRates ExitRates PageValues\n",
              "1  1               0.000000              0.20000000  0.2000000 0         \n",
              "2  2              64.000000              0.00000000  0.1000000 0         \n",
              "3  1              -1.000000              0.20000000  0.2000000 0         \n",
              "4  2               2.666667              0.05000000  0.1400000 0         \n",
              "5 10             627.500000              0.02000000  0.0500000 0         \n",
              "6 19             154.216667              0.01578947  0.0245614 0         \n",
              "  SpecialDay Month OperatingSystems Browser Region TrafficType\n",
              "1 0          Feb   1                1       1      1          \n",
              "2 0          Feb   2                2       1      2          \n",
              "3 0          Feb   4                1       9      3          \n",
              "4 0          Feb   3                2       2      4          \n",
              "5 0          Feb   3                3       1      4          \n",
              "6 0          Feb   2                2       1      3          \n",
              "  VisitorType       Weekend Revenue\n",
              "1 Returning_Visitor FALSE   FALSE  \n",
              "2 Returning_Visitor FALSE   FALSE  \n",
              "3 Returning_Visitor FALSE   FALSE  \n",
              "4 Returning_Visitor FALSE   FALSE  \n",
              "5 Returning_Visitor  TRUE   FALSE  \n",
              "6 Returning_Visitor FALSE   FALSE  "
            ],
            "text/latex": "A data.frame: 6 × 18\n\\begin{tabular}{r|llllllllllllllllll}\n  & Administrative & Administrative\\_Duration & Informational & Informational\\_Duration & ProductRelated & ProductRelated\\_Duration & BounceRates & ExitRates & PageValues & SpecialDay & Month & OperatingSystems & Browser & Region & TrafficType & VisitorType & Weekend & Revenue\\\\\n  & <int> & <dbl> & <int> & <dbl> & <int> & <dbl> & <dbl> & <dbl> & <dbl> & <dbl> & <fct> & <int> & <int> & <int> & <int> & <fct> & <lgl> & <lgl>\\\\\n\\hline\n\t1 & 0 &  0 & 0 &  0 &  1 &   0.000000 & 0.20000000 & 0.2000000 & 0 & 0 & Feb & 1 & 1 & 1 & 1 & Returning\\_Visitor & FALSE & FALSE\\\\\n\t2 & 0 &  0 & 0 &  0 &  2 &  64.000000 & 0.00000000 & 0.1000000 & 0 & 0 & Feb & 2 & 2 & 1 & 2 & Returning\\_Visitor & FALSE & FALSE\\\\\n\t3 & 0 & -1 & 0 & -1 &  1 &  -1.000000 & 0.20000000 & 0.2000000 & 0 & 0 & Feb & 4 & 1 & 9 & 3 & Returning\\_Visitor & FALSE & FALSE\\\\\n\t4 & 0 &  0 & 0 &  0 &  2 &   2.666667 & 0.05000000 & 0.1400000 & 0 & 0 & Feb & 3 & 2 & 2 & 4 & Returning\\_Visitor & FALSE & FALSE\\\\\n\t5 & 0 &  0 & 0 &  0 & 10 & 627.500000 & 0.02000000 & 0.0500000 & 0 & 0 & Feb & 3 & 3 & 1 & 4 & Returning\\_Visitor &  TRUE & FALSE\\\\\n\t6 & 0 &  0 & 0 &  0 & 19 & 154.216667 & 0.01578947 & 0.0245614 & 0 & 0 & Feb & 2 & 2 & 1 & 3 & Returning\\_Visitor & FALSE & FALSE\\\\\n\\end{tabular}\n",
            "text/markdown": "\nA data.frame: 6 × 18\n\n| <!--/--> | Administrative &lt;int&gt; | Administrative_Duration &lt;dbl&gt; | Informational &lt;int&gt; | Informational_Duration &lt;dbl&gt; | ProductRelated &lt;int&gt; | ProductRelated_Duration &lt;dbl&gt; | BounceRates &lt;dbl&gt; | ExitRates &lt;dbl&gt; | PageValues &lt;dbl&gt; | SpecialDay &lt;dbl&gt; | Month &lt;fct&gt; | OperatingSystems &lt;int&gt; | Browser &lt;int&gt; | Region &lt;int&gt; | TrafficType &lt;int&gt; | VisitorType &lt;fct&gt; | Weekend &lt;lgl&gt; | Revenue &lt;lgl&gt; |\n|---|---|---|---|---|---|---|---|---|---|---|---|---|---|---|---|---|---|---|\n| 1 | 0 |  0 | 0 |  0 |  1 |   0.000000 | 0.20000000 | 0.2000000 | 0 | 0 | Feb | 1 | 1 | 1 | 1 | Returning_Visitor | FALSE | FALSE |\n| 2 | 0 |  0 | 0 |  0 |  2 |  64.000000 | 0.00000000 | 0.1000000 | 0 | 0 | Feb | 2 | 2 | 1 | 2 | Returning_Visitor | FALSE | FALSE |\n| 3 | 0 | -1 | 0 | -1 |  1 |  -1.000000 | 0.20000000 | 0.2000000 | 0 | 0 | Feb | 4 | 1 | 9 | 3 | Returning_Visitor | FALSE | FALSE |\n| 4 | 0 |  0 | 0 |  0 |  2 |   2.666667 | 0.05000000 | 0.1400000 | 0 | 0 | Feb | 3 | 2 | 2 | 4 | Returning_Visitor | FALSE | FALSE |\n| 5 | 0 |  0 | 0 |  0 | 10 | 627.500000 | 0.02000000 | 0.0500000 | 0 | 0 | Feb | 3 | 3 | 1 | 4 | Returning_Visitor |  TRUE | FALSE |\n| 6 | 0 |  0 | 0 |  0 | 19 | 154.216667 | 0.01578947 | 0.0245614 | 0 | 0 | Feb | 2 | 2 | 1 | 3 | Returning_Visitor | FALSE | FALSE |\n\n",
            "text/html": [
              "<table>\n",
              "<caption>A data.frame: 6 × 18</caption>\n",
              "<thead>\n",
              "\t<tr><th></th><th scope=col>Administrative</th><th scope=col>Administrative_Duration</th><th scope=col>Informational</th><th scope=col>Informational_Duration</th><th scope=col>ProductRelated</th><th scope=col>ProductRelated_Duration</th><th scope=col>BounceRates</th><th scope=col>ExitRates</th><th scope=col>PageValues</th><th scope=col>SpecialDay</th><th scope=col>Month</th><th scope=col>OperatingSystems</th><th scope=col>Browser</th><th scope=col>Region</th><th scope=col>TrafficType</th><th scope=col>VisitorType</th><th scope=col>Weekend</th><th scope=col>Revenue</th></tr>\n",
              "\t<tr><th></th><th scope=col>&lt;int&gt;</th><th scope=col>&lt;dbl&gt;</th><th scope=col>&lt;int&gt;</th><th scope=col>&lt;dbl&gt;</th><th scope=col>&lt;int&gt;</th><th scope=col>&lt;dbl&gt;</th><th scope=col>&lt;dbl&gt;</th><th scope=col>&lt;dbl&gt;</th><th scope=col>&lt;dbl&gt;</th><th scope=col>&lt;dbl&gt;</th><th scope=col>&lt;fct&gt;</th><th scope=col>&lt;int&gt;</th><th scope=col>&lt;int&gt;</th><th scope=col>&lt;int&gt;</th><th scope=col>&lt;int&gt;</th><th scope=col>&lt;fct&gt;</th><th scope=col>&lt;lgl&gt;</th><th scope=col>&lt;lgl&gt;</th></tr>\n",
              "</thead>\n",
              "<tbody>\n",
              "\t<tr><th scope=row>1</th><td>0</td><td> 0</td><td>0</td><td> 0</td><td> 1</td><td>  0.000000</td><td>0.20000000</td><td>0.2000000</td><td>0</td><td>0</td><td>Feb</td><td>1</td><td>1</td><td>1</td><td>1</td><td>Returning_Visitor</td><td>FALSE</td><td>FALSE</td></tr>\n",
              "\t<tr><th scope=row>2</th><td>0</td><td> 0</td><td>0</td><td> 0</td><td> 2</td><td> 64.000000</td><td>0.00000000</td><td>0.1000000</td><td>0</td><td>0</td><td>Feb</td><td>2</td><td>2</td><td>1</td><td>2</td><td>Returning_Visitor</td><td>FALSE</td><td>FALSE</td></tr>\n",
              "\t<tr><th scope=row>3</th><td>0</td><td>-1</td><td>0</td><td>-1</td><td> 1</td><td> -1.000000</td><td>0.20000000</td><td>0.2000000</td><td>0</td><td>0</td><td>Feb</td><td>4</td><td>1</td><td>9</td><td>3</td><td>Returning_Visitor</td><td>FALSE</td><td>FALSE</td></tr>\n",
              "\t<tr><th scope=row>4</th><td>0</td><td> 0</td><td>0</td><td> 0</td><td> 2</td><td>  2.666667</td><td>0.05000000</td><td>0.1400000</td><td>0</td><td>0</td><td>Feb</td><td>3</td><td>2</td><td>2</td><td>4</td><td>Returning_Visitor</td><td>FALSE</td><td>FALSE</td></tr>\n",
              "\t<tr><th scope=row>5</th><td>0</td><td> 0</td><td>0</td><td> 0</td><td>10</td><td>627.500000</td><td>0.02000000</td><td>0.0500000</td><td>0</td><td>0</td><td>Feb</td><td>3</td><td>3</td><td>1</td><td>4</td><td>Returning_Visitor</td><td> TRUE</td><td>FALSE</td></tr>\n",
              "\t<tr><th scope=row>6</th><td>0</td><td> 0</td><td>0</td><td> 0</td><td>19</td><td>154.216667</td><td>0.01578947</td><td>0.0245614</td><td>0</td><td>0</td><td>Feb</td><td>2</td><td>2</td><td>1</td><td>3</td><td>Returning_Visitor</td><td>FALSE</td><td>FALSE</td></tr>\n",
              "</tbody>\n",
              "</table>\n"
            ]
          },
          "metadata": {
            "tags": []
          }
        }
      ]
    },
    {
      "cell_type": "markdown",
      "metadata": {
        "id": "iFIN9xehMoao",
        "colab_type": "text"
      },
      "source": [
        "#2. Exploring the dataset "
      ]
    },
    {
      "cell_type": "code",
      "metadata": {
        "id": "aUd2ODSNMgr-",
        "colab_type": "code",
        "colab": {
          "base_uri": "https://localhost:8080/",
          "height": 33
        },
        "outputId": "138e66d6-4b98-429f-bcd7-46826cd733f9"
      },
      "source": [
        "\n",
        "# different types of pages visited by the visitor in that session and total time spent in each of these page categories.\n",
        "pages_visited <- data[, c(1,2,3,4,5,6)]\n",
        "names(pages_visited)"
      ],
      "execution_count": 2,
      "outputs": [
        {
          "output_type": "display_data",
          "data": {
            "text/plain": [
              "[1] \"Administrative\"          \"Administrative_Duration\"\n",
              "[3] \"Informational\"           \"Informational_Duration\" \n",
              "[5] \"ProductRelated\"          \"ProductRelated_Duration\""
            ],
            "text/latex": "\\begin{enumerate*}\n\\item 'Administrative'\n\\item 'Administrative\\_Duration'\n\\item 'Informational'\n\\item 'Informational\\_Duration'\n\\item 'ProductRelated'\n\\item 'ProductRelated\\_Duration'\n\\end{enumerate*}\n",
            "text/markdown": "1. 'Administrative'\n2. 'Administrative_Duration'\n3. 'Informational'\n4. 'Informational_Duration'\n5. 'ProductRelated'\n6. 'ProductRelated_Duration'\n\n\n",
            "text/html": [
              "<style>\n",
              ".list-inline {list-style: none; margin:0; padding: 0}\n",
              ".list-inline>li {display: inline-block}\n",
              ".list-inline>li:not(:last-child)::after {content: \"\\00b7\"; padding: 0 .5ex}\n",
              "</style>\n",
              "<ol class=list-inline><li>'Administrative'</li><li>'Administrative_Duration'</li><li>'Informational'</li><li>'Informational_Duration'</li><li>'ProductRelated'</li><li>'ProductRelated_Duration'</li></ol>\n"
            ]
          },
          "metadata": {
            "tags": []
          }
        }
      ]
    },
    {
      "cell_type": "code",
      "metadata": {
        "id": "24qtrWYxNEIB",
        "colab_type": "code",
        "colab": {
          "base_uri": "https://localhost:8080/",
          "height": 33
        },
        "outputId": "025d8ac4-2727-4645-b846-36139d97f92e"
      },
      "source": [
        "#metrics measured by \"Google Analytics\" for each page in the e-commerce site.\n",
        "google_metrics <- data[, c(7,8,9)]\n",
        "names(google_metrics)"
      ],
      "execution_count": 3,
      "outputs": [
        {
          "output_type": "display_data",
          "data": {
            "text/plain": [
              "[1] \"BounceRates\" \"ExitRates\"   \"PageValues\" "
            ],
            "text/latex": "\\begin{enumerate*}\n\\item 'BounceRates'\n\\item 'ExitRates'\n\\item 'PageValues'\n\\end{enumerate*}\n",
            "text/markdown": "1. 'BounceRates'\n2. 'ExitRates'\n3. 'PageValues'\n\n\n",
            "text/html": [
              "<style>\n",
              ".list-inline {list-style: none; margin:0; padding: 0}\n",
              ".list-inline>li {display: inline-block}\n",
              ".list-inline>li:not(:last-child)::after {content: \"\\00b7\"; padding: 0 .5ex}\n",
              "</style>\n",
              "<ol class=list-inline><li>'BounceRates'</li><li>'ExitRates'</li><li>'PageValues'</li></ol>\n"
            ]
          },
          "metadata": {
            "tags": []
          }
        }
      ]
    },
    {
      "cell_type": "code",
      "metadata": {
        "id": "up6HbqgDNQE_",
        "colab_type": "code",
        "colab": {
          "base_uri": "https://localhost:8080/",
          "height": 50
        },
        "outputId": "1a09e1e6-e611-4926-93a5-25e391c74283"
      },
      "source": [
        "colnames(data)"
      ],
      "execution_count": 6,
      "outputs": [
        {
          "output_type": "display_data",
          "data": {
            "text/plain": [
              " [1] \"Administrative\"          \"Administrative_Duration\"\n",
              " [3] \"Informational\"           \"Informational_Duration\" \n",
              " [5] \"ProductRelated\"          \"ProductRelated_Duration\"\n",
              " [7] \"BounceRates\"             \"ExitRates\"              \n",
              " [9] \"PageValues\"              \"SpecialDay\"             \n",
              "[11] \"Month\"                   \"OperatingSystems\"       \n",
              "[13] \"Browser\"                 \"Region\"                 \n",
              "[15] \"TrafficType\"             \"VisitorType\"            \n",
              "[17] \"Weekend\"                 \"Revenue\"                "
            ],
            "text/latex": "\\begin{enumerate*}\n\\item 'Administrative'\n\\item 'Administrative\\_Duration'\n\\item 'Informational'\n\\item 'Informational\\_Duration'\n\\item 'ProductRelated'\n\\item 'ProductRelated\\_Duration'\n\\item 'BounceRates'\n\\item 'ExitRates'\n\\item 'PageValues'\n\\item 'SpecialDay'\n\\item 'Month'\n\\item 'OperatingSystems'\n\\item 'Browser'\n\\item 'Region'\n\\item 'TrafficType'\n\\item 'VisitorType'\n\\item 'Weekend'\n\\item 'Revenue'\n\\end{enumerate*}\n",
            "text/markdown": "1. 'Administrative'\n2. 'Administrative_Duration'\n3. 'Informational'\n4. 'Informational_Duration'\n5. 'ProductRelated'\n6. 'ProductRelated_Duration'\n7. 'BounceRates'\n8. 'ExitRates'\n9. 'PageValues'\n10. 'SpecialDay'\n11. 'Month'\n12. 'OperatingSystems'\n13. 'Browser'\n14. 'Region'\n15. 'TrafficType'\n16. 'VisitorType'\n17. 'Weekend'\n18. 'Revenue'\n\n\n",
            "text/html": [
              "<style>\n",
              ".list-inline {list-style: none; margin:0; padding: 0}\n",
              ".list-inline>li {display: inline-block}\n",
              ".list-inline>li:not(:last-child)::after {content: \"\\00b7\"; padding: 0 .5ex}\n",
              "</style>\n",
              "<ol class=list-inline><li>'Administrative'</li><li>'Administrative_Duration'</li><li>'Informational'</li><li>'Informational_Duration'</li><li>'ProductRelated'</li><li>'ProductRelated_Duration'</li><li>'BounceRates'</li><li>'ExitRates'</li><li>'PageValues'</li><li>'SpecialDay'</li><li>'Month'</li><li>'OperatingSystems'</li><li>'Browser'</li><li>'Region'</li><li>'TrafficType'</li><li>'VisitorType'</li><li>'Weekend'</li><li>'Revenue'</li></ol>\n"
            ]
          },
          "metadata": {
            "tags": []
          }
        }
      ]
    },
    {
      "cell_type": "code",
      "metadata": {
        "id": "84117g-fNbop",
        "colab_type": "code",
        "colab": {
          "base_uri": "https://localhost:8080/",
          "height": 727
        },
        "outputId": "f75d9dcd-4d02-4d5a-c32a-81b94c1fb42b"
      },
      "source": [
        "summary(data)"
      ],
      "execution_count": 8,
      "outputs": [
        {
          "output_type": "display_data",
          "data": {
            "text/plain": [
              " Administrative   Administrative_Duration Informational   \n",
              " Min.   : 0.000   Min.   :  -1.00         Min.   : 0.000  \n",
              " 1st Qu.: 0.000   1st Qu.:   0.00         1st Qu.: 0.000  \n",
              " Median : 1.000   Median :   8.00         Median : 0.000  \n",
              " Mean   : 2.318   Mean   :  80.91         Mean   : 0.504  \n",
              " 3rd Qu.: 4.000   3rd Qu.:  93.50         3rd Qu.: 0.000  \n",
              " Max.   :27.000   Max.   :3398.75         Max.   :24.000  \n",
              " NA's   :14       NA's   :14              NA's   :14      \n",
              " Informational_Duration ProductRelated   ProductRelated_Duration\n",
              " Min.   :  -1.00        Min.   :  0.00   Min.   :   -1.0        \n",
              " 1st Qu.:   0.00        1st Qu.:  7.00   1st Qu.:  185.0        \n",
              " Median :   0.00        Median : 18.00   Median :  599.8        \n",
              " Mean   :  34.51        Mean   : 31.76   Mean   : 1196.0        \n",
              " 3rd Qu.:   0.00        3rd Qu.: 38.00   3rd Qu.: 1466.5        \n",
              " Max.   :2549.38        Max.   :705.00   Max.   :63973.5        \n",
              " NA's   :14             NA's   :14       NA's   :14             \n",
              "  BounceRates         ExitRates         PageValues        SpecialDay     \n",
              " Min.   :0.000000   Min.   :0.00000   Min.   :  0.000   Min.   :0.00000  \n",
              " 1st Qu.:0.000000   1st Qu.:0.01429   1st Qu.:  0.000   1st Qu.:0.00000  \n",
              " Median :0.003119   Median :0.02512   Median :  0.000   Median :0.00000  \n",
              " Mean   :0.022152   Mean   :0.04300   Mean   :  5.889   Mean   :0.06143  \n",
              " 3rd Qu.:0.016684   3rd Qu.:0.05000   3rd Qu.:  0.000   3rd Qu.:0.00000  \n",
              " Max.   :0.200000   Max.   :0.20000   Max.   :361.764   Max.   :1.00000  \n",
              " NA's   :14         NA's   :14                                           \n",
              "     Month      OperatingSystems    Browser           Region     \n",
              " May    :3364   Min.   :1.000    Min.   : 1.000   Min.   :1.000  \n",
              " Nov    :2998   1st Qu.:2.000    1st Qu.: 2.000   1st Qu.:1.000  \n",
              " Mar    :1907   Median :2.000    Median : 2.000   Median :3.000  \n",
              " Dec    :1727   Mean   :2.124    Mean   : 2.357   Mean   :3.147  \n",
              " Oct    : 549   3rd Qu.:3.000    3rd Qu.: 2.000   3rd Qu.:4.000  \n",
              " Sep    : 448   Max.   :8.000    Max.   :13.000   Max.   :9.000  \n",
              " (Other):1337                                                    \n",
              "  TrafficType               VisitorType     Weekend         Revenue       \n",
              " Min.   : 1.00   New_Visitor      : 1694   Mode :logical   Mode :logical  \n",
              " 1st Qu.: 2.00   Other            :   85   FALSE:9462      FALSE:10422    \n",
              " Median : 2.00   Returning_Visitor:10551   TRUE :2868      TRUE :1908     \n",
              " Mean   : 4.07                                                            \n",
              " 3rd Qu.: 4.00                                                            \n",
              " Max.   :20.00                                                            \n",
              "                                                                          "
            ]
          },
          "metadata": {
            "tags": []
          }
        }
      ]
    },
    {
      "cell_type": "code",
      "metadata": {
        "id": "HVmXklQHNq3Q",
        "colab_type": "code",
        "colab": {
          "base_uri": "https://localhost:8080/",
          "height": 354
        },
        "outputId": "46dbb720-5e0a-4ee8-fb19-6bb78da27e56"
      },
      "source": [
        "str(data)"
      ],
      "execution_count": 9,
      "outputs": [
        {
          "output_type": "stream",
          "text": [
            "'data.frame':\t12330 obs. of  18 variables:\n",
            " $ Administrative         : int  0 0 0 0 0 0 0 1 0 0 ...\n",
            " $ Administrative_Duration: num  0 0 -1 0 0 0 -1 -1 0 0 ...\n",
            " $ Informational          : int  0 0 0 0 0 0 0 0 0 0 ...\n",
            " $ Informational_Duration : num  0 0 -1 0 0 0 -1 -1 0 0 ...\n",
            " $ ProductRelated         : int  1 2 1 2 10 19 1 1 2 3 ...\n",
            " $ ProductRelated_Duration: num  0 64 -1 2.67 627.5 ...\n",
            " $ BounceRates            : num  0.2 0 0.2 0.05 0.02 ...\n",
            " $ ExitRates              : num  0.2 0.1 0.2 0.14 0.05 ...\n",
            " $ PageValues             : num  0 0 0 0 0 0 0 0 0 0 ...\n",
            " $ SpecialDay             : num  0 0 0 0 0 0 0.4 0 0.8 0.4 ...\n",
            " $ Month                  : Factor w/ 10 levels \"Aug\",\"Dec\",\"Feb\",..: 3 3 3 3 3 3 3 3 3 3 ...\n",
            " $ OperatingSystems       : int  1 2 4 3 3 2 2 1 2 2 ...\n",
            " $ Browser                : int  1 2 1 2 3 2 4 2 2 4 ...\n",
            " $ Region                 : int  1 1 9 2 1 1 3 1 2 1 ...\n",
            " $ TrafficType            : int  1 2 3 4 4 3 3 5 3 2 ...\n",
            " $ VisitorType            : Factor w/ 3 levels \"New_Visitor\",..: 3 3 3 3 3 3 3 3 3 3 ...\n",
            " $ Weekend                : logi  FALSE FALSE FALSE FALSE TRUE FALSE ...\n",
            " $ Revenue                : logi  FALSE FALSE FALSE FALSE FALSE FALSE ...\n"
          ],
          "name": "stdout"
        }
      ]
    },
    {
      "cell_type": "code",
      "metadata": {
        "id": "RM4v9KklNw9G",
        "colab_type": "code",
        "colab": {
          "base_uri": "https://localhost:8080/",
          "height": 83
        },
        "outputId": "f84e7374-3b35-488c-d51c-3b3c2d6b5b86"
      },
      "source": [
        "sapply(data, class)"
      ],
      "execution_count": 11,
      "outputs": [
        {
          "output_type": "display_data",
          "data": {
            "text/plain": [
              "         Administrative Administrative_Duration           Informational \n",
              "              \"integer\"               \"numeric\"               \"integer\" \n",
              " Informational_Duration          ProductRelated ProductRelated_Duration \n",
              "              \"numeric\"               \"integer\"               \"numeric\" \n",
              "            BounceRates               ExitRates              PageValues \n",
              "              \"numeric\"               \"numeric\"               \"numeric\" \n",
              "             SpecialDay                   Month        OperatingSystems \n",
              "              \"numeric\"                \"factor\"               \"integer\" \n",
              "                Browser                  Region             TrafficType \n",
              "              \"integer\"               \"integer\"               \"integer\" \n",
              "            VisitorType                 Weekend                 Revenue \n",
              "               \"factor\"               \"logical\"               \"logical\" "
            ],
            "text/latex": "\\begin{description*}\n\\item[Administrative] 'integer'\n\\item[Administrative\\textbackslash{}\\_Duration] 'numeric'\n\\item[Informational] 'integer'\n\\item[Informational\\textbackslash{}\\_Duration] 'numeric'\n\\item[ProductRelated] 'integer'\n\\item[ProductRelated\\textbackslash{}\\_Duration] 'numeric'\n\\item[BounceRates] 'numeric'\n\\item[ExitRates] 'numeric'\n\\item[PageValues] 'numeric'\n\\item[SpecialDay] 'numeric'\n\\item[Month] 'factor'\n\\item[OperatingSystems] 'integer'\n\\item[Browser] 'integer'\n\\item[Region] 'integer'\n\\item[TrafficType] 'integer'\n\\item[VisitorType] 'factor'\n\\item[Weekend] 'logical'\n\\item[Revenue] 'logical'\n\\end{description*}\n",
            "text/markdown": "Administrative\n:   'integer'Administrative_Duration\n:   'numeric'Informational\n:   'integer'Informational_Duration\n:   'numeric'ProductRelated\n:   'integer'ProductRelated_Duration\n:   'numeric'BounceRates\n:   'numeric'ExitRates\n:   'numeric'PageValues\n:   'numeric'SpecialDay\n:   'numeric'Month\n:   'factor'OperatingSystems\n:   'integer'Browser\n:   'integer'Region\n:   'integer'TrafficType\n:   'integer'VisitorType\n:   'factor'Weekend\n:   'logical'Revenue\n:   'logical'\n\n",
            "text/html": [
              "<style>\n",
              ".dl-inline {width: auto; margin:0; padding: 0}\n",
              ".dl-inline>dt, .dl-inline>dd {float: none; width: auto; display: inline-block}\n",
              ".dl-inline>dt::after {content: \":\\0020\"; padding-right: .5ex}\n",
              ".dl-inline>dt:not(:first-of-type) {padding-left: .5ex}\n",
              "</style><dl class=dl-inline><dt>Administrative</dt><dd>'integer'</dd><dt>Administrative_Duration</dt><dd>'numeric'</dd><dt>Informational</dt><dd>'integer'</dd><dt>Informational_Duration</dt><dd>'numeric'</dd><dt>ProductRelated</dt><dd>'integer'</dd><dt>ProductRelated_Duration</dt><dd>'numeric'</dd><dt>BounceRates</dt><dd>'numeric'</dd><dt>ExitRates</dt><dd>'numeric'</dd><dt>PageValues</dt><dd>'numeric'</dd><dt>SpecialDay</dt><dd>'numeric'</dd><dt>Month</dt><dd>'factor'</dd><dt>OperatingSystems</dt><dd>'integer'</dd><dt>Browser</dt><dd>'integer'</dd><dt>Region</dt><dd>'integer'</dd><dt>TrafficType</dt><dd>'integer'</dd><dt>VisitorType</dt><dd>'factor'</dd><dt>Weekend</dt><dd>'logical'</dd><dt>Revenue</dt><dd>'logical'</dd></dl>\n"
            ]
          },
          "metadata": {
            "tags": []
          }
        }
      ]
    },
    {
      "cell_type": "markdown",
      "metadata": {
        "id": "7vCtJGjzN9cL",
        "colab_type": "text"
      },
      "source": [
        "#3. Data Cleaning "
      ]
    },
    {
      "cell_type": "markdown",
      "metadata": {
        "id": "d0tyYEdGOBHZ",
        "colab_type": "text"
      },
      "source": [
        "###Misssing values"
      ]
    },
    {
      "cell_type": "code",
      "metadata": {
        "id": "ugg2fNNCN2Kw",
        "colab_type": "code",
        "colab": {
          "base_uri": "https://localhost:8080/",
          "height": 66
        },
        "outputId": "9ebc2f76-db6c-4fdc-e27b-6eefe00a68a3"
      },
      "source": [
        "\n",
        "# Total missing values in each column \n",
        "# by using the function colSums()\n",
        "\n",
        "colSums(is.na(data))"
      ],
      "execution_count": 13,
      "outputs": [
        {
          "output_type": "display_data",
          "data": {
            "text/plain": [
              "         Administrative Administrative_Duration           Informational \n",
              "                     14                      14                      14 \n",
              " Informational_Duration          ProductRelated ProductRelated_Duration \n",
              "                     14                      14                      14 \n",
              "            BounceRates               ExitRates              PageValues \n",
              "                     14                      14                       0 \n",
              "             SpecialDay                   Month        OperatingSystems \n",
              "                      0                       0                       0 \n",
              "                Browser                  Region             TrafficType \n",
              "                      0                       0                       0 \n",
              "            VisitorType                 Weekend                 Revenue \n",
              "                      0                       0                       0 "
            ],
            "text/latex": "\\begin{description*}\n\\item[Administrative] 14\n\\item[Administrative\\textbackslash{}\\_Duration] 14\n\\item[Informational] 14\n\\item[Informational\\textbackslash{}\\_Duration] 14\n\\item[ProductRelated] 14\n\\item[ProductRelated\\textbackslash{}\\_Duration] 14\n\\item[BounceRates] 14\n\\item[ExitRates] 14\n\\item[PageValues] 0\n\\item[SpecialDay] 0\n\\item[Month] 0\n\\item[OperatingSystems] 0\n\\item[Browser] 0\n\\item[Region] 0\n\\item[TrafficType] 0\n\\item[VisitorType] 0\n\\item[Weekend] 0\n\\item[Revenue] 0\n\\end{description*}\n",
            "text/markdown": "Administrative\n:   14Administrative_Duration\n:   14Informational\n:   14Informational_Duration\n:   14ProductRelated\n:   14ProductRelated_Duration\n:   14BounceRates\n:   14ExitRates\n:   14PageValues\n:   0SpecialDay\n:   0Month\n:   0OperatingSystems\n:   0Browser\n:   0Region\n:   0TrafficType\n:   0VisitorType\n:   0Weekend\n:   0Revenue\n:   0\n\n",
            "text/html": [
              "<style>\n",
              ".dl-inline {width: auto; margin:0; padding: 0}\n",
              ".dl-inline>dt, .dl-inline>dd {float: none; width: auto; display: inline-block}\n",
              ".dl-inline>dt::after {content: \":\\0020\"; padding-right: .5ex}\n",
              ".dl-inline>dt:not(:first-of-type) {padding-left: .5ex}\n",
              "</style><dl class=dl-inline><dt>Administrative</dt><dd>14</dd><dt>Administrative_Duration</dt><dd>14</dd><dt>Informational</dt><dd>14</dd><dt>Informational_Duration</dt><dd>14</dd><dt>ProductRelated</dt><dd>14</dd><dt>ProductRelated_Duration</dt><dd>14</dd><dt>BounceRates</dt><dd>14</dd><dt>ExitRates</dt><dd>14</dd><dt>PageValues</dt><dd>0</dd><dt>SpecialDay</dt><dd>0</dd><dt>Month</dt><dd>0</dd><dt>OperatingSystems</dt><dd>0</dd><dt>Browser</dt><dd>0</dd><dt>Region</dt><dd>0</dd><dt>TrafficType</dt><dd>0</dd><dt>VisitorType</dt><dd>0</dd><dt>Weekend</dt><dd>0</dd><dt>Revenue</dt><dd>0</dd></dl>\n"
            ]
          },
          "metadata": {
            "tags": []
          }
        }
      ]
    },
    {
      "cell_type": "code",
      "metadata": {
        "id": "27JRliRgOkmn",
        "colab_type": "code",
        "colab": {
          "base_uri": "https://localhost:8080/",
          "height": 123
        },
        "outputId": "8fcc8dd8-9a29-42de-aba4-9797395f0a79"
      },
      "source": [
        "install.packages(\"naniar\")"
      ],
      "execution_count": 15,
      "outputs": [
        {
          "output_type": "stream",
          "text": [
            "Installing package into ‘/usr/local/lib/R/site-library’\n",
            "(as ‘lib’ is unspecified)\n",
            "\n",
            "also installing the dependencies ‘gridExtra’, ‘plyr’, ‘visdat’, ‘viridis’, ‘UpSetR’\n",
            "\n",
            "\n"
          ],
          "name": "stderr"
        }
      ]
    },
    {
      "cell_type": "code",
      "metadata": {
        "id": "sN--jc4dOJaZ",
        "colab_type": "code",
        "colab": {
          "base_uri": "https://localhost:8080/",
          "height": 436
        },
        "outputId": "ec7aabd5-998a-49f8-9865-582ebb1e30c2"
      },
      "source": [
        "# Visualizing missing values\n",
        "\n",
        "library(naniar)\n",
        "gg_miss_var(data)"
      ],
      "execution_count": 16,
      "outputs": [
        {
          "output_type": "display_data",
          "data": {
            "image/png": "[encoded data removed]",
            "text/plain": [
              "plot without title"
            ]
          },
          "metadata": {
            "tags": [],
            "image/png": {
              "width": 420,
              "height": 420
            }
          }
        }
      ]
    },
    {
      "cell_type": "code",
      "metadata": {
        "id": "PZaJa9fQOcaN",
        "colab_type": "code",
        "colab": {
          "base_uri": "https://localhost:8080/",
          "height": 436
        },
        "outputId": "b4f1c670-6bd2-4929-a250-64d9ad324e60"
      },
      "source": [
        "vis_miss(data)"
      ],
      "execution_count": 17,
      "outputs": [
        {
          "output_type": "display_data",
          "data": {
            "image/png": "[encoded data removed]",
            "text/plain": [
              "plot without title"
            ]
          },
          "metadata": {
            "tags": [],
            "image/png": {
              "width": 420,
              "height": 420
            }
          }
        }
      ]
    },
    {
      "cell_type": "code",
      "metadata": {
        "id": "xNMRJEBbPEgv",
        "colab_type": "code",
        "colab": {
          "base_uri": "https://localhost:8080/",
          "height": 66
        },
        "outputId": "5e24e55c-8dab-47f6-8e23-f1a8096cc877"
      },
      "source": [
        "data <- na.omit(data) \n",
        "\n",
        "# confirm the values have been dropped\n",
        "colSums(is.na(data))"
      ],
      "execution_count": 18,
      "outputs": [
        {
          "output_type": "display_data",
          "data": {
            "text/plain": [
              "         Administrative Administrative_Duration           Informational \n",
              "                      0                       0                       0 \n",
              " Informational_Duration          ProductRelated ProductRelated_Duration \n",
              "                      0                       0                       0 \n",
              "            BounceRates               ExitRates              PageValues \n",
              "                      0                       0                       0 \n",
              "             SpecialDay                   Month        OperatingSystems \n",
              "                      0                       0                       0 \n",
              "                Browser                  Region             TrafficType \n",
              "                      0                       0                       0 \n",
              "            VisitorType                 Weekend                 Revenue \n",
              "                      0                       0                       0 "
            ],
            "text/latex": "\\begin{description*}\n\\item[Administrative] 0\n\\item[Administrative\\textbackslash{}\\_Duration] 0\n\\item[Informational] 0\n\\item[Informational\\textbackslash{}\\_Duration] 0\n\\item[ProductRelated] 0\n\\item[ProductRelated\\textbackslash{}\\_Duration] 0\n\\item[BounceRates] 0\n\\item[ExitRates] 0\n\\item[PageValues] 0\n\\item[SpecialDay] 0\n\\item[Month] 0\n\\item[OperatingSystems] 0\n\\item[Browser] 0\n\\item[Region] 0\n\\item[TrafficType] 0\n\\item[VisitorType] 0\n\\item[Weekend] 0\n\\item[Revenue] 0\n\\end{description*}\n",
            "text/markdown": "Administrative\n:   0Administrative_Duration\n:   0Informational\n:   0Informational_Duration\n:   0ProductRelated\n:   0ProductRelated_Duration\n:   0BounceRates\n:   0ExitRates\n:   0PageValues\n:   0SpecialDay\n:   0Month\n:   0OperatingSystems\n:   0Browser\n:   0Region\n:   0TrafficType\n:   0VisitorType\n:   0Weekend\n:   0Revenue\n:   0\n\n",
            "text/html": [
              "<style>\n",
              ".dl-inline {width: auto; margin:0; padding: 0}\n",
              ".dl-inline>dt, .dl-inline>dd {float: none; width: auto; display: inline-block}\n",
              ".dl-inline>dt::after {content: \":\\0020\"; padding-right: .5ex}\n",
              ".dl-inline>dt:not(:first-of-type) {padding-left: .5ex}\n",
              "</style><dl class=dl-inline><dt>Administrative</dt><dd>0</dd><dt>Administrative_Duration</dt><dd>0</dd><dt>Informational</dt><dd>0</dd><dt>Informational_Duration</dt><dd>0</dd><dt>ProductRelated</dt><dd>0</dd><dt>ProductRelated_Duration</dt><dd>0</dd><dt>BounceRates</dt><dd>0</dd><dt>ExitRates</dt><dd>0</dd><dt>PageValues</dt><dd>0</dd><dt>SpecialDay</dt><dd>0</dd><dt>Month</dt><dd>0</dd><dt>OperatingSystems</dt><dd>0</dd><dt>Browser</dt><dd>0</dd><dt>Region</dt><dd>0</dd><dt>TrafficType</dt><dd>0</dd><dt>VisitorType</dt><dd>0</dd><dt>Weekend</dt><dd>0</dd><dt>Revenue</dt><dd>0</dd></dl>\n"
            ]
          },
          "metadata": {
            "tags": []
          }
        }
      ]
    },
    {
      "cell_type": "markdown",
      "metadata": {
        "id": "NxWRpfJqPe-e",
        "colab_type": "text"
      },
      "source": [
        "###Duplicated rows"
      ]
    },
    {
      "cell_type": "code",
      "metadata": {
        "id": "NfyTPkMBPOAw",
        "colab_type": "code",
        "colab": {
          "base_uri": "https://localhost:8080/",
          "height": 196
        },
        "outputId": "fb83adfb-3529-4375-b5e8-152c5797b5cf"
      },
      "source": [
        "\n",
        "duplicated_rows <- data[duplicated(data),]\n",
        "head(duplicated_rows)\n",
        "\n"
      ],
      "execution_count": 22,
      "outputs": [
        {
          "output_type": "display_data",
          "data": {
            "text/plain": [
              "    Administrative Administrative_Duration Informational Informational_Duration\n",
              "159 0              0                       0             0                     \n",
              "179 0              0                       0             0                     \n",
              "419 0              0                       0             0                     \n",
              "457 0              0                       0             0                     \n",
              "484 0              0                       0             0                     \n",
              "513 0              0                       0             0                     \n",
              "    ProductRelated ProductRelated_Duration BounceRates ExitRates PageValues\n",
              "159 1              0                       0.2         0.2       0         \n",
              "179 1              0                       0.2         0.2       0         \n",
              "419 1              0                       0.2         0.2       0         \n",
              "457 1              0                       0.2         0.2       0         \n",
              "484 1              0                       0.2         0.2       0         \n",
              "513 1              0                       0.2         0.2       0         \n",
              "    SpecialDay Month OperatingSystems Browser Region TrafficType\n",
              "159 0          Feb   1                1       1      3          \n",
              "179 0          Feb   3                2       3      3          \n",
              "419 0          Mar   1                1       1      1          \n",
              "457 0          Mar   2                2       4      1          \n",
              "484 0          Mar   3                2       3      1          \n",
              "513 0          Mar   2                2       1      1          \n",
              "    VisitorType       Weekend Revenue\n",
              "159 Returning_Visitor FALSE   FALSE  \n",
              "179 Returning_Visitor FALSE   FALSE  \n",
              "419 Returning_Visitor  TRUE   FALSE  \n",
              "457 Returning_Visitor FALSE   FALSE  \n",
              "484 Returning_Visitor FALSE   FALSE  \n",
              "513 Returning_Visitor FALSE   FALSE  "
            ],
            "text/latex": "A data.frame: 6 × 18\n\\begin{tabular}{r|llllllllllllllllll}\n  & Administrative & Administrative\\_Duration & Informational & Informational\\_Duration & ProductRelated & ProductRelated\\_Duration & BounceRates & ExitRates & PageValues & SpecialDay & Month & OperatingSystems & Browser & Region & TrafficType & VisitorType & Weekend & Revenue\\\\\n  & <int> & <dbl> & <int> & <dbl> & <int> & <dbl> & <dbl> & <dbl> & <dbl> & <dbl> & <fct> & <int> & <int> & <int> & <int> & <fct> & <lgl> & <lgl>\\\\\n\\hline\n\t159 & 0 & 0 & 0 & 0 & 1 & 0 & 0.2 & 0.2 & 0 & 0 & Feb & 1 & 1 & 1 & 3 & Returning\\_Visitor & FALSE & FALSE\\\\\n\t179 & 0 & 0 & 0 & 0 & 1 & 0 & 0.2 & 0.2 & 0 & 0 & Feb & 3 & 2 & 3 & 3 & Returning\\_Visitor & FALSE & FALSE\\\\\n\t419 & 0 & 0 & 0 & 0 & 1 & 0 & 0.2 & 0.2 & 0 & 0 & Mar & 1 & 1 & 1 & 1 & Returning\\_Visitor &  TRUE & FALSE\\\\\n\t457 & 0 & 0 & 0 & 0 & 1 & 0 & 0.2 & 0.2 & 0 & 0 & Mar & 2 & 2 & 4 & 1 & Returning\\_Visitor & FALSE & FALSE\\\\\n\t484 & 0 & 0 & 0 & 0 & 1 & 0 & 0.2 & 0.2 & 0 & 0 & Mar & 3 & 2 & 3 & 1 & Returning\\_Visitor & FALSE & FALSE\\\\\n\t513 & 0 & 0 & 0 & 0 & 1 & 0 & 0.2 & 0.2 & 0 & 0 & Mar & 2 & 2 & 1 & 1 & Returning\\_Visitor & FALSE & FALSE\\\\\n\\end{tabular}\n",
            "text/markdown": "\nA data.frame: 6 × 18\n\n| <!--/--> | Administrative &lt;int&gt; | Administrative_Duration &lt;dbl&gt; | Informational &lt;int&gt; | Informational_Duration &lt;dbl&gt; | ProductRelated &lt;int&gt; | ProductRelated_Duration &lt;dbl&gt; | BounceRates &lt;dbl&gt; | ExitRates &lt;dbl&gt; | PageValues &lt;dbl&gt; | SpecialDay &lt;dbl&gt; | Month &lt;fct&gt; | OperatingSystems &lt;int&gt; | Browser &lt;int&gt; | Region &lt;int&gt; | TrafficType &lt;int&gt; | VisitorType &lt;fct&gt; | Weekend &lt;lgl&gt; | Revenue &lt;lgl&gt; |\n|---|---|---|---|---|---|---|---|---|---|---|---|---|---|---|---|---|---|---|\n| 159 | 0 | 0 | 0 | 0 | 1 | 0 | 0.2 | 0.2 | 0 | 0 | Feb | 1 | 1 | 1 | 3 | Returning_Visitor | FALSE | FALSE |\n| 179 | 0 | 0 | 0 | 0 | 1 | 0 | 0.2 | 0.2 | 0 | 0 | Feb | 3 | 2 | 3 | 3 | Returning_Visitor | FALSE | FALSE |\n| 419 | 0 | 0 | 0 | 0 | 1 | 0 | 0.2 | 0.2 | 0 | 0 | Mar | 1 | 1 | 1 | 1 | Returning_Visitor |  TRUE | FALSE |\n| 457 | 0 | 0 | 0 | 0 | 1 | 0 | 0.2 | 0.2 | 0 | 0 | Mar | 2 | 2 | 4 | 1 | Returning_Visitor | FALSE | FALSE |\n| 484 | 0 | 0 | 0 | 0 | 1 | 0 | 0.2 | 0.2 | 0 | 0 | Mar | 3 | 2 | 3 | 1 | Returning_Visitor | FALSE | FALSE |\n| 513 | 0 | 0 | 0 | 0 | 1 | 0 | 0.2 | 0.2 | 0 | 0 | Mar | 2 | 2 | 1 | 1 | Returning_Visitor | FALSE | FALSE |\n\n",
            "text/html": [
              "<table>\n",
              "<caption>A data.frame: 6 × 18</caption>\n",
              "<thead>\n",
              "\t<tr><th></th><th scope=col>Administrative</th><th scope=col>Administrative_Duration</th><th scope=col>Informational</th><th scope=col>Informational_Duration</th><th scope=col>ProductRelated</th><th scope=col>ProductRelated_Duration</th><th scope=col>BounceRates</th><th scope=col>ExitRates</th><th scope=col>PageValues</th><th scope=col>SpecialDay</th><th scope=col>Month</th><th scope=col>OperatingSystems</th><th scope=col>Browser</th><th scope=col>Region</th><th scope=col>TrafficType</th><th scope=col>VisitorType</th><th scope=col>Weekend</th><th scope=col>Revenue</th></tr>\n",
              "\t<tr><th></th><th scope=col>&lt;int&gt;</th><th scope=col>&lt;dbl&gt;</th><th scope=col>&lt;int&gt;</th><th scope=col>&lt;dbl&gt;</th><th scope=col>&lt;int&gt;</th><th scope=col>&lt;dbl&gt;</th><th scope=col>&lt;dbl&gt;</th><th scope=col>&lt;dbl&gt;</th><th scope=col>&lt;dbl&gt;</th><th scope=col>&lt;dbl&gt;</th><th scope=col>&lt;fct&gt;</th><th scope=col>&lt;int&gt;</th><th scope=col>&lt;int&gt;</th><th scope=col>&lt;int&gt;</th><th scope=col>&lt;int&gt;</th><th scope=col>&lt;fct&gt;</th><th scope=col>&lt;lgl&gt;</th><th scope=col>&lt;lgl&gt;</th></tr>\n",
              "</thead>\n",
              "<tbody>\n",
              "\t<tr><th scope=row>159</th><td>0</td><td>0</td><td>0</td><td>0</td><td>1</td><td>0</td><td>0.2</td><td>0.2</td><td>0</td><td>0</td><td>Feb</td><td>1</td><td>1</td><td>1</td><td>3</td><td>Returning_Visitor</td><td>FALSE</td><td>FALSE</td></tr>\n",
              "\t<tr><th scope=row>179</th><td>0</td><td>0</td><td>0</td><td>0</td><td>1</td><td>0</td><td>0.2</td><td>0.2</td><td>0</td><td>0</td><td>Feb</td><td>3</td><td>2</td><td>3</td><td>3</td><td>Returning_Visitor</td><td>FALSE</td><td>FALSE</td></tr>\n",
              "\t<tr><th scope=row>419</th><td>0</td><td>0</td><td>0</td><td>0</td><td>1</td><td>0</td><td>0.2</td><td>0.2</td><td>0</td><td>0</td><td>Mar</td><td>1</td><td>1</td><td>1</td><td>1</td><td>Returning_Visitor</td><td> TRUE</td><td>FALSE</td></tr>\n",
              "\t<tr><th scope=row>457</th><td>0</td><td>0</td><td>0</td><td>0</td><td>1</td><td>0</td><td>0.2</td><td>0.2</td><td>0</td><td>0</td><td>Mar</td><td>2</td><td>2</td><td>4</td><td>1</td><td>Returning_Visitor</td><td>FALSE</td><td>FALSE</td></tr>\n",
              "\t<tr><th scope=row>484</th><td>0</td><td>0</td><td>0</td><td>0</td><td>1</td><td>0</td><td>0.2</td><td>0.2</td><td>0</td><td>0</td><td>Mar</td><td>3</td><td>2</td><td>3</td><td>1</td><td>Returning_Visitor</td><td>FALSE</td><td>FALSE</td></tr>\n",
              "\t<tr><th scope=row>513</th><td>0</td><td>0</td><td>0</td><td>0</td><td>1</td><td>0</td><td>0.2</td><td>0.2</td><td>0</td><td>0</td><td>Mar</td><td>2</td><td>2</td><td>1</td><td>1</td><td>Returning_Visitor</td><td>FALSE</td><td>FALSE</td></tr>\n",
              "</tbody>\n",
              "</table>\n"
            ]
          },
          "metadata": {
            "tags": []
          }
        }
      ]
    },
    {
      "cell_type": "code",
      "metadata": {
        "id": "j3juSJ7KPsSI",
        "colab_type": "code",
        "colab": {
          "base_uri": "https://localhost:8080/",
          "height": 33
        },
        "outputId": "c4d15a24-b534-45cc-be20-57543f7a72f0"
      },
      "source": [
        "# now gettiing the dimension of the duplicated data to actually see how mucg in \n",
        "# total is missing \n",
        "dim(duplicated_rows)"
      ],
      "execution_count": 23,
      "outputs": [
        {
          "output_type": "display_data",
          "data": {
            "text/plain": [
              "[1] 117  18"
            ],
            "text/latex": "\\begin{enumerate*}\n\\item 117\n\\item 18\n\\end{enumerate*}\n",
            "text/markdown": "1. 117\n2. 18\n\n\n",
            "text/html": [
              "<style>\n",
              ".list-inline {list-style: none; margin:0; padding: 0}\n",
              ".list-inline>li {display: inline-block}\n",
              ".list-inline>li:not(:last-child)::after {content: \"\\00b7\"; padding: 0 .5ex}\n",
              "</style>\n",
              "<ol class=list-inline><li>117</li><li>18</li></ol>\n"
            ]
          },
          "metadata": {
            "tags": []
          }
        }
      ]
    },
    {
      "cell_type": "code",
      "metadata": {
        "id": "iLojAlJiQHfT",
        "colab_type": "code",
        "colab": {
          "base_uri": "https://localhost:8080/",
          "height": 33
        },
        "outputId": "b4889b35-97a7-4dfb-8d01-334a3b5563c8"
      },
      "source": [
        "\n",
        "# pick the non-duplicated rows\n",
        "data = data[!duplicated(data), ]\n",
        "dim(data)\n"
      ],
      "execution_count": 24,
      "outputs": [
        {
          "output_type": "display_data",
          "data": {
            "text/plain": [
              "[1] 12199    18"
            ],
            "text/latex": "\\begin{enumerate*}\n\\item 12199\n\\item 18\n\\end{enumerate*}\n",
            "text/markdown": "1. 12199\n2. 18\n\n\n",
            "text/html": [
              "<style>\n",
              ".list-inline {list-style: none; margin:0; padding: 0}\n",
              ".list-inline>li {display: inline-block}\n",
              ".list-inline>li:not(:last-child)::after {content: \"\\00b7\"; padding: 0 .5ex}\n",
              "</style>\n",
              "<ol class=list-inline><li>12199</li><li>18</li></ol>\n"
            ]
          },
          "metadata": {
            "tags": []
          }
        }
      ]
    },
    {
      "cell_type": "markdown",
      "metadata": {
        "id": "nepWnBBqQm12",
        "colab_type": "text"
      },
      "source": [
        ""
      ]
    },
    {
      "cell_type": "markdown",
      "metadata": {
        "id": "GSAIkyYFQm7F",
        "colab_type": "text"
      },
      "source": [
        "###Outliers"
      ]
    },
    {
      "cell_type": "code",
      "metadata": {
        "id": "F4syF_4sQQxI",
        "colab_type": "code",
        "colab": {
          "base_uri": "https://localhost:8080/",
          "height": 436
        },
        "outputId": "d6d03277-263e-41d8-eb99-0725c5903531"
      },
      "source": [
        "boxplot(data)"
      ],
      "execution_count": 25,
      "outputs": [
        {
          "output_type": "display_data",
          "data": {
            "image/png": "[encoded data removed]",
            "text/plain": [
              "plot without title"
            ]
          },
          "metadata": {
            "tags": [],
            "image/png": {
              "width": 420,
              "height": 420
            }
          }
        }
      ]
    },
    {
      "cell_type": "code",
      "metadata": {
        "id": "3OKttAqVSg_z",
        "colab_type": "code",
        "colab": {
          "base_uri": "https://localhost:8080/",
          "height": 50
        },
        "outputId": "20e2a2b8-ee5c-4f17-c17a-9cd118cc0918"
      },
      "source": [
        "# Subset your data to numerical columns only\n",
        "num <- data[, c(1,2,3,4,5,6,7,8,9,10)]\n",
        "names(num)"
      ],
      "execution_count": 26,
      "outputs": [
        {
          "output_type": "display_data",
          "data": {
            "text/plain": [
              " [1] \"Administrative\"          \"Administrative_Duration\"\n",
              " [3] \"Informational\"           \"Informational_Duration\" \n",
              " [5] \"ProductRelated\"          \"ProductRelated_Duration\"\n",
              " [7] \"BounceRates\"             \"ExitRates\"              \n",
              " [9] \"PageValues\"              \"SpecialDay\"             "
            ],
            "text/latex": "\\begin{enumerate*}\n\\item 'Administrative'\n\\item 'Administrative\\_Duration'\n\\item 'Informational'\n\\item 'Informational\\_Duration'\n\\item 'ProductRelated'\n\\item 'ProductRelated\\_Duration'\n\\item 'BounceRates'\n\\item 'ExitRates'\n\\item 'PageValues'\n\\item 'SpecialDay'\n\\end{enumerate*}\n",
            "text/markdown": "1. 'Administrative'\n2. 'Administrative_Duration'\n3. 'Informational'\n4. 'Informational_Duration'\n5. 'ProductRelated'\n6. 'ProductRelated_Duration'\n7. 'BounceRates'\n8. 'ExitRates'\n9. 'PageValues'\n10. 'SpecialDay'\n\n\n",
            "text/html": [
              "<style>\n",
              ".list-inline {list-style: none; margin:0; padding: 0}\n",
              ".list-inline>li {display: inline-block}\n",
              ".list-inline>li:not(:last-child)::after {content: \"\\00b7\"; padding: 0 .5ex}\n",
              "</style>\n",
              "<ol class=list-inline><li>'Administrative'</li><li>'Administrative_Duration'</li><li>'Informational'</li><li>'Informational_Duration'</li><li>'ProductRelated'</li><li>'ProductRelated_Duration'</li><li>'BounceRates'</li><li>'ExitRates'</li><li>'PageValues'</li><li>'SpecialDay'</li></ol>\n"
            ]
          },
          "metadata": {
            "tags": []
          }
        }
      ]
    },
    {
      "cell_type": "code",
      "metadata": {
        "id": "x97yWBKcUtLm",
        "colab_type": "code",
        "colab": {
          "base_uri": "https://localhost:8080/",
          "height": 436
        },
        "outputId": "9aeb54d6-6afa-485c-db56-951fc9d4b8c3"
      },
      "source": [
        "boxplot(BounceRates~Month,\n",
        "data=data,\n",
        "main=\"bouncerates for each month\",\n",
        "xlab=\"Month\",\n",
        "ylab=\"Bounce Rates\",\n",
        "col=\"black\",\n",
        "border=\"orange\"\n",
        ")"
      ],
      "execution_count": 34,
      "outputs": [
        {
          "output_type": "display_data",
          "data": {
            "image/png": "[encoded data removed]",
            "text/plain": [
              "Plot with title “bouncerates for each month”"
            ]
          },
          "metadata": {
            "tags": [],
            "image/png": {
              "width": 420,
              "height": 420
            }
          }
        }
      ]
    },
    {
      "cell_type": "markdown",
      "metadata": {
        "id": "sJIiskzYWAhg",
        "colab_type": "text"
      },
      "source": [
        "#4.Exploratory Data analysis "
      ]
    },
    {
      "cell_type": "markdown",
      "metadata": {
        "id": "yFsVw1yrWLe4",
        "colab_type": "text"
      },
      "source": [
        "##Univariate Analysis"
      ]
    },
    {
      "cell_type": "code",
      "metadata": {
        "id": "soDFUVcNVLI8",
        "colab_type": "code",
        "colab": {
          "base_uri": "https://localhost:8080/",
          "height": 123
        },
        "outputId": "40b1497b-5a5e-4395-9b87-4f88dd28db93"
      },
      "source": [
        "install.packages(\"DataExplorer\")\n",
        "library(DataExplorer)"
      ],
      "execution_count": 36,
      "outputs": [
        {
          "output_type": "stream",
          "text": [
            "Installing package into ‘/usr/local/lib/R/site-library’\n",
            "(as ‘lib’ is unspecified)\n",
            "\n",
            "also installing the dependencies ‘igraph’, ‘data.table’, ‘reshape2’, ‘networkD3’\n",
            "\n",
            "\n"
          ],
          "name": "stderr"
        }
      ]
    },
    {
      "cell_type": "code",
      "metadata": {
        "id": "2eDR2_v7aPXa",
        "colab_type": "code",
        "colab": {
          "base_uri": "https://localhost:8080/",
          "height": 436
        },
        "outputId": "93102a98-81ed-4b19-9d88-3a366877b13f"
      },
      "source": [
        "plot_histogram(data)\n",
        "\n"
      ],
      "execution_count": 39,
      "outputs": [
        {
          "output_type": "display_data",
          "data": {
            "image/png": "[encoded data removed]",
            "text/plain": [
              "plot without title"
            ]
          },
          "metadata": {
            "tags": [],
            "image/png": {
              "width": 420,
              "height": 420
            }
          }
        }
      ]
    },
    {
      "cell_type": "code",
      "metadata": {
        "id": "GANL6iW5ajlE",
        "colab_type": "code",
        "colab": {
          "base_uri": "https://localhost:8080/",
          "height": 33
        },
        "outputId": "73c41348-0536-44ee-8a8f-63f82590ee45"
      },
      "source": [
        "cat <- data[, c(11:18)]\n",
        "names(cat)"
      ],
      "execution_count": 43,
      "outputs": [
        {
          "output_type": "display_data",
          "data": {
            "text/plain": [
              "[1] \"Month\"            \"OperatingSystems\" \"Browser\"          \"Region\"          \n",
              "[5] \"TrafficType\"      \"VisitorType\"      \"Weekend\"          \"Revenue\"         "
            ],
            "text/latex": "\\begin{enumerate*}\n\\item 'Month'\n\\item 'OperatingSystems'\n\\item 'Browser'\n\\item 'Region'\n\\item 'TrafficType'\n\\item 'VisitorType'\n\\item 'Weekend'\n\\item 'Revenue'\n\\end{enumerate*}\n",
            "text/markdown": "1. 'Month'\n2. 'OperatingSystems'\n3. 'Browser'\n4. 'Region'\n5. 'TrafficType'\n6. 'VisitorType'\n7. 'Weekend'\n8. 'Revenue'\n\n\n",
            "text/html": [
              "<style>\n",
              ".list-inline {list-style: none; margin:0; padding: 0}\n",
              ".list-inline>li {display: inline-block}\n",
              ".list-inline>li:not(:last-child)::after {content: \"\\00b7\"; padding: 0 .5ex}\n",
              "</style>\n",
              "<ol class=list-inline><li>'Month'</li><li>'OperatingSystems'</li><li>'Browser'</li><li>'Region'</li><li>'TrafficType'</li><li>'VisitorType'</li><li>'Weekend'</li><li>'Revenue'</li></ol>\n"
            ]
          },
          "metadata": {
            "tags": []
          }
        }
      ]
    },
    {
      "cell_type": "code",
      "metadata": {
        "id": "PlECVm8NbJC9",
        "colab_type": "code",
        "colab": {
          "base_uri": "https://localhost:8080/",
          "height": 436
        },
        "outputId": "e09eab6b-3c31-4756-cd4f-c9e7bea7ff82"
      },
      "source": [
        "plot_bar(cat)"
      ],
      "execution_count": 44,
      "outputs": [
        {
          "output_type": "display_data",
          "data": {
            "image/png": "[encoded data removed]",
            "text/plain": [
              "plot without title"
            ]
          },
          "metadata": {
            "tags": [],
            "image/png": {
              "width": 420,
              "height": 420
            }
          }
        }
      ]
    },
    {
      "cell_type": "markdown",
      "metadata": {
        "id": "nwBVApbTcoFH",
        "colab_type": "text"
      },
      "source": [
        "#5.Modelling "
      ]
    },
    {
      "cell_type": "markdown",
      "metadata": {
        "id": "6W9hZQ6qdv_d",
        "colab_type": "text"
      },
      "source": [
        "###K-Means CLustering"
      ]
    },
    {
      "cell_type": "code",
      "metadata": {
        "id": "nVUGpqRDd675",
        "colab_type": "code",
        "colab": {}
      },
      "source": [
        "a = c('Month','VisitorType', 'Weekend')\n",
        "for (i in a){\n",
        "    data[,i] = as.numeric(data[,i])\n",
        "}"
      ],
      "execution_count": 46,
      "outputs": []
    },
    {
      "cell_type": "code",
      "metadata": {
        "id": "LVM-WbDscnP5",
        "colab_type": "code",
        "colab": {}
      },
      "source": [
        "b = c(\"OperatingSystems\", \"Browser\", \"Region\", \"TrafficType\")\n",
        "for (i in b) {\n",
        "    data[, i] = as.factor(data[, i])\n",
        "}"
      ],
      "execution_count": 47,
      "outputs": []
    },
    {
      "cell_type": "code",
      "metadata": {
        "id": "ZypW2xrCb96t",
        "colab_type": "code",
        "colab": {
          "base_uri": "https://localhost:8080/",
          "height": 196
        },
        "outputId": "f9c99b7a-1410-4406-96ac-53ed38e26759"
      },
      "source": [
        "data.new <- data[, c(1,2,3,4,5,6,7,8,9,10,11,12,13,14,15,16,17)]\n",
        "data.class<- data[, \"Revenue\"]\n",
        "head(data.new)"
      ],
      "execution_count": 48,
      "outputs": [
        {
          "output_type": "display_data",
          "data": {
            "text/plain": [
              "  Administrative Administrative_Duration Informational Informational_Duration\n",
              "1 0               0                      0              0                    \n",
              "2 0               0                      0              0                    \n",
              "3 0              -1                      0             -1                    \n",
              "4 0               0                      0              0                    \n",
              "5 0               0                      0              0                    \n",
              "6 0               0                      0              0                    \n",
              "  ProductRelated ProductRelated_Duration BounceRates ExitRates PageValues\n",
              "1  1               0.000000              0.20000000  0.2000000 0         \n",
              "2  2              64.000000              0.00000000  0.1000000 0         \n",
              "3  1              -1.000000              0.20000000  0.2000000 0         \n",
              "4  2               2.666667              0.05000000  0.1400000 0         \n",
              "5 10             627.500000              0.02000000  0.0500000 0         \n",
              "6 19             154.216667              0.01578947  0.0245614 0         \n",
              "  SpecialDay Month OperatingSystems Browser Region TrafficType VisitorType\n",
              "1 0          3     1                1       1      1           3          \n",
              "2 0          3     2                2       1      2           3          \n",
              "3 0          3     4                1       9      3           3          \n",
              "4 0          3     3                2       2      4           3          \n",
              "5 0          3     3                3       1      4           3          \n",
              "6 0          3     2                2       1      3           3          \n",
              "  Weekend\n",
              "1 0      \n",
              "2 0      \n",
              "3 0      \n",
              "4 0      \n",
              "5 1      \n",
              "6 0      "
            ],
            "text/latex": "A data.frame: 6 × 17\n\\begin{tabular}{r|lllllllllllllllll}\n  & Administrative & Administrative\\_Duration & Informational & Informational\\_Duration & ProductRelated & ProductRelated\\_Duration & BounceRates & ExitRates & PageValues & SpecialDay & Month & OperatingSystems & Browser & Region & TrafficType & VisitorType & Weekend\\\\\n  & <int> & <dbl> & <int> & <dbl> & <int> & <dbl> & <dbl> & <dbl> & <dbl> & <dbl> & <dbl> & <fct> & <fct> & <fct> & <fct> & <dbl> & <dbl>\\\\\n\\hline\n\t1 & 0 &  0 & 0 &  0 &  1 &   0.000000 & 0.20000000 & 0.2000000 & 0 & 0 & 3 & 1 & 1 & 1 & 1 & 3 & 0\\\\\n\t2 & 0 &  0 & 0 &  0 &  2 &  64.000000 & 0.00000000 & 0.1000000 & 0 & 0 & 3 & 2 & 2 & 1 & 2 & 3 & 0\\\\\n\t3 & 0 & -1 & 0 & -1 &  1 &  -1.000000 & 0.20000000 & 0.2000000 & 0 & 0 & 3 & 4 & 1 & 9 & 3 & 3 & 0\\\\\n\t4 & 0 &  0 & 0 &  0 &  2 &   2.666667 & 0.05000000 & 0.1400000 & 0 & 0 & 3 & 3 & 2 & 2 & 4 & 3 & 0\\\\\n\t5 & 0 &  0 & 0 &  0 & 10 & 627.500000 & 0.02000000 & 0.0500000 & 0 & 0 & 3 & 3 & 3 & 1 & 4 & 3 & 1\\\\\n\t6 & 0 &  0 & 0 &  0 & 19 & 154.216667 & 0.01578947 & 0.0245614 & 0 & 0 & 3 & 2 & 2 & 1 & 3 & 3 & 0\\\\\n\\end{tabular}\n",
            "text/markdown": "\nA data.frame: 6 × 17\n\n| <!--/--> | Administrative &lt;int&gt; | Administrative_Duration &lt;dbl&gt; | Informational &lt;int&gt; | Informational_Duration &lt;dbl&gt; | ProductRelated &lt;int&gt; | ProductRelated_Duration &lt;dbl&gt; | BounceRates &lt;dbl&gt; | ExitRates &lt;dbl&gt; | PageValues &lt;dbl&gt; | SpecialDay &lt;dbl&gt; | Month &lt;dbl&gt; | OperatingSystems &lt;fct&gt; | Browser &lt;fct&gt; | Region &lt;fct&gt; | TrafficType &lt;fct&gt; | VisitorType &lt;dbl&gt; | Weekend &lt;dbl&gt; |\n|---|---|---|---|---|---|---|---|---|---|---|---|---|---|---|---|---|---|\n| 1 | 0 |  0 | 0 |  0 |  1 |   0.000000 | 0.20000000 | 0.2000000 | 0 | 0 | 3 | 1 | 1 | 1 | 1 | 3 | 0 |\n| 2 | 0 |  0 | 0 |  0 |  2 |  64.000000 | 0.00000000 | 0.1000000 | 0 | 0 | 3 | 2 | 2 | 1 | 2 | 3 | 0 |\n| 3 | 0 | -1 | 0 | -1 |  1 |  -1.000000 | 0.20000000 | 0.2000000 | 0 | 0 | 3 | 4 | 1 | 9 | 3 | 3 | 0 |\n| 4 | 0 |  0 | 0 |  0 |  2 |   2.666667 | 0.05000000 | 0.1400000 | 0 | 0 | 3 | 3 | 2 | 2 | 4 | 3 | 0 |\n| 5 | 0 |  0 | 0 |  0 | 10 | 627.500000 | 0.02000000 | 0.0500000 | 0 | 0 | 3 | 3 | 3 | 1 | 4 | 3 | 1 |\n| 6 | 0 |  0 | 0 |  0 | 19 | 154.216667 | 0.01578947 | 0.0245614 | 0 | 0 | 3 | 2 | 2 | 1 | 3 | 3 | 0 |\n\n",
            "text/html": [
              "<table>\n",
              "<caption>A data.frame: 6 × 17</caption>\n",
              "<thead>\n",
              "\t<tr><th></th><th scope=col>Administrative</th><th scope=col>Administrative_Duration</th><th scope=col>Informational</th><th scope=col>Informational_Duration</th><th scope=col>ProductRelated</th><th scope=col>ProductRelated_Duration</th><th scope=col>BounceRates</th><th scope=col>ExitRates</th><th scope=col>PageValues</th><th scope=col>SpecialDay</th><th scope=col>Month</th><th scope=col>OperatingSystems</th><th scope=col>Browser</th><th scope=col>Region</th><th scope=col>TrafficType</th><th scope=col>VisitorType</th><th scope=col>Weekend</th></tr>\n",
              "\t<tr><th></th><th scope=col>&lt;int&gt;</th><th scope=col>&lt;dbl&gt;</th><th scope=col>&lt;int&gt;</th><th scope=col>&lt;dbl&gt;</th><th scope=col>&lt;int&gt;</th><th scope=col>&lt;dbl&gt;</th><th scope=col>&lt;dbl&gt;</th><th scope=col>&lt;dbl&gt;</th><th scope=col>&lt;dbl&gt;</th><th scope=col>&lt;dbl&gt;</th><th scope=col>&lt;dbl&gt;</th><th scope=col>&lt;fct&gt;</th><th scope=col>&lt;fct&gt;</th><th scope=col>&lt;fct&gt;</th><th scope=col>&lt;fct&gt;</th><th scope=col>&lt;dbl&gt;</th><th scope=col>&lt;dbl&gt;</th></tr>\n",
              "</thead>\n",
              "<tbody>\n",
              "\t<tr><th scope=row>1</th><td>0</td><td> 0</td><td>0</td><td> 0</td><td> 1</td><td>  0.000000</td><td>0.20000000</td><td>0.2000000</td><td>0</td><td>0</td><td>3</td><td>1</td><td>1</td><td>1</td><td>1</td><td>3</td><td>0</td></tr>\n",
              "\t<tr><th scope=row>2</th><td>0</td><td> 0</td><td>0</td><td> 0</td><td> 2</td><td> 64.000000</td><td>0.00000000</td><td>0.1000000</td><td>0</td><td>0</td><td>3</td><td>2</td><td>2</td><td>1</td><td>2</td><td>3</td><td>0</td></tr>\n",
              "\t<tr><th scope=row>3</th><td>0</td><td>-1</td><td>0</td><td>-1</td><td> 1</td><td> -1.000000</td><td>0.20000000</td><td>0.2000000</td><td>0</td><td>0</td><td>3</td><td>4</td><td>1</td><td>9</td><td>3</td><td>3</td><td>0</td></tr>\n",
              "\t<tr><th scope=row>4</th><td>0</td><td> 0</td><td>0</td><td> 0</td><td> 2</td><td>  2.666667</td><td>0.05000000</td><td>0.1400000</td><td>0</td><td>0</td><td>3</td><td>3</td><td>2</td><td>2</td><td>4</td><td>3</td><td>0</td></tr>\n",
              "\t<tr><th scope=row>5</th><td>0</td><td> 0</td><td>0</td><td> 0</td><td>10</td><td>627.500000</td><td>0.02000000</td><td>0.0500000</td><td>0</td><td>0</td><td>3</td><td>3</td><td>3</td><td>1</td><td>4</td><td>3</td><td>1</td></tr>\n",
              "\t<tr><th scope=row>6</th><td>0</td><td> 0</td><td>0</td><td> 0</td><td>19</td><td>154.216667</td><td>0.01578947</td><td>0.0245614</td><td>0</td><td>0</td><td>3</td><td>2</td><td>2</td><td>1</td><td>3</td><td>3</td><td>0</td></tr>\n",
              "</tbody>\n",
              "</table>\n"
            ]
          },
          "metadata": {
            "tags": []
          }
        }
      ]
    },
    {
      "cell_type": "code",
      "metadata": {
        "id": "s-GpQdg6ei5D",
        "colab_type": "code",
        "colab": {
          "base_uri": "https://localhost:8080/",
          "height": 196
        },
        "outputId": "ec14918d-6ece-4773-aee9-ec11d106aa33"
      },
      "source": [
        "# Normalize the data\n",
        "normalize <- function(x){\n",
        "  return ((x-min(x)) / (max(x)-min(x)))\n",
        "}\n",
        "\n",
        "n = c(1,2,3,4,5,6,7,8,9,10)\n",
        "for (i in n){\n",
        "    data.new[,i] = normalize(data.new[,i])\n",
        "}\n",
        "\n",
        "head(data.new)"
      ],
      "execution_count": 49,
      "outputs": [
        {
          "output_type": "display_data",
          "data": {
            "text/plain": [
              "  Administrative Administrative_Duration Informational Informational_Duration\n",
              "1 0              0.0002941393            0             0.0003920992          \n",
              "2 0              0.0002941393            0             0.0003920992          \n",
              "3 0              0.0000000000            0             0.0000000000          \n",
              "4 0              0.0002941393            0             0.0003920992          \n",
              "5 0              0.0002941393            0             0.0003920992          \n",
              "6 0              0.0002941393            0             0.0003920992          \n",
              "  ProductRelated ProductRelated_Duration BounceRates ExitRates PageValues\n",
              "1 0.001418440    1.563122e-05            1.00000000  1.000000  0         \n",
              "2 0.002836879    1.016029e-03            0.00000000  0.500000  0         \n",
              "3 0.001418440    0.000000e+00            1.00000000  1.000000  0         \n",
              "4 0.002836879    5.731448e-05            0.25000000  0.700000  0         \n",
              "5 0.014184397    9.824223e-03            0.10000000  0.250000  0         \n",
              "6 0.026950355    2.426226e-03            0.07894737  0.122807  0         \n",
              "  SpecialDay Month OperatingSystems Browser Region TrafficType VisitorType\n",
              "1 0          3     1                1       1      1           3          \n",
              "2 0          3     2                2       1      2           3          \n",
              "3 0          3     4                1       9      3           3          \n",
              "4 0          3     3                2       2      4           3          \n",
              "5 0          3     3                3       1      4           3          \n",
              "6 0          3     2                2       1      3           3          \n",
              "  Weekend\n",
              "1 0      \n",
              "2 0      \n",
              "3 0      \n",
              "4 0      \n",
              "5 1      \n",
              "6 0      "
            ],
            "text/latex": "A data.frame: 6 × 17\n\\begin{tabular}{r|lllllllllllllllll}\n  & Administrative & Administrative\\_Duration & Informational & Informational\\_Duration & ProductRelated & ProductRelated\\_Duration & BounceRates & ExitRates & PageValues & SpecialDay & Month & OperatingSystems & Browser & Region & TrafficType & VisitorType & Weekend\\\\\n  & <dbl> & <dbl> & <dbl> & <dbl> & <dbl> & <dbl> & <dbl> & <dbl> & <dbl> & <dbl> & <dbl> & <fct> & <fct> & <fct> & <fct> & <dbl> & <dbl>\\\\\n\\hline\n\t1 & 0 & 0.0002941393 & 0 & 0.0003920992 & 0.001418440 & 1.563122e-05 & 1.00000000 & 1.000000 & 0 & 0 & 3 & 1 & 1 & 1 & 1 & 3 & 0\\\\\n\t2 & 0 & 0.0002941393 & 0 & 0.0003920992 & 0.002836879 & 1.016029e-03 & 0.00000000 & 0.500000 & 0 & 0 & 3 & 2 & 2 & 1 & 2 & 3 & 0\\\\\n\t3 & 0 & 0.0000000000 & 0 & 0.0000000000 & 0.001418440 & 0.000000e+00 & 1.00000000 & 1.000000 & 0 & 0 & 3 & 4 & 1 & 9 & 3 & 3 & 0\\\\\n\t4 & 0 & 0.0002941393 & 0 & 0.0003920992 & 0.002836879 & 5.731448e-05 & 0.25000000 & 0.700000 & 0 & 0 & 3 & 3 & 2 & 2 & 4 & 3 & 0\\\\\n\t5 & 0 & 0.0002941393 & 0 & 0.0003920992 & 0.014184397 & 9.824223e-03 & 0.10000000 & 0.250000 & 0 & 0 & 3 & 3 & 3 & 1 & 4 & 3 & 1\\\\\n\t6 & 0 & 0.0002941393 & 0 & 0.0003920992 & 0.026950355 & 2.426226e-03 & 0.07894737 & 0.122807 & 0 & 0 & 3 & 2 & 2 & 1 & 3 & 3 & 0\\\\\n\\end{tabular}\n",
            "text/markdown": "\nA data.frame: 6 × 17\n\n| <!--/--> | Administrative &lt;dbl&gt; | Administrative_Duration &lt;dbl&gt; | Informational &lt;dbl&gt; | Informational_Duration &lt;dbl&gt; | ProductRelated &lt;dbl&gt; | ProductRelated_Duration &lt;dbl&gt; | BounceRates &lt;dbl&gt; | ExitRates &lt;dbl&gt; | PageValues &lt;dbl&gt; | SpecialDay &lt;dbl&gt; | Month &lt;dbl&gt; | OperatingSystems &lt;fct&gt; | Browser &lt;fct&gt; | Region &lt;fct&gt; | TrafficType &lt;fct&gt; | VisitorType &lt;dbl&gt; | Weekend &lt;dbl&gt; |\n|---|---|---|---|---|---|---|---|---|---|---|---|---|---|---|---|---|---|\n| 1 | 0 | 0.0002941393 | 0 | 0.0003920992 | 0.001418440 | 1.563122e-05 | 1.00000000 | 1.000000 | 0 | 0 | 3 | 1 | 1 | 1 | 1 | 3 | 0 |\n| 2 | 0 | 0.0002941393 | 0 | 0.0003920992 | 0.002836879 | 1.016029e-03 | 0.00000000 | 0.500000 | 0 | 0 | 3 | 2 | 2 | 1 | 2 | 3 | 0 |\n| 3 | 0 | 0.0000000000 | 0 | 0.0000000000 | 0.001418440 | 0.000000e+00 | 1.00000000 | 1.000000 | 0 | 0 | 3 | 4 | 1 | 9 | 3 | 3 | 0 |\n| 4 | 0 | 0.0002941393 | 0 | 0.0003920992 | 0.002836879 | 5.731448e-05 | 0.25000000 | 0.700000 | 0 | 0 | 3 | 3 | 2 | 2 | 4 | 3 | 0 |\n| 5 | 0 | 0.0002941393 | 0 | 0.0003920992 | 0.014184397 | 9.824223e-03 | 0.10000000 | 0.250000 | 0 | 0 | 3 | 3 | 3 | 1 | 4 | 3 | 1 |\n| 6 | 0 | 0.0002941393 | 0 | 0.0003920992 | 0.026950355 | 2.426226e-03 | 0.07894737 | 0.122807 | 0 | 0 | 3 | 2 | 2 | 1 | 3 | 3 | 0 |\n\n",
            "text/html": [
              "<table>\n",
              "<caption>A data.frame: 6 × 17</caption>\n",
              "<thead>\n",
              "\t<tr><th></th><th scope=col>Administrative</th><th scope=col>Administrative_Duration</th><th scope=col>Informational</th><th scope=col>Informational_Duration</th><th scope=col>ProductRelated</th><th scope=col>ProductRelated_Duration</th><th scope=col>BounceRates</th><th scope=col>ExitRates</th><th scope=col>PageValues</th><th scope=col>SpecialDay</th><th scope=col>Month</th><th scope=col>OperatingSystems</th><th scope=col>Browser</th><th scope=col>Region</th><th scope=col>TrafficType</th><th scope=col>VisitorType</th><th scope=col>Weekend</th></tr>\n",
              "\t<tr><th></th><th scope=col>&lt;dbl&gt;</th><th scope=col>&lt;dbl&gt;</th><th scope=col>&lt;dbl&gt;</th><th scope=col>&lt;dbl&gt;</th><th scope=col>&lt;dbl&gt;</th><th scope=col>&lt;dbl&gt;</th><th scope=col>&lt;dbl&gt;</th><th scope=col>&lt;dbl&gt;</th><th scope=col>&lt;dbl&gt;</th><th scope=col>&lt;dbl&gt;</th><th scope=col>&lt;dbl&gt;</th><th scope=col>&lt;fct&gt;</th><th scope=col>&lt;fct&gt;</th><th scope=col>&lt;fct&gt;</th><th scope=col>&lt;fct&gt;</th><th scope=col>&lt;dbl&gt;</th><th scope=col>&lt;dbl&gt;</th></tr>\n",
              "</thead>\n",
              "<tbody>\n",
              "\t<tr><th scope=row>1</th><td>0</td><td>0.0002941393</td><td>0</td><td>0.0003920992</td><td>0.001418440</td><td>1.563122e-05</td><td>1.00000000</td><td>1.000000</td><td>0</td><td>0</td><td>3</td><td>1</td><td>1</td><td>1</td><td>1</td><td>3</td><td>0</td></tr>\n",
              "\t<tr><th scope=row>2</th><td>0</td><td>0.0002941393</td><td>0</td><td>0.0003920992</td><td>0.002836879</td><td>1.016029e-03</td><td>0.00000000</td><td>0.500000</td><td>0</td><td>0</td><td>3</td><td>2</td><td>2</td><td>1</td><td>2</td><td>3</td><td>0</td></tr>\n",
              "\t<tr><th scope=row>3</th><td>0</td><td>0.0000000000</td><td>0</td><td>0.0000000000</td><td>0.001418440</td><td>0.000000e+00</td><td>1.00000000</td><td>1.000000</td><td>0</td><td>0</td><td>3</td><td>4</td><td>1</td><td>9</td><td>3</td><td>3</td><td>0</td></tr>\n",
              "\t<tr><th scope=row>4</th><td>0</td><td>0.0002941393</td><td>0</td><td>0.0003920992</td><td>0.002836879</td><td>5.731448e-05</td><td>0.25000000</td><td>0.700000</td><td>0</td><td>0</td><td>3</td><td>3</td><td>2</td><td>2</td><td>4</td><td>3</td><td>0</td></tr>\n",
              "\t<tr><th scope=row>5</th><td>0</td><td>0.0002941393</td><td>0</td><td>0.0003920992</td><td>0.014184397</td><td>9.824223e-03</td><td>0.10000000</td><td>0.250000</td><td>0</td><td>0</td><td>3</td><td>3</td><td>3</td><td>1</td><td>4</td><td>3</td><td>1</td></tr>\n",
              "\t<tr><th scope=row>6</th><td>0</td><td>0.0002941393</td><td>0</td><td>0.0003920992</td><td>0.026950355</td><td>2.426226e-03</td><td>0.07894737</td><td>0.122807</td><td>0</td><td>0</td><td>3</td><td>2</td><td>2</td><td>1</td><td>3</td><td>3</td><td>0</td></tr>\n",
              "</tbody>\n",
              "</table>\n"
            ]
          },
          "metadata": {
            "tags": []
          }
        }
      ]
    },
    {
      "cell_type": "code",
      "metadata": {
        "id": "bLpqLczne2q2",
        "colab_type": "code",
        "colab": {}
      },
      "source": [
        "# Applying the K-means clustering algorithm with no. of centroids(k)=3\n",
        "# ---\n",
        "# \n",
        "final <- kmeans(data.new,2)"
      ],
      "execution_count": 53,
      "outputs": []
    },
    {
      "cell_type": "code",
      "metadata": {
        "id": "lslp_pFwfLFy",
        "colab_type": "code",
        "colab": {
          "base_uri": "https://localhost:8080/",
          "height": 33
        },
        "outputId": "3790bcb2-0b00-455a-f241-e040fa79f24f"
      },
      "source": [
        "# Previewing the no. of records in each cluster\n",
        "# \n",
        "final$size"
      ],
      "execution_count": 56,
      "outputs": [
        {
          "output_type": "display_data",
          "data": {
            "text/plain": [
              "[1] 10116  2083"
            ],
            "text/latex": "\\begin{enumerate*}\n\\item 10116\n\\item 2083\n\\end{enumerate*}\n",
            "text/markdown": "1. 10116\n2. 2083\n\n\n",
            "text/html": [
              "<style>\n",
              ".list-inline {list-style: none; margin:0; padding: 0}\n",
              ".list-inline>li {display: inline-block}\n",
              ".list-inline>li:not(:last-child)::after {content: \"\\00b7\"; padding: 0 .5ex}\n",
              "</style>\n",
              "<ol class=list-inline><li>10116</li><li>2083</li></ol>\n"
            ]
          },
          "metadata": {
            "tags": []
          }
        }
      ]
    },
    {
      "cell_type": "code",
      "metadata": {
        "id": "RM8It_-JgTuU",
        "colab_type": "code",
        "colab": {
          "base_uri": "https://localhost:8080/",
          "height": 107
        },
        "outputId": "343d69e4-17cd-4bfe-e964-461a21914c2d"
      },
      "source": [
        "final$centers"
      ],
      "execution_count": 58,
      "outputs": [
        {
          "output_type": "display_data",
          "data": {
            "text/plain": [
              "  Administrative Administrative_Duration Informational Informational_Duration\n",
              "1 0.08831993     0.02453583              0.02185482    0.01451443            \n",
              "2 0.07864369     0.02327224              0.01802288    0.01180502            \n",
              "  ProductRelated ProductRelated_Duration BounceRates ExitRates PageValues\n",
              "1 0.04622647     0.0191122               0.09381286  0.1992468 0.01639978\n",
              "2 0.04181367     0.0178136               0.14312901  0.2474870 0.01671795\n",
              "  SpecialDay Month    OperatingSystems Browser  Region   TrafficType\n",
              "1 0.06202056 6.141459 2.069790         2.321965 3.129300  2.446619  \n",
              "2 0.06173788 6.296687 2.389342         2.533845 3.269803 11.980797  \n",
              "  VisitorType Weekend  \n",
              "1 2.719158    0.2311190\n",
              "2 2.699472    0.2486798"
            ],
            "text/latex": "A matrix: 2 × 17 of type dbl\n\\begin{tabular}{r|lllllllllllllllll}\n  & Administrative & Administrative\\_Duration & Informational & Informational\\_Duration & ProductRelated & ProductRelated\\_Duration & BounceRates & ExitRates & PageValues & SpecialDay & Month & OperatingSystems & Browser & Region & TrafficType & VisitorType & Weekend\\\\\n\\hline\n\t1 & 0.08831993 & 0.02453583 & 0.02185482 & 0.01451443 & 0.04622647 & 0.0191122 & 0.09381286 & 0.1992468 & 0.01639978 & 0.06202056 & 6.141459 & 2.069790 & 2.321965 & 3.129300 &  2.446619 & 2.719158 & 0.2311190\\\\\n\t2 & 0.07864369 & 0.02327224 & 0.01802288 & 0.01180502 & 0.04181367 & 0.0178136 & 0.14312901 & 0.2474870 & 0.01671795 & 0.06173788 & 6.296687 & 2.389342 & 2.533845 & 3.269803 & 11.980797 & 2.699472 & 0.2486798\\\\\n\\end{tabular}\n",
            "text/markdown": "\nA matrix: 2 × 17 of type dbl\n\n| <!--/--> | Administrative | Administrative_Duration | Informational | Informational_Duration | ProductRelated | ProductRelated_Duration | BounceRates | ExitRates | PageValues | SpecialDay | Month | OperatingSystems | Browser | Region | TrafficType | VisitorType | Weekend |\n|---|---|---|---|---|---|---|---|---|---|---|---|---|---|---|---|---|---|\n| 1 | 0.08831993 | 0.02453583 | 0.02185482 | 0.01451443 | 0.04622647 | 0.0191122 | 0.09381286 | 0.1992468 | 0.01639978 | 0.06202056 | 6.141459 | 2.069790 | 2.321965 | 3.129300 |  2.446619 | 2.719158 | 0.2311190 |\n| 2 | 0.07864369 | 0.02327224 | 0.01802288 | 0.01180502 | 0.04181367 | 0.0178136 | 0.14312901 | 0.2474870 | 0.01671795 | 0.06173788 | 6.296687 | 2.389342 | 2.533845 | 3.269803 | 11.980797 | 2.699472 | 0.2486798 |\n\n",
            "text/html": [
              "<table>\n",
              "<caption>A matrix: 2 × 17 of type dbl</caption>\n",
              "<thead>\n",
              "\t<tr><th></th><th scope=col>Administrative</th><th scope=col>Administrative_Duration</th><th scope=col>Informational</th><th scope=col>Informational_Duration</th><th scope=col>ProductRelated</th><th scope=col>ProductRelated_Duration</th><th scope=col>BounceRates</th><th scope=col>ExitRates</th><th scope=col>PageValues</th><th scope=col>SpecialDay</th><th scope=col>Month</th><th scope=col>OperatingSystems</th><th scope=col>Browser</th><th scope=col>Region</th><th scope=col>TrafficType</th><th scope=col>VisitorType</th><th scope=col>Weekend</th></tr>\n",
              "</thead>\n",
              "<tbody>\n",
              "\t<tr><th scope=row>1</th><td>0.08831993</td><td>0.02453583</td><td>0.02185482</td><td>0.01451443</td><td>0.04622647</td><td>0.0191122</td><td>0.09381286</td><td>0.1992468</td><td>0.01639978</td><td>0.06202056</td><td>6.141459</td><td>2.069790</td><td>2.321965</td><td>3.129300</td><td> 2.446619</td><td>2.719158</td><td>0.2311190</td></tr>\n",
              "\t<tr><th scope=row>2</th><td>0.07864369</td><td>0.02327224</td><td>0.01802288</td><td>0.01180502</td><td>0.04181367</td><td>0.0178136</td><td>0.14312901</td><td>0.2474870</td><td>0.01671795</td><td>0.06173788</td><td>6.296687</td><td>2.389342</td><td>2.533845</td><td>3.269803</td><td>11.980797</td><td>2.699472</td><td>0.2486798</td></tr>\n",
              "</tbody>\n",
              "</table>\n"
            ]
          },
          "metadata": {
            "tags": []
          }
        }
      ]
    },
    {
      "cell_type": "code",
      "metadata": {
        "id": "zFCiqpjrftO5",
        "colab_type": "code",
        "colab": {
          "base_uri": "https://localhost:8080/",
          "height": 566
        },
        "outputId": "a1d1b3a4-cd1a-4fca-a4a8-ad99afc74194"
      },
      "source": [
        "final$cluster"
      ],
      "execution_count": 57,
      "outputs": [
        {
          "output_type": "display_data",
          "data": {
            "text/plain": [
              "    1     2     3     4     5     6     7     8     9    10    11    12    13 \n",
              "    1     1     1     1     1     1     1     1     1     1     1     1     1 \n",
              "   14    15    16    17    18    19    20    21    22    23    24    25    26 \n",
              "    1     1     1     1     1     1     1     1     1     1     1     1     1 \n",
              "   27    28    29    30    31    32    33    34    35    36    37    38    39 \n",
              "    1     1     1     1     1     1     1     1     1     1     1     1     1 \n",
              "   40    41    42    43    44    45    46    47    48    49    50    51    52 \n",
              "    1     1     1     1     1     1     1     1     1     1     1     1     1 \n",
              "   53    54    55    56    57    58    59    60    61    62    63    64    65 \n",
              "    1     1     1     1     1     1     1     1     1     1     1     1     1 \n",
              "   66    67    68    69    70    71    72    73    74    75    76    77    78 \n",
              "    1     1     1     1     1     1     1     1     1     1     1     1     1 \n",
              "   79    80    81    82    83    84    85    86    87    88    89    90    91 \n",
              "    1     1     1     1     1     1     1     1     1     1     1     1     1 \n",
              "   92    93    94    95    96    97    98    99   100   101   102   103   104 \n",
              "    1     1     1     1     1     1     1     1     1     1     1     1     1 \n",
              "  105   106   107   108   109   110   111   112   113   114   115   116   117 \n",
              "    1     1     1     1     1     1     1     1     1     1     1     1     1 \n",
              "  118   119   120   121   122   123   124   125   126   127   128   129   130 \n",
              "    1     1     1     1     1     1     1     1     1     1     1     1     1 \n",
              "  131   132   133   134   135   136   137   138   139   140   141   142   143 \n",
              "    1     1     1     1     1     1     1     1     1     1     1     1     1 \n",
              "  144   145   146   147   148   149   150   151   152   153   154   155   156 \n",
              "    1     1     1     1     1     1     1     1     1     1     1     1     1 \n",
              "  157   158   160   161   162   163   164   165   166   167   168   169   170 \n",
              "    1     1     1     1     1     1     1     1     1     1     1     1     1 \n",
              "  171   172   173   174   175   176   177   178   180   181   182   183   184 \n",
              "    1     1     1     1     1     1     1     1     1     1     1     1     1 \n",
              "  185   186   187   188   189   190   191   192   193   194   195   196   197 \n",
              "    2     1     1     1     1     1     1     1     1     1     1     1     1 \n",
              "  198   199   200   201   202   203   204   205   206   207   208   209   210 \n",
              "    1     1     1     2     2     1     2     2     1     1     1     1     1 \n",
              "  211   212   213   214   215   216   217   218   219   220   221   222   223 \n",
              "    1     1     2     1     1     1     1     1     1     2     1     1     1 \n",
              "  224   225   226   227   228   229   230   231   232   233   234   235   236 \n",
              "    2     1     2     1     1     1     1     2     1     1     1     1     1 \n",
              "  237   238   239   240   241   242   243   244   245   246   247   248   249 \n",
              "    2     1     1     1     1     1     1     1     1     1     1     1     1 \n",
              "  250   251   252   253   254   255   256   257   258   259   260   261   262 \n",
              "    1     1     1     1     1     1     1     1     2     1     2     1     1 \n",
              "  263   264   265   266   267   268   269   270   271   272   273   274   275 \n",
              "    1     1     1     1     1     2     1     1     1     1     2     1     2 \n",
              "  276   277   278   279   280   281   282   283   284   285   286   287   288 \n",
              "    1     1     1     1     1     1     2     1     1     1     1     1     1 \n",
              "  289   290   291   292   293   294   295   296   297   298   299   300   301 \n",
              "    1     2     1     1     1     1     1     1     1     1     1     1     2 \n",
              "  302   303   304   305   306   307   308   309   310   311   312   313   314 \n",
              "    1     1     1     1     1     1     1     2     2     2     1     1     1 \n",
              "  315   316   317   318   319   320   321   322   323   324   325   326   327 \n",
              "    1     1     1     2     1     1     1     1     1     1     1     1     1 \n",
              "  328   329   330   331   332   333   334   335   336   337   338   339   340 \n",
              "    1     2     1     1     1     1     1     1     1     1     1     1     1 \n",
              "  341   342   343   344   345   346   347   348   349   350   351   352   353 \n",
              "    1     1     1     1     1     2     1     1     1     1     1     1     1 \n",
              "  354   355   356   357   358   359   360   361   362   363   364   365   366 \n",
              "    1     1     1     1     1     1     1     1     1     1     1     1     1 \n",
              "  367   368   369   370   371   372   373   374   375   376   377   378   379 \n",
              "    1     1     1     1     1     1     2     1     1     1     1     1     2 \n",
              "  380   381   382   383   384   385   386   387   388   389   390   391   392 \n",
              "    1     1     1     1     1     1     1     1     1     1     1     1     1 \n",
              "  393   394   395   396   397   398   399   400   401   402   403   404   405 \n",
              "    1     1     1     1     2     1     1     1     1     1     1     1     1 \n",
              "  406   407   408   409   410   411   412   413   414   415   416   417   418 \n",
              "    1     1     1     2     1     1     1     2     2     1     2     1     1 \n",
              "  420   421   422   423   424   425   426   427   428   429   430   431   432 \n",
              "    1     1     1     1     1     1     1     1     1     1     2     1     1 \n",
              "  433   434   435   436   437   438   439   440   441   442   443   444   445 \n",
              "    1     1     2     1     1     1     1     1     1     1     1     2     2 \n",
              "  446   447   448   449   450   451   452   453   454   455   456   458   459 \n",
              "    2     1     1     1     1     1     1     1     1     1     2     1     1 \n",
              "  460   461   462   463   464   465   466   467   468   469   470   471   472 \n",
              "    1     2     1     2     1     1     1     1     1     1     1     1     1 \n",
              "  473   474   475   476   477   478   479   480   481   482   483   485   486 \n",
              "    1     1     1     1     1     1     1     1     1     1     1     1     1 \n",
              "  487   488   489   490   491   492   493   494   495   496   497   498   499 \n",
              "    1     1     1     2     1     2     1     1     1     1     2     1     1 \n",
              "  500   501   502   503   504   505   506   507   508   509   510   511   512 \n",
              "    1     1     1     1     1     2     1     2     1     1     1     1     1 \n",
              "  514   515   516   517   518   519   520   521   522   523   524   525   526 \n",
              "    1     1     1     1     1     2     1     2     1     1     1     1     2 \n",
              "  527   528   529   530   531   532   533   534   535   536   537   538   539 \n",
              "    1     1     1     1     1     1     1     1     1     1     1     2     2 \n",
              "  540   541   542   543   544   545   546   547   548   549   550   551   552 \n",
              "    1     1     1     1     1     1     1     1     2     1     1     1     1 \n",
              "  553   554   556   557   558   559   560   561   562   563   564   565   566 \n",
              "    1     1     1     2     1     1     1     1     2     1     2     1     1 \n",
              "  567   568   569   570   571   572   573   574   575   576   577   578   579 \n",
              "    1     1     2     1     2     1     1     1     1     1     1     1     1 \n",
              "  580   581   582   583   584   585   586   587   588   589   591   592   593 \n",
              "    1     1     1     2     1     1     2     2     2     1     1     1     1 \n",
              "  594   595   596   597   598   599   600   601   602   603   604   605   606 \n",
              "    2     1     1     1     1     1     1     1     1     1     1     1     1 \n",
              "  607   608   609   610   611   612   613   614   615   616   617   618   619 \n",
              "    1     2     1     2     1     1     1     1     1     2     1     1     1 \n",
              "  620   621   622   623   624   625   626   627   628   629   630   631   632 \n",
              "    1     1     1     1     1     1     1     1     1     1     1     1     1 \n",
              "  633   634   635   636   637   638   639   640   641   642   643   644   645 \n",
              "    1     1     1     1     1     1     1     1     1     1     1     1     1 \n",
              "  646   647   648   649   650   651   652   653   654   655   656   657   658 \n",
              "    1     2     1     1     1     2     1     1     1     1     1     1     1 \n",
              "  659   661   662   663   664   665   666   667   668   669   670   671   672 \n",
              "    1     1     1     2     1     1     1     1     2     1     1     1     1 \n",
              "  673   674   675   676   677   678   679   680   681   682   683   684   685 \n",
              "    1     1     1     1     1     2     1     1     1     1     1     1     1 \n",
              "  686   687   688   689   690   691   692   693   694   695   696   697   698 \n",
              "    1     1     2     2     1     1     1     2     1     1     1     1     2 \n",
              "  699   700   701   702   703   704   705   706   707   708   709   710   711 \n",
              "    1     2     2     1     2     1     1     1     1     1     1     2     1 \n",
              "  712   713   714   715   716   717   718   719   720   721   722   723   724 \n",
              "    2     1     1     2     1     1     1     1     1     1     1     1     1 \n",
              "  725   726   727   728   729   730   731   732   733   734   735   736   737 \n",
              "    1     1     2     1     1     1     2     1     1     1     1     2     1 \n",
              "  738   739   740   741   742   743   744   745   746   747   748   749   750 \n",
              "    1     2     2     1     1     2     1     1     1     1     1     2     1 \n",
              "  751   752   753   754   755   756   757   758   759   760   761   762   763 \n",
              "    1     1     1     1     1     1     1     1     1     1     1     1     1 \n",
              "  764   765   766   767   768   769   770   771   772   773   774   776   777 \n",
              "    1     1     1     1     1     1     1     1     1     1     1     1     1 \n",
              "  778   779   780   781   782   783   784   785   786   787   788   789   790 \n",
              "    2     1     1     1     2     1     2     1     1     1     1     1     1 \n",
              "  791   792   793   794   795   796   797   798   799   800   801   802   803 \n",
              "    1     1     2     2     1     1     2     1     2     2     2     2     2 \n",
              "  804   805   806   807   808   809   810   811   812   813   814   815   816 \n",
              "    1     1     1     1     1     1     1     1     1     1     1     1     1 \n",
              "  817   818   819   820   821   822   823   824   825   826   827   828   829 \n",
              "    1     2     1     1     1     1     1     1     1     1     1     1     1 \n",
              "  830   831   832   833   834   835   836   837   838   839   840   841   842 \n",
              "    1     1     1     1     1     2     2     1     1     1     2     2     1 \n",
              "  843   844   845   846   847   848   849   850   851   852   853   854   855 \n",
              "    1     1     1     2     1     2     1     1     1     1     1     1     1 \n",
              "  856   857   858   859   860   861   862   863   864   865   866   867   868 \n",
              "    1     1     1     2     2     1     1     2     2     1     1     1     2 \n",
              "  869   870   871   872   874   875   876   877   878   879   880   881   882 \n",
              "    1     1     1     2     1     1     1     2     1     2     1     1     1 \n",
              "  883   884   885   886   887   888   889   891   892   893   894   895   896 \n",
              "    1     1     1     1     1     1     1     1     1     1     1     1     1 \n",
              "  897   898   899   900   901   902   903   904   905   906   907   908   909 \n",
              "    1     2     1     1     1     1     1     1     2     1     1     2     1 \n",
              "  910   911   912   913   914   915   916   917   918   919   920   921   922 \n",
              "    2     2     1     1     1     1     1     1     1     1     1     1     2 \n",
              "  924   925   926   927   928   929   930   931   932   933   934   935   936 \n",
              "    1     1     1     1     1     1     2     2     1     1     2     1     1 \n",
              "  937   938   939   940   941   942   943   944   945   946   947   949   950 \n",
              "    1     2     1     2     1     1     1     1     1     2     1     1     2 \n",
              "  951   952   953   954   955   956   957   958   959   960   961   962   963 \n",
              "    1     1     1     2     2     1     1     1     1     2     1     1     1 \n",
              "  964   965   966   967   968   969   970   971   972   973   974   976   977 \n",
              "    1     1     1     1     1     1     1     2     1     1     1     1     1 \n",
              "  978   979   980   981   982   983   984   985   986   987   988   989   990 \n",
              "    1     1     2     1     1     1     1     1     1     1     1     1     1 \n",
              "  991   992   993   994   995   996   997   998   999  1000  1001  1002  1003 \n",
              "    1     1     1     2     1     1     1     1     1     1     1     2     1 \n",
              " 1004  1005  1006  1007  1008  1009  1010  1011  1012  1013  1014  1015  1016 \n",
              "    2     2     1     1     1     1     1     1     1     1     2     2     2 \n",
              " 1017  1018  1019  1020  1021  1022  1023  1024  1025  1026  1027  1028  1029 \n",
              "    1     1     1     2     1     2     1     1     1     2     1     1     1 \n",
              " 1030  1031  1032  1033  1034  1036  1037  1038  1039  1040  1041  1042  1043 \n",
              "    2     2     1     1     2     1     1     2     2     1     1     1     1 \n",
              " 1044  1045  1046  1047  1048  1049  1050  1051  1052  1053  1054  1055  1056 \n",
              "    1     1     1     1     1     1     1     1     2     1     1     1     2 \n",
              " 1057  1058  1059  1060  1061  1062  1063  1064  1065  1067  1068  1069  1070 \n",
              "    1     1     2     1     1     1     1     1     1     1     1     1     2 \n",
              " 1071  1072  1073  1074  1075  1076  1077  1078  1079  1080  1081  1082  1083 \n",
              "    1     1     1     1     1     1     1     1     1     1     1     2     1 \n",
              " 1084  1085  1086  1087  1088  1089  1090  1091  1092  1093  1094  1095  1096 \n",
              "    2     1     1     1     1     2     1     1     1     1     1     1     2 \n",
              " 1097  1098  1099  1100  1101  1102  1103  1104  1105  1106  1107  1108  1109 \n",
              "    2     1     1     1     1     1     1     1     1     1     2     1     1 \n",
              " 1110  1111  1112  1113  1114  1115  1116  1117  1118  1119  1121  1122  1123 \n",
              "    1     1     1     1     2     1     1     1     2     1     1     1     2 \n",
              " 1124  1125  1126  1127  1128  1129  1130  1131  1132  1138  1139  1140  1141 \n",
              "    1     1     1     1     2     1     2     1     1     1     1     1     1 \n",
              " 1142  1143  1144  1145  1146  1147  1148  1149  1150  1151  1152  1153  1154 \n",
              "    2     1     1     1     1     2     1     1     1     1     1     2     1 \n",
              " 1155  1156  1157  1158  1159  1160  1161  1162  1163  1164  1165  1166  1167 \n",
              "    2     1     1     1     1     2     2     1     1     1     1     1     1 \n",
              " 1168  1169  1170  1172  1173  1174  1175  1176  1178  1179  1180  1181  1182 \n",
              "    2     2     1     1     2     1     1     1     1     1     2     1     1 \n",
              " 1183  1184  1185  1186  1187  1188  1189  1190  1191  1192  1193  1194  1195 \n",
              "    2     1     1     1     1     1     2     1     2     1     1     1     1 \n",
              " 1196  1197  1198  1199  1200  1201  1202  1203  1204  1205  1206  1207  1208 \n",
              "    1     1     1     2     1     2     1     1     1     1     1     1     1 \n",
              " 1209  1210  1211  1212  1213  1216  1217  1218  1219  1220  1221  1222  1223 \n",
              "    1     1     1     1     1     1     1     1     2     1     1     1     1 \n",
              " 1224  1225  1226  1227  1228  1229  1230  1231  1232  1233  1234  1235  1236 \n",
              "    1     1     1     1     1     1     1     1     1     1     2     1     1 \n",
              " 1237  1238  1239  1240  1241  1242  1243  1244  1245  1246  1247  1248  1249 \n",
              "    1     1     1     1     1     1     1     1     1     1     1     1     1 \n",
              " 1250  1251  1252  1253  1254  1255  1256  1257  1258  1259  1260  1261  1262 \n",
              "    1     1     2     1     2     1     2     2     2     1     1     1     1 \n",
              " 1263  1264  1265  1266  1267  1268  1269  1270  1271  1272  1273  1274  1275 \n",
              "    1     1     1     1     1     2     1     2     1     1     1     1     1 \n",
              " 1276  1277  1278  1279  1280  1281  1282  1283  1284  1285  1286  1287  1288 \n",
              "    1     1     1     1     1     1     2     1     1     1     1     2     1 \n",
              " 1289  1290  1291  1293  1294  1295  1296  1297  1298  1299  1300  1301  1302 \n",
              "    1     1     1     1     1     1     1     2     2     1     1     1     1 \n",
              " 1303  1304  1305  1306  1307  1308  1309  1310  1311  1312  1313  1314  1315 \n",
              "    1     1     1     1     1     1     1     1     1     1     1     1     2 \n",
              " 1316  1317  1318  1319  1320  1321  1322  1323  1324  1325  1327  1328  1329 \n",
              "    1     2     1     1     1     1     1     1     2     1     1     1     2 \n",
              " 1330  1331  1332  1333  1334  1335  1336  1337  1338  1339  1340  1341  1342 \n",
              "    1     1     1     1     1     1     2     2     1     1     1     2     1 \n",
              " 1343  1344  1345  1346  1347  1348  1349  1350  1351  1352  1353  1354  1355 \n",
              "    2     1     1     1     1     1     1     1     1     1     1     1     1 \n",
              " 1356  1358  1359  1360  1361  1362  1363  1364  1365  1366  1368  1369  1370 \n",
              "    1     1     1     2     1     1     2     1     1     1     1     1     1 \n",
              " 1371  1372  1373  1374  1375  1376  1377  1378  1379  1380  1381  1383  1384 \n",
              "    1     1     2     1     2     1     1     1     1     1     1     1     1 \n",
              " 1385  1386  1387  1388  1389  1390  1392  1393  1394  1396  1397  1398  1399 \n",
              "    1     1     1     1     1     1     1     1     2     2     1     1     1 \n",
              " 1400  1401  1402  1403  1404  1405  1406  1407  1408  1409  1410  1411  1412 \n",
              "    1     1     1     1     2     2     1     1     1     1     1     1     1 \n",
              " 1413  1414  1415  1416  1417  1418  1419  1420  1421  1422  1423  1424  1425 \n",
              "    1     1     2     2     1     2     2     1     1     1     1     2     1 \n",
              " 1426  1427  1428  1429  1430  1431  1432  1433  1434  1435  1436  1438  1439 \n",
              "    1     1     1     1     1     1     1     1     1     1     1     1     1 \n",
              " 1440  1441  1442  1443  1444  1445  1446  1447  1448  1449  1450  1451  1452 \n",
              "    1     1     2     2     1     1     2     1     1     1     1     1     1 \n",
              " 1453  1455  1456  1457  1458  1459  1460  1461  1462  1463  1464  1465  1466 \n",
              "    1     1     1     1     1     2     1     1     1     1     1     1     1 \n",
              " 1467  1468  1469  1470  1471  1472  1473  1478  1479  1480  1481  1482  1483 \n",
              "    1     1     2     1     1     1     1     2     1     1     1     2     1 \n",
              " 1484  1485  1486  1487  1488  1489  1490  1491  1492  1493  1494  1495  1496 \n",
              "    1     1     1     2     1     1     1     1     2     1     1     1     1 \n",
              " 1497  1498  1499  1500  1501  1502  1503  1504  1505  1506  1507  1508  1509 \n",
              "    1     2     1     1     1     1     1     1     2     2     1     1     1 \n",
              " 1510  1511  1512  1513  1514  1515  1517  1518  1519  1520  1521  1522  1523 \n",
              "    1     1     2     1     1     2     1     1     1     1     1     1     2 \n",
              " 1524  1525  1526  1527  1528  1529  1530  1531  1532  1533  1534  1535  1536 \n",
              "    1     2     1     1     1     1     2     2     1     1     1     1     1 \n",
              " 1537  1538  1539  1540  1541  1542  1543  1544  1545  1546  1547  1548  1549 \n",
              "    1     1     2     1     2     1     1     1     1     1     1     1     1 \n",
              " 1550  1551  1552  1553  1554  1555  1556  1557  1558  1559  1560  1561  1562 \n",
              "    2     1     1     1     1     1     1     1     1     1     1     1     1 \n",
              " 1563  1564  1565  1566  1567  1568  1569  1570  1571  1572  1573  1575  1576 \n",
              "    1     1     1     1     1     1     1     1     1     1     1     1     1 \n",
              " 1577  1578  1579  1580  1581  1582  1583  1584  1585  1586  1587  1588  1589 \n",
              "    1     1     1     1     2     1     2     1     2     1     1     1     1 \n",
              " 1590  1591  1592  1593  1594  1595  1596  1597  1598  1599  1600  1601  1602 \n",
              "    1     1     1     2     1     1     1     1     1     2     1     1     1 \n",
              " 1603  1604  1605  1606  1607  1608  1610  1611  1612  1613  1614  1615  1616 \n",
              "    2     1     1     1     1     1     1     1     1     1     1     1     1 \n",
              " 1617  1618  1619  1620  1621  1622  1623  1624  1625  1626  1627  1628  1629 \n",
              "    1     2     2     1     1     1     1     1     1     2     1     1     1 \n",
              " 1630  1631  1632  1633  1634  1635  1636  1637  1638  1639  1640  1641  1642 \n",
              "    1     1     1     1     1     1     1     1     2     2     1     2     1 \n",
              " 1643  1644  1645  1646  1647  1648  1649  1650  1651  1652  1653  1654  1655 \n",
              "    1     1     1     1     1     2     1     1     1     1     1     1     1 \n",
              " 1656  1657  1658  1659  1660  1661  1662  1663  1664  1665  1666  1667  1668 \n",
              "    1     1     1     2     2     1     2     1     1     2     1     1     1 \n",
              " 1669  1670  1671  1672  1673  1674  1675  1676  1677  1678  1679  1680  1681 \n",
              "    1     1     1     1     1     1     1     1     1     2     1     1     1 \n",
              " 1682  1683  1684  1685  1686  1687  1688  1689  1690  1691  1692  1693  1694 \n",
              "    2     1     1     2     2     1     1     1     1     1     1     1     1 \n",
              " 1695  1696  1697  1699  1700  1701  1702  1703  1704  1705  1706  1707  1708 \n",
              "    1     1     2     1     1     1     1     1     2     2     1     1     1 \n",
              " 1709  1710  1711  1712  1713  1714  1715  1716  1717  1718  1719  1720  1721 \n",
              "    1     1     1     1     1     1     1     1     1     1     1     2     1 \n",
              " 1722  1723  1724  1725  1726  1727  1728  1729  1730  1731  1732  1733  1734 \n",
              "    2     1     2     2     2     1     1     1     2     1     1     1     1 \n",
              " 1735  1736  1737  1738  1739  1740  1741  1742  1743  1744  1745  1746  1747 \n",
              "    1     1     1     2     1     1     2     2     1     1     2     1     1 \n",
              " 1748  1749  1750  1751  1752  1753  1754  1755  1756  1757  1758  1759  1760 \n",
              "    2     1     1     1     1     1     1     1     2     1     2     1     1 \n",
              " 1761  1762  1763  1764  1765  1766  1767  1768  1769  1770  1771  1772  1773 \n",
              "    1     1     1     1     1     1     1     1     1     1     1     1     1 \n",
              " 1774  1775  1777  1778  1779  1780  1781  1782  1783  1784  1785  1786  1787 \n",
              "    1     1     2     1     1     1     1     1     1     1     1     1     2 \n",
              " 1788  1789  1790  1791  1792  1793  1794  1795  1796  1797  1798  1799  1800 \n",
              "    1     2     1     1     1     1     1     1     2     1     1     1     1 \n",
              " 1801  1802  1803  1804  1806  1807  1808  1809  1810  1811  1812  1813  1814 \n",
              "    1     1     1     1     1     1     1     1     2     1     2     1     1 \n",
              " 1815  1816  1817  1818  1819  1820  1821  1822  1823  1824  1825  1826  1827 \n",
              "    1     1     2     1     1     1     1     1     1     1     1     1     2 \n",
              " 1828  1829  1830  1831  1832  1833  1834  1835  1836  1837  1838  1839  1841 \n",
              "    1     1     1     1     1     2     1     1     1     1     1     2     1 \n",
              " 1842  1843  1844  1845  1846  1847  1848  1849  1850  1851  1852  1853  1854 \n",
              "    1     1     1     1     1     1     1     1     1     1     1     1     1 \n",
              " 1855  1856  1857  1858  1859  1860  1861  1862  1863  1864  1865  1866  1868 \n",
              "    1     1     1     2     1     1     2     1     1     2     1     1     2 \n",
              " 1869  1870  1871  1872  1873  1874  1875  1876  1877  1878  1879  1880  1881 \n",
              "    1     1     2     1     1     1     1     2     1     1     1     1     1 \n",
              " 1882  1883  1884  1885  1886  1887  1888  1889  1890  1891  1892  1893  1894 \n",
              "    1     1     1     1     1     1     1     1     1     1     1     1     1 \n",
              " 1895  1896  1897  1898  1899  1900  1901  1902  1903  1904  1905  1906  1907 \n",
              "    1     1     1     1     1     1     1     1     2     2     1     1     1 \n",
              " 1908  1909  1910  1911  1912  1913  1914  1915  1916  1917  1918  1919  1920 \n",
              "    1     2     2     2     1     2     2     1     1     1     1     1     2 \n",
              " 1921  1922  1923  1924  1925  1927  1928  1929  1930  1931  1932  1933  1935 \n",
              "    2     2     1     1     1     1     2     1     1     1     1     1     1 \n",
              " 1936  1937  1938  1939  1940  1941  1942  1943  1944  1945  1946  1947  1948 \n",
              "    1     1     1     1     1     1     1     1     2     1     2     1     1 \n",
              " 1949  1951  1952  1953  1954  1955  1956  1957  1958  1959  1960  1961  1962 \n",
              "    2     1     1     1     1     1     1     2     2     1     1     1     1 \n",
              " 1963  1964  1965  1966  1967  1968  1969  1970  1971  1972  1973  1974  1975 \n",
              "    1     1     1     1     1     1     1     1     1     1     1     1     1 \n",
              " 1976  1977  1978  1979  1980  1981  1982  1983  1984  1985  1986  1987  1988 \n",
              "    1     1     1     1     1     2     1     1     2     1     1     1     1 \n",
              " 1989  1990  1991  1992  1993  1994  1995  1996  1997  1998  1999  2000  2001 \n",
              "    1     1     1     1     1     2     1     1     1     1     2     1     1 \n",
              " 2002  2003  2004  2005  2006  2007  2008  2009  2010  2011  2012  2013  2014 \n",
              "    1     1     1     1     1     1     1     1     1     1     1     1     1 \n",
              " 2015  2016  2017  2018  2019  2020  2021  2022  2023  2024  2025  2026  2027 \n",
              "    1     1     1     1     1     2     2     1     1     1     1     1     1 \n",
              " 2028  2029  2030  2031  2032  2033  2034  2035  2036  2037  2041  2042  2043 \n",
              "    1     1     1     1     1     1     1     1     1     1     1     1     1 \n",
              " 2044  2045  2046  2047  2048  2049  2050  2051  2052  2053  2054  2055  2056 \n",
              "    2     1     1     1     1     1     2     1     1     1     1     1     2 \n",
              " 2059  2060  2061  2062  2063  2064  2065  2066  2067  2068  2069  2070  2071 \n",
              "    1     1     1     1     1     1     1     1     1     1     1     1     1 \n",
              " 2072  2073  2074  2075  2076  2077  2078  2079  2080  2081  2082  2083  2084 \n",
              "    1     1     1     1     1     1     2     1     1     1     1     1     2 \n",
              " 2085  2086  2087  2088  2089  2090  2091  2092  2093  2094  2095  2096  2097 \n",
              "    1     1     1     1     1     1     1     1     1     1     2     1     2 \n",
              " 2098  2099  2100  2101  2102  2103  2104  2105  2106  2107  2108  2109  2110 \n",
              "    1     1     1     1     2     1     1     1     1     1     2     1     2 \n",
              " 2111  2112  2113  2114  2115  2116  2117  2118  2119  2120  2121  2122  2123 \n",
              "    1     1     1     1     1     1     2     1     1     1     1     1     1 \n",
              " 2124  2125  2126  2127  2128  2129  2130  2131  2132  2133  2134  2135  2136 \n",
              "    2     1     1     1     1     2     1     1     1     1     1     1     1 \n",
              " 2137  2138  2139  2140  2141  2142  2143  2144  2145  2146  2147  2148  2149 \n",
              "    1     1     1     1     1     2     1     1     1     1     1     1     1 \n",
              " 2150  2151  2152  2153  2154  2155  2156  2157  2158  2159  2160  2161  2162 \n",
              "    1     1     1     1     1     1     1     1     1     1     1     1     2 \n",
              " 2163  2164  2165  2166  2167  2168  2169  2170  2171  2172  2173  2174  2175 \n",
              "    1     1     1     1     1     1     1     1     1     1     1     1     1 \n",
              " 2176  2177  2178  2179  2180  2181  2182  2183  2184  2185  2186  2187  2188 \n",
              "    1     1     1     1     1     1     1     1     1     1     1     1     1 \n",
              " 2189  2190  2191  2192  2193  2194  2195  2196  2197  2198  2199  2200  2201 \n",
              "    1     2     2     1     1     1     1     1     1     1     1     2     2 \n",
              " 2202  2203  2204  2205  2206  2207  2208  2209  2210  2211  2212  2213  2214 \n",
              "    1     1     1     2     1     1     1     1     1     1     2     1     1 \n",
              " 2215  2216  2217  2218  2219  2220  2221  2222  2223  2224  2225  2226  2227 \n",
              "    1     1     1     1     1     1     1     1     1     1     1     1     1 \n",
              " 2228  2229  2230  2231  2232  2233  2234  2235  2237  2238  2239  2240  2241 \n",
              "    1     1     1     1     1     1     1     1     1     1     1     1     2 \n",
              " 2242  2243  2244  2245  2246  2247  2248  2249  2250  2251  2252  2253  2254 \n",
              "    1     1     1     1     1     1     1     1     1     1     1     1     2 \n",
              " 2255  2256  2257  2258  2259  2260  2261  2262  2263  2264  2265  2266  2267 \n",
              "    1     1     1     1     1     1     1     1     1     1     1     1     2 \n",
              " 2268  2269  2270  2271  2272  2273  2274  2275  2276  2277  2278  2279  2280 \n",
              "    1     2     1     1     1     1     1     1     1     2     1     1     1 \n",
              " 2281  2282  2283  2284  2285  2286  2287  2288  2289  2290  2291  2292  2293 \n",
              "    2     1     1     2     1     2     1     1     1     1     2     1     1 \n",
              " 2294  2295  2296  2297  2298  2299  2300  2301  2302  2303  2304  2305  2306 \n",
              "    1     1     1     1     1     2     1     1     1     1     1     1     1 \n",
              " 2307  2308  2309  2310  2311  2312  2313  2314  2315  2316  2317  2318  2319 \n",
              "    2     1     1     1     2     1     1     1     1     1     1     1     1 \n",
              " 2320  2321  2322  2323  2324  2325  2326  2327  2328  2329  2330  2331  2332 \n",
              "    1     1     1     2     1     2     1     2     1     1     1     1     1 \n",
              " 2333  2334  2335  2336  2337  2338  2339  2340  2341  2342  2343  2344  2345 \n",
              "    1     1     1     1     1     1     1     1     2     1     1     2     1 \n",
              " 2346  2347  2348  2349  2350  2351  2352  2353  2354  2355  2356  2357  2358 \n",
              "    2     1     1     2     1     1     1     2     2     1     1     1     1 \n",
              " 2359  2360  2361  2362  2363  2364  2365  2366  2367  2368  2369  2370  2371 \n",
              "    1     1     1     1     1     1     1     1     1     1     2     1     1 \n",
              " 2372  2373  2374  2375  2376  2377  2378  2379  2380  2381  2382  2383  2384 \n",
              "    1     2     1     1     1     1     1     1     1     1     1     1     1 \n",
              " 2385  2386  2387  2388  2389  2390  2391  2392  2393  2394  2395  2396  2397 \n",
              "    1     1     1     1     1     1     1     1     2     2     1     2     1 \n",
              " 2398  2399  2400  2401  2402  2403  2404  2405  2406  2407  2408  2409  2410 \n",
              "    1     1     1     1     2     1     1     1     1     1     1     1     1 \n",
              " 2411  2412  2413  2414  2415  2416  2417  2418  2419  2420  2421  2422  2423 \n",
              "    1     1     1     1     1     2     1     1     1     1     2     1     1 \n",
              " 2424  2425  2426  2427  2428  2429  2430  2431  2432  2433  2434  2435  2436 \n",
              "    1     2     1     1     1     1     2     1     1     2     1     1     2 \n",
              " 2437  2438  2439  2440  2441  2442  2443  2444  2445  2446  2447  2448  2449 \n",
              "    1     1     1     1     1     1     1     1     1     1     1     1     1 \n",
              " 2450  2451  2452  2453  2454  2455  2456  2457  2458  2459  2460  2461  2462 \n",
              "    1     2     1     1     1     2     1     1     1     2     1     1     1 \n",
              " 2463  2464  2465  2466  2467  2468  2469  2470  2471  2472  2473  2474  2475 \n",
              "    1     1     1     1     1     2     1     1     1     1     1     1     1 \n",
              " 2476  2477  2478  2479  2480  2481  2482  2483  2484  2485  2486  2487  2488 \n",
              "    1     1     1     1     1     1     1     1     1     1     1     2     1 \n",
              " 2489  2490  2491  2492  2493  2494  2495  2496  2497  2498  2499  2500  2501 \n",
              "    1     1     1     1     1     1     1     1     1     2     2     1     1 \n",
              " 2502  2503  2504  2505  2506  2507  2508  2509  2510  2511  2512  2513  2514 \n",
              "    1     1     1     2     1     1     1     1     1     1     1     1     1 \n",
              " 2515  2516  2517  2518  2519  2520  2521  2522  2523  2524  2525  2526  2527 \n",
              "    1     1     1     1     1     1     1     1     1     1     1     1     1 \n",
              " 2528  2529  2530  2531  2532  2533  2534  2535  2536  2537  2538  2539  2540 \n",
              "    1     1     1     1     2     1     1     2     2     1     2     1     1 \n",
              " 2541  2542  2543  2544  2545  2546  2547  2548  2549  2550  2551  2552  2553 \n",
              "    1     1     1     1     1     2     1     1     2     1     1     1     1 \n",
              " 2554  2555  2556  2557  2558  2559  2560  2561  2562  2563  2564  2565  2566 \n",
              "    1     1     1     1     1     1     2     1     1     2     1     1     2 \n",
              " 2567  2568  2569  2570  2571  2572  2573  2574  2575  2576  2577  2578  2579 \n",
              "    1     1     1     2     1     1     2     1     1     2     1     2     1 \n",
              " 2580  2581  2582  2583  2584  2585  2586  2587  2588  2589  2590  2591  2592 \n",
              "    1     1     2     1     1     1     1     1     1     1     1     1     1 \n",
              " 2593  2594  2595  2596  2597  2598  2599  2600  2601  2602  2603  2604  2605 \n",
              "    1     1     1     1     1     1     1     2     2     1     1     1     1 \n",
              " 2606  2607  2608  2609  2610  2611  2612  2613  2614  2615  2616  2617  2618 \n",
              "    2     1     2     1     1     1     1     1     1     1     1     2     1 \n",
              " 2619  2620  2621  2623  2624  2625  2626  2627  2628  2629  2630  2631  2632 \n",
              "    1     1     1     1     2     1     2     1     1     1     1     1     1 \n",
              " 2633  2634  2635  2636  2637  2638  2639  2640  2641  2642  2643  2644  2645 \n",
              "    1     2     1     1     1     2     1     1     2     1     1     1     1 \n",
              " 2646  2647  2648  2649  2650  2651  2652  2653  2654  2655  2656  2657  2658 \n",
              "    1     1     1     1     1     1     2     1     2     1     1     1     1 \n",
              " 2659  2660  2661  2662  2663  2664  2665  2666  2667  2668  2669  2670  2671 \n",
              "    1     1     1     1     1     2     1     1     1     1     1     1     1 \n",
              " 2672  2673  2674  2675  2676  2677  2678  2679  2680  2681  2682  2683  2684 \n",
              "    1     2     1     2     1     1     1     1     1     1     1     1     2 \n",
              " 2685  2686  2687  2688  2689  2690  2691  2692  2693  2694  2695  2696  2697 \n",
              "    1     1     1     1     1     1     1     1     1     1     1     2     1 \n",
              " 2698  2699  2700  2701  2702  2703  2704  2705  2706  2707  2708  2709  2710 \n",
              "    1     1     2     1     1     1     2     1     2     1     1     1     1 \n",
              " 2711  2712  2713  2714  2715  2716  2717  2718  2719  2720  2721  2722  2723 \n",
              "    1     1     1     1     1     2     2     1     1     1     1     1     1 \n",
              " 2724  2725  2726  2727  2728  2729  2730  2731  2732  2733  2734  2735  2736 \n",
              "    1     1     1     1     2     1     1     1     2     1     1     1     1 \n",
              " 2737  2738  2739  2741  2742  2743  2744  2745  2746  2747  2748  2749  2750 \n",
              "    1     1     1     1     1     1     2     1     1     1     1     1     1 \n",
              " 2751  2752  2753  2755  2756  2757  2758  2759  2760  2761  2762  2763  2764 \n",
              "    1     1     1     1     1     1     1     1     1     1     1     1     1 \n",
              " 2765  2766  2767  2768  2769  2770  2771  2772  2773  2774  2775  2776  2777 \n",
              "    1     1     2     2     1     1     1     1     1     1     1     2     2 \n",
              " 2778  2779  2780  2781  2782  2783  2784  2785  2786  2787  2788  2789  2790 \n",
              "    1     1     1     1     1     1     1     1     1     1     1     1     1 \n",
              " 2791  2792  2793  2794  2795  2796  2797  2798  2799  2800  2801  2802  2803 \n",
              "    1     2     1     1     1     1     1     1     2     1     1     1     1 \n",
              " 2804  2805  2806  2807  2808  2809  2810  2811  2812  2813  2814  2815  2816 \n",
              "    1     1     1     2     1     1     1     2     1     1     2     1     1 \n",
              " 2817  2818  2819  2820  2821  2822  2823  2824  2825  2826  2827  2828  2829 \n",
              "    1     2     1     1     1     1     1     1     1     1     1     1     1 \n",
              " 2830  2831  2832  2833  2834  2835  2836  2837  2838  2839  2840  2841  2842 \n",
              "    1     1     1     1     1     2     1     1     2     1     2     1     1 \n",
              " 2843  2844  2845  2846  2847  2848  2849  2850  2851  2852  2853  2854  2855 \n",
              "    1     1     1     1     1     1     2     1     1     1     1     1     1 \n",
              " 2856  2857  2858  2859  2860  2861  2862  2863  2864  2865  2866  2867  2868 \n",
              "    2     1     1     1     1     1     1     1     1     1     1     1     1 \n",
              " 2869  2870  2871  2872  2873  2874  2875  2876  2877  2878  2879  2880  2881 \n",
              "    1     1     2     1     1     1     2     1     1     2     1     1     2 \n",
              " 2882  2883  2884  2885  2886  2887  2888  2889  2890  2891  2892  2893  2894 \n",
              "    1     2     2     1     1     1     1     1     2     1     1     1     1 \n",
              " 2895  2896  2897  2898  2899  2900  2901  2902  2903  2904  2905  2906  2907 \n",
              "    1     1     2     1     1     1     1     1     1     1     1     1     1 \n",
              " 2908  2909  2910  2911  2912  2913  2914  2915  2916  2917  2918  2919  2920 \n",
              "    1     1     1     2     1     1     1     1     1     1     1     1     1 \n",
              " 2921  2922  2923  2924  2925  2926  2927  2928  2929  2930  2931  2932  2933 \n",
              "    2     2     1     1     1     1     1     1     1     1     1     1     1 \n",
              " 2934  2935  2936  2937  2938  2939  2940  2941  2942  2943  2944  2945  2946 \n",
              "    1     1     1     1     1     1     1     1     1     1     1     1     1 \n",
              " 2947  2948  2949  2950  2951  2952  2953  2954  2955  2956  2957  2958  2959 \n",
              "    1     1     1     1     1     1     1     1     1     1     1     1     1 \n",
              " 2960  2961  2962  2963  2964  2965  2966  2967  2968  2969  2970  2971  2972 \n",
              "    1     1     1     1     1     1     1     1     1     1     1     2     1 \n",
              " 2973  2974  2975  2976  2977  2978  2979  2980  2981  2982  2983  2984  2985 \n",
              "    1     1     1     1     2     2     1     1     1     2     1     1     1 \n",
              " 2986  2987  2988  2989  2990  2991  2992  2993  2994  2995  2996  2997  2998 \n",
              "    1     1     1     1     1     1     1     1     1     2     1     2     1 \n",
              " 2999  3000  3001  3002  3003  3004  3005  3006  3007  3008  3009  3010  3011 \n",
              "    1     1     1     1     2     1     1     1     1     1     1     1     1 \n",
              " 3012  3013  3014  3015  3016  3017  3018  3019  3020  3021  3022  3023  3024 \n",
              "    1     2     1     1     1     1     1     1     1     1     1     1     1 \n",
              " 3025  3026  3027  3028  3029  3030  3031  3032  3033  3034  3035  3036  3037 \n",
              "    1     1     1     1     1     1     1     1     2     1     1     2     1 \n",
              " 3038  3039  3040  3041  3042  3043  3044  3045  3046  3047  3048  3049  3050 \n",
              "    1     1     1     1     1     1     1     1     1     2     1     1     1 \n",
              " 3051  3052  3053  3054  3055  3056  3057  3058  3059  3060  3061  3062  3063 \n",
              "    1     1     1     1     1     1     1     1     1     1     1     1     1 \n",
              " 3064  3065  3066  3067  3068  3069  3070  3071  3072  3073  3074  3075  3076 \n",
              "    1     1     2     1     1     1     1     1     2     1     1     2     2 \n",
              " 3077  3078  3079  3080  3081  3082  3083  3084  3085  3086  3087  3088  3089 \n",
              "    1     1     1     1     1     1     1     1     1     1     2     1     2 \n",
              " 3090  3091  3092  3093  3094  3095  3096  3097  3098  3099  3100  3101  3102 \n",
              "    1     1     1     1     1     1     2     1     1     1     1     2     1 \n",
              " 3103  3104  3105  3106  3107  3108  3109  3110  3111  3112  3113  3114  3115 \n",
              "    1     1     1     1     1     1     1     1     1     2     1     1     1 \n",
              " 3116  3117  3118  3119  3120  3121  3122  3123  3124  3125  3126  3127  3128 \n",
              "    1     1     2     2     2     1     1     1     1     1     1     1     1 \n",
              " 3129  3130  3131  3132  3133  3134  3135  3136  3137  3138  3139  3140  3141 \n",
              "    1     1     1     1     1     1     1     1     1     2     1     1     1 \n",
              " 3142  3143  3144  3145  3146  3147  3148  3149  3150  3151  3152  3153  3154 \n",
              "    2     1     1     2     1     1     1     1     1     2     2     1     1 \n",
              " 3155  3156  3157  3158  3159  3160  3161  3162  3163  3164  3165  3166  3167 \n",
              "    1     1     2     1     1     2     2     1     1     1     1     1     2 \n",
              " 3168  3169  3170  3171  3172  3173  3174  3175  3176  3177  3178  3179  3180 \n",
              "    1     1     1     1     1     1     1     1     2     1     1     1     1 \n",
              " 3181  3182  3183  3184  3185  3186  3187  3188  3189  3190  3191  3192  3193 \n",
              "    2     1     2     1     1     1     1     1     1     1     1     1     1 \n",
              " 3194  3195  3196  3197  3198  3199  3200  3201  3202  3203  3204  3205  3206 \n",
              "    1     1     1     1     1     1     2     1     1     1     1     1     1 \n",
              " 3207  3208  3209  3210  3211  3212  3213  3214  3215  3216  3217  3218  3219 \n",
              "    1     1     1     1     1     1     1     1     1     1     1     1     1 \n",
              " 3220  3221  3222  3223  3224  3225  3226  3227  3228  3229  3230  3231  3233 \n",
              "    1     1     1     2     1     1     1     2     1     1     1     1     1 \n",
              " 3234  3235  3236  3237  3238  3239  3240  3241  3242  3243  3244  3245  3246 \n",
              "    1     1     1     1     1     1     1     1     1     1     1     1     1 \n",
              " 3247  3248  3249  3250  3251  3252  3253  3254  3255  3256  3257  3258  3259 \n",
              "    1     1     1     1     1     1     1     1     1     1     1     2     1 \n",
              " 3260  3261  3262  3263  3264  3265  3266  3267  3268  3269  3270  3271  3272 \n",
              "    1     1     1     1     1     1     1     1     1     1     1     2     1 \n",
              " 3274  3275  3276  3277  3278  3279  3280  3281  3283  3284  3285  3286  3287 \n",
              "    1     1     1     1     1     1     1     1     2     1     2     2     1 \n",
              " 3288  3289  3290  3291  3292  3293  3294  3295  3296  3297  3298  3299  3300 \n",
              "    1     1     1     1     1     1     1     1     2     1     1     1     1 \n",
              " 3301  3302  3303  3304  3305  3306  3307  3308  3309  3310  3311  3312  3313 \n",
              "    1     2     1     2     1     2     1     1     1     1     1     1     1 \n",
              " 3314  3315  3316  3317  3318  3319  3320  3321  3322  3323  3324  3325  3326 \n",
              "    1     1     1     1     1     1     1     1     1     1     1     2     1 \n",
              " 3327  3328  3329  3330  3331  3332  3333  3334  3335  3336  3337  3338  3339 \n",
              "    1     1     2     1     1     1     1     1     1     1     1     1     1 \n",
              " 3340  3341  3342  3343  3344  3345  3346  3347  3348  3349  3350  3351  3352 \n",
              "    1     1     1     2     1     1     1     1     1     2     2     1     1 \n",
              " 3353  3354  3355  3356  3357  3358  3359  3360  3361  3362  3363  3364  3365 \n",
              "    1     1     1     1     2     1     1     1     1     2     1     1     1 \n",
              " 3366  3367  3368  3369  3370  3371  3372  3373  3374  3375  3376  3377  3378 \n",
              "    2     1     1     1     1     1     1     1     1     1     1     2     1 \n",
              " 3379  3380  3381  3382  3383  3384  3385  3386  3387  3388  3389  3390  3391 \n",
              "    1     1     1     1     1     1     1     1     1     1     1     1     1 \n",
              " 3392  3393  3394  3395  3396  3397  3398  3399  3400  3401  3402  3403  3404 \n",
              "    1     1     1     1     1     1     1     1     1     1     1     1     1 \n",
              " 3405  3406  3407  3408  3409  3410  3411  3412  3413  3414  3415  3416  3417 \n",
              "    1     1     2     1     1     2     1     1     1     1     1     1     1 \n",
              " 3418  3419  3420  3421  3422  3423  3424  3425  3426  3427  3428  3429  3430 \n",
              "    1     1     1     1     1     1     1     1     1     1     1     1     1 \n",
              " 3431  3432  3433  3434  3435  3436  3437  3438  3439  3440  3441  3442  3443 \n",
              "    1     2     2     1     2     1     1     1     2     1     1     1     1 \n",
              " 3444  3445  3446  3447  3448  3449  3450  3451  3452  3453  3454  3455  3456 \n",
              "    1     1     1     1     2     1     1     1     1     1     1     1     2 \n",
              " 3457  3458  3459  3460  3461  3462  3463  3464  3465  3466  3467  3468  3469 \n",
              "    2     1     1     1     1     2     1     1     1     2     1     1     1 \n",
              " 3470  3471  3472  3473  3474  3475  3476  3477  3478  3479  3480  3481  3482 \n",
              "    1     1     1     1     1     1     1     1     1     1     1     2     1 \n",
              " 3483  3484  3485  3486  3487  3488  3489  3490  3491  3492  3493  3494  3495 \n",
              "    1     1     1     1     1     1     1     1     1     1     1     2     1 \n",
              " 3496  3497  3498  3499  3500  3501  3502  3503  3504  3505  3506  3507  3508 \n",
              "    1     1     2     2     2     1     1     2     1     1     1     1     1 \n",
              " 3509  3510  3511  3512  3513  3514  3515  3516  3517  3518  3519  3520  3521 \n",
              "    1     1     1     1     1     1     1     1     1     1     1     2     1 \n",
              " 3522  3523  3524  3525  3526  3527  3528  3529  3530  3531  3532  3533  3534 \n",
              "    2     1     1     1     1     1     1     1     1     1     1     1     1 \n",
              " 3535  3536  3537  3538  3539  3540  3541  3542  3543  3544  3545  3546  3547 \n",
              "    1     1     1     1     1     1     1     2     1     1     2     2     1 \n",
              " 3548  3549  3550  3551  3552  3553  3554  3555  3556  3557  3558  3559  3560 \n",
              "    1     1     1     2     1     1     1     1     1     1     1     2     1 \n",
              " 3561  3562  3563  3564  3565  3566  3567  3568  3569  3570  3571  3572  3573 \n",
              "    1     1     1     1     1     1     1     1     1     1     1     1     1 \n",
              " 3574  3575  3576  3577  3579  3580  3581  3582  3583  3584  3585  3586  3587 \n",
              "    1     1     1     1     1     2     2     2     1     1     1     1     1 \n",
              " 3588  3589  3590  3591  3592  3593  3594  3595  3596  3597  3598  3599  3600 \n",
              "    1     1     2     2     1     1     1     1     1     1     1     1     1 \n",
              " 3601  3602  3603  3604  3605  3606  3607  3608  3609  3610  3611  3612  3613 \n",
              "    1     1     2     1     1     2     1     1     1     2     1     1     1 \n",
              " 3614  3615  3616  3617  3618  3619  3620  3621  3622  3623  3624  3625  3626 \n",
              "    1     1     1     1     2     1     1     1     1     1     1     1     1 \n",
              " 3627  3628  3629  3630  3631  3632  3633  3634  3635  3636  3637  3638  3639 \n",
              "    1     1     1     1     1     1     2     1     1     1     1     1     1 \n",
              " 3640  3641  3642  3643  3644  3645  3646  3647  3648  3649  3650  3652  3653 \n",
              "    2     1     1     1     1     1     2     1     1     1     2     1     1 \n",
              " 3654  3655  3656  3657  3658  3659  3660  3661  3662  3663  3665  3666  3667 \n",
              "    2     1     1     1     1     1     1     1     1     1     1     2     1 \n",
              " 3668  3669  3670  3671  3672  3673  3674  3675  3676  3677  3678  3679  3680 \n",
              "    1     1     1     1     1     1     1     1     1     1     2     1     1 \n",
              " 3681  3682  3683  3684  3685  3686  3687  3688  3689  3690  3691  3692  3693 \n",
              "    1     1     1     2     1     1     1     1     1     1     1     1     1 \n",
              " 3694  3695  3696  3697  3698  3699  3700  3701  3702  3703  3704  3705  3706 \n",
              "    1     1     1     1     1     1     1     1     1     1     1     1     1 \n",
              " 3707  3708  3709  3710  3711  3712  3713  3714  3715  3716  3717  3718  3719 \n",
              "    2     1     1     1     1     1     1     1     1     1     1     1     1 \n",
              " 3720  3721  3723  3724  3725  3726  3727  3728  3729  3730  3731  3732  3733 \n",
              "    2     1     1     1     1     1     1     1     1     1     1     1     1 \n",
              " 3734  3735  3736  3737  3738  3739  3740  3741  3742  3743  3744  3745  3746 \n",
              "    1     1     1     1     1     1     2     1     1     1     2     1     1 \n",
              " 3747  3748  3749  3750  3751  3752  3753  3754  3755  3756  3757  3758  3759 \n",
              "    2     2     2     1     1     1     2     1     1     1     1     1     1 \n",
              " 3760  3761  3762  3763  3764  3765  3766  3767  3768  3769  3770  3771  3772 \n",
              "    1     1     1     1     1     1     1     1     1     1     1     1     1 \n",
              " 3773  3774  3775  3776  3777  3778  3779  3780  3781  3782  3783  3784  3785 \n",
              "    1     1     1     1     1     1     1     1     1     1     2     2     1 \n",
              " 3786  3787  3788  3789  3790  3791  3792  3793  3794  3795  3796  3797  3798 \n",
              "    2     1     1     1     1     2     1     1     1     2     1     1     1 \n",
              " 3799  3800  3801  3802  3803  3804  3805  3806  3807  3808  3809  3810  3811 \n",
              "    1     1     1     1     1     1     1     1     2     1     1     1     1 \n",
              " 3812  3813  3814  3815  3816  3817  3818  3819  3820  3821  3822  3823  3824 \n",
              "    1     1     1     1     1     2     1     1     1     1     1     1     1 \n",
              " 3825  3826  3827  3828  3829  3830  3831  3832  3833  3834  3835  3836  3837 \n",
              "    1     1     1     1     2     1     1     1     1     1     2     1     1 \n",
              " 3838  3839  3840  3841  3842  3843  3844  3845  3846  3847  3848  3849  3850 \n",
              "    1     1     1     2     2     1     1     1     1     1     1     1     1 \n",
              " 3851  3852  3853  3854  3855  3856  3857  3858  3859  3860  3861  3862  3863 \n",
              "    2     1     1     1     2     1     1     1     1     1     1     1     1 \n",
              " 3864  3865  3866  3867  3868  3869  3870  3871  3872  3873  3874  3875  3876 \n",
              "    1     1     1     2     1     1     1     1     1     2     1     1     1 \n",
              " 3877  3878  3879  3880  3881  3882  3883  3884  3885  3886  3887  3888  3889 \n",
              "    1     1     1     1     1     1     2     1     1     2     1     1     1 \n",
              " 3890  3891  3893  3894  3895  3896  3897  3898  3899  3900  3901  3902  3903 \n",
              "    2     1     1     1     2     1     1     1     1     1     1     1     1 \n",
              " 3904  3905  3906  3907  3908  3909  3910  3911  3912  3913  3914  3915  3916 \n",
              "    1     1     1     2     1     1     1     1     1     1     1     1     1 \n",
              " 3917  3918  3919  3920  3921  3922  3923  3924  3925  3926  3927  3928  3929 \n",
              "    2     1     1     1     1     1     1     1     1     1     1     1     1 \n",
              " 3930  3931  3932  3933  3934  3935  3936  3937  3938  3939  3940  3941  3942 \n",
              "    1     1     2     1     1     1     1     1     1     1     1     1     1 \n",
              " 3943  3944  3945  3946  3947  3948  3949  3950  3951  3952  3953  3954  3955 \n",
              "    1     1     1     1     1     1     1     2     1     1     1     1     1 \n",
              " 3956  3957  3958  3959  3960  3961  3962  3963  3964  3965  3966  3967  3968 \n",
              "    1     1     1     1     1     1     1     1     1     1     1     1     2 \n",
              " 3969  3970  3971  3972  3973  3974  3975  3976  3977  3978  3979  3980  3981 \n",
              "    2     1     1     1     1     1     2     1     1     1     1     1     1 \n",
              " 3982  3983  3984  3985  3986  3987  3988  3989  3990  3991  3992  3993  3994 \n",
              "    1     1     1     1     1     1     2     1     1     1     1     1     1 \n",
              " 3995  3996  3997  3998  3999  4000  4001  4002  4003  4004  4005  4006  4007 \n",
              "    1     1     1     1     1     1     1     1     1     1     1     1     1 \n",
              " 4008  4009  4010  4011  4012  4013  4014  4015  4016  4017  4018  4019  4020 \n",
              "    1     1     1     1     1     1     1     1     1     1     1     2     1 \n",
              " 4021  4022  4023  4024  4025  4026  4027  4028  4029  4030  4031  4032  4033 \n",
              "    1     1     2     1     2     1     1     1     1     1     2     1     1 \n",
              " 4034  4035  4036  4037  4038  4039  4040  4041  4042  4043  4044  4045  4046 \n",
              "    1     1     2     1     1     1     2     1     2     1     2     1     1 \n",
              " 4047  4048  4049  4050  4051  4052  4053  4054  4055  4056  4057  4058  4059 \n",
              "    1     1     2     1     1     1     1     1     1     1     1     2     1 \n",
              " 4060  4061  4062  4063  4064  4065  4066  4067  4068  4069  4070  4071  4072 \n",
              "    2     1     2     1     1     1     1     1     1     1     1     1     1 \n",
              " 4073  4074  4075  4076  4077  4078  4079  4080  4081  4082  4083  4084  4085 \n",
              "    2     2     1     1     1     1     1     1     2     1     1     1     1 \n",
              " 4086  4087  4088  4089  4090  4091  4092  4093  4094  4095  4096  4097  4098 \n",
              "    1     1     2     1     1     2     1     1     1     1     2     1     1 \n",
              " 4099  4100  4101  4102  4103  4104  4105  4106  4107  4108  4109  4110  4111 \n",
              "    1     1     2     1     2     2     1     1     2     1     1     1     1 \n",
              " 4112  4113  4114  4115  4116  4117  4118  4119  4120  4121  4122  4123  4124 \n",
              "    1     1     1     1     1     1     1     2     1     1     1     1     1 \n",
              " 4125  4126  4127  4128  4129  4130  4131  4132  4133  4134  4135  4136  4137 \n",
              "    1     1     1     1     1     1     1     1     1     1     1     1     1 \n",
              " 4138  4139  4140  4141  4142  4143  4144  4145  4146  4147  4148  4149  4150 \n",
              "    2     1     1     2     1     1     1     1     1     1     1     1     1 \n",
              " 4151  4152  4153  4154  4155  4156  4157  4158  4159  4160  4161  4162  4163 \n",
              "    1     1     2     1     1     1     1     1     2     1     1     2     2 \n",
              " 4165  4166  4167  4168  4169  4170  4171  4172  4173  4174  4175  4176  4177 \n",
              "    1     2     1     2     1     1     2     1     1     1     1     1     2 \n",
              " 4178  4179  4180  4181  4182  4184  4185  4186  4187  4188  4189  4190  4191 \n",
              "    1     1     1     1     1     1     1     1     2     1     2     1     1 \n",
              " 4192  4193  4194  4195  4196  4197  4198  4199  4200  4201  4202  4203  4204 \n",
              "    1     1     1     1     1     1     1     1     1     1     2     1     1 \n",
              " 4205  4206  4207  4208  4209  4210  4211  4212  4213  4214  4215  4216  4217 \n",
              "    1     1     1     1     1     1     1     1     1     1     1     1     1 \n",
              " 4218  4219  4220  4221  4222  4223  4224  4225  4226  4227  4228  4229  4230 \n",
              "    1     1     1     1     1     1     1     1     2     1     1     1     1 \n",
              " 4231  4233  4234  4235  4236  4237  4238  4239  4240  4241  4242  4243  4244 \n",
              "    1     1     2     1     1     1     1     1     1     1     1     1     1 \n",
              " 4245  4246  4247  4248  4249  4250  4251  4252  4253  4254  4255  4256  4257 \n",
              "    1     1     1     1     1     1     2     1     2     2     2     2     1 \n",
              " 4258  4259  4260  4261  4262  4263  4264  4265  4266  4267  4268  4269  4270 \n",
              "    2     1     1     1     1     1     1     1     1     1     1     1     1 \n",
              " 4271  4272  4273  4274  4275  4276  4277  4278  4279  4280  4281  4282  4283 \n",
              "    1     1     1     2     2     1     2     1     1     1     1     2     1 \n",
              " 4284  4285  4286  4287  4288  4289  4290  4291  4292  4293  4294  4295  4296 \n",
              "    1     1     1     1     1     2     1     1     2     1     1     2     1 \n",
              " 4297  4298  4299  4300  4301  4302  4303  4304  4305  4306  4307  4308  4309 \n",
              "    1     1     1     1     1     1     1     1     1     2     1     1     1 \n",
              " 4310  4311  4312  4313  4314  4315  4316  4317  4318  4319  4320  4321  4322 \n",
              "    1     1     1     1     1     1     1     1     1     1     2     1     1 \n",
              " 4323  4324  4325  4326  4327  4328  4329  4330  4331  4332  4333  4334  4335 \n",
              "    1     1     1     1     2     1     2     2     1     2     1     1     2 \n",
              " 4336  4337  4338  4339  4340  4341  4342  4343  4345  4346  4347  4348  4349 \n",
              "    1     1     1     2     1     1     1     1     1     1     1     1     1 \n",
              " 4350  4351  4352  4353  4354  4355  4356  4357  4358  4359  4360  4361  4362 \n",
              "    2     1     1     1     1     1     1     1     1     1     1     1     1 \n",
              " 4363  4364  4365  4366  4367  4368  4369  4370  4371  4372  4373  4374  4376 \n",
              "    1     1     2     1     1     1     1     1     1     1     1     1     1 \n",
              " 4377  4378  4379  4380  4381  4382  4383  4384  4385  4386  4387  4388  4389 \n",
              "    1     2     1     1     1     1     1     1     1     1     1     2     1 \n",
              " 4390  4391  4392  4393  4394  4395  4396  4397  4398  4399  4400  4401  4402 \n",
              "    1     1     1     1     2     2     1     1     1     1     1     1     1 \n",
              " 4403  4405  4406  4407  4408  4409  4410  4411  4412  4413  4414  4415  4416 \n",
              "    1     1     1     1     2     1     2     2     1     1     1     1     1 \n",
              " 4417  4418  4419  4420  4421  4422  4423  4424  4425  4426  4428  4429  4430 \n",
              "    1     1     1     2     1     1     2     1     1     1     1     1     2 \n",
              " 4431  4432  4433  4434  4435  4436  4437  4438  4439  4440  4441  4442  4443 \n",
              "    1     1     2     1     1     2     1     1     1     1     2     2     1 \n",
              " 4444  4445  4446  4447  4448  4449  4450  4451  4452  4453  4454  4455  4456 \n",
              "    1     1     1     1     1     1     1     1     1     1     1     1     1 \n",
              " 4457  4458  4459  4460  4461  4462  4463  4465  4466  4467  4468  4469  4470 \n",
              "    1     1     1     2     2     1     1     1     1     1     1     1     1 \n",
              " 4471  4472  4473  4474  4475  4476  4477  4478  4479  4480  4481  4482  4483 \n",
              "    1     1     1     1     1     1     1     1     1     2     2     1     1 \n",
              " 4484  4485  4486  4487  4488  4489  4491  4492  4493  4494  4495  4496  4497 \n",
              "    2     1     1     1     1     1     1     1     1     1     1     1     1 \n",
              " 4498  4499  4500  4501  4502  4503  4504  4505  4506  4507  4508  4509  4510 \n",
              "    1     1     1     1     1     1     2     1     1     1     1     1     1 \n",
              " 4511  4512  4513  4514  4515  4516  4517  4518  4519  4520  4521  4522  4523 \n",
              "    1     1     1     1     1     2     2     1     2     1     1     1     1 \n",
              " 4524  4525  4526  4527  4528  4529  4530  4531  4532  4533  4534  4535  4536 \n",
              "    1     2     1     1     1     1     1     1     1     1     2     1     1 \n",
              " 4537  4538  4539  4540  4541  4542  4543  4544  4545  4546  4547  4548  4549 \n",
              "    1     1     1     1     1     1     2     1     1     1     1     1     1 \n",
              " 4550  4551  4552  4554  4555  4556  4557  4558  4559  4560  4561  4562  4563 \n",
              "    1     1     1     1     2     1     1     1     1     2     1     1     1 \n",
              " 4564  4565  4566  4567  4568  4569  4570  4571  4572  4573  4574  4575  4576 \n",
              "    1     1     1     1     1     1     1     1     1     1     1     1     2 \n",
              " 4577  4578  4579  4580  4581  4582  4583  4584  4585  4586  4587  4588  4589 \n",
              "    1     1     1     1     1     1     1     1     1     1     2     1     1 \n",
              " 4590  4591  4592  4593  4594  4595  4596  4597  4598  4599  4600  4601  4602 \n",
              "    2     1     1     1     1     1     1     1     1     1     1     1     1 \n",
              " 4603  4604  4605  4606  4607  4608  4609  4610  4611  4612  4613  4614  4615 \n",
              "    1     2     1     1     1     1     1     2     1     1     1     2     1 \n",
              " 4616  4617  4618  4619  4620  4621  4622  4623  4624  4625  4626  4627  4628 \n",
              "    1     1     1     1     2     2     1     1     1     1     2     1     1 \n",
              " 4629  4630  4631  4632  4633  4634  4635  4636  4637  4638  4639  4640  4641 \n",
              "    1     1     1     1     1     1     1     1     1     1     1     1     1 \n",
              " 4642  4643  4644  4645  4646  4647  4648  4649  4650  4651  4652  4653  4654 \n",
              "    1     1     2     1     1     1     1     1     1     1     1     1     2 \n",
              " 4655  4656  4657  4658  4659  4660  4661  4662  4663  4664  4665  4666  4667 \n",
              "    2     1     1     1     1     1     1     1     1     1     1     1     1 \n",
              " 4668  4669  4670  4671  4672  4673  4674  4675  4676  4677  4678  4679  4680 \n",
              "    1     1     1     1     1     2     1     2     1     1     1     1     1 \n",
              " 4681  4682  4683  4684  4685  4686  4687  4688  4689  4690  4691  4692  4693 \n",
              "    1     1     2     1     1     1     1     1     1     1     1     1     1 \n",
              " 4694  4695  4696  4697  4698  4699  4700  4701  4702  4703  4704  4705  4706 \n",
              "    1     1     1     1     1     1     2     2     1     1     1     1     1 \n",
              " 4707  4708  4709  4710  4711  4712  4713  4714  4715  4716  4717  4718  4719 \n",
              "    1     1     1     2     2     1     1     1     1     1     1     1     2 \n",
              " 4720  4721  4722  4723  4724  4725  4726  4727  4728  4729  4730  4731  4732 \n",
              "    1     1     1     1     1     1     1     1     1     1     1     1     1 \n",
              " 4733  4734  4735  4736  4737  4738  4739  4740  4741  4742  4743  4744  4745 \n",
              "    1     1     1     1     1     1     1     1     1     1     1     2     1 \n",
              " 4746  4747  4748  4749  4750  4751  4752  4753  4754  4755  4756  4757  4758 \n",
              "    1     1     1     1     1     1     2     1     1     1     1     1     1 \n",
              " 4759  4760  4761  4762  4763  4764  4765  4766  4767  4768  4769  4770  4771 \n",
              "    1     1     1     1     1     1     1     1     1     1     1     1     1 \n",
              " 4772  4773  4774  4775  4776  4777  4778  4779  4780  4781  4782  4783  4784 \n",
              "    1     1     1     1     1     1     1     1     1     1     1     1     1 \n",
              " 4785  4786  4787  4788  4789  4790  4791  4792  4793  4794  4795  4796  4797 \n",
              "    1     2     1     1     2     1     1     1     1     1     1     1     1 \n",
              " 4798  4799  4800  4801  4802  4803  4804  4805  4806  4807  4808  4809  4810 \n",
              "    1     1     1     1     1     2     2     2     1     1     1     1     1 \n",
              " 4811  4812  4813  4814  4815  4816  4817  4819  4820  4821  4822  4823  4824 \n",
              "    1     2     1     1     1     1     2     1     1     1     1     1     1 \n",
              " 4825  4826  4827  4828  4829  4830  4831  4832  4833  4834  4835  4836  4837 \n",
              "    2     2     1     1     2     2     1     1     1     1     1     2     1 \n",
              " 4838  4839  4840  4841  4842  4843  4844  4845  4846  4847  4848  4849  4850 \n",
              "    1     1     1     1     1     2     1     1     1     1     2     1     1 \n",
              " 4851  4852  4853  4854  4855  4856  4857  4858  4859  4860  4861  4862  4863 \n",
              "    1     1     1     1     1     1     1     1     2     1     1     1     1 \n",
              " 4864  4865  4866  4867  4868  4869  4870  4871  4872  4873  4874  4875  4876 \n",
              "    2     2     1     1     1     1     2     1     2     1     1     1     1 \n",
              " 4877  4878  4879  4880  4881  4882  4883  4885  4886  4887  4888  4889  4890 \n",
              "    1     2     1     1     1     2     1     1     1     1     1     1     1 \n",
              " 4891  4892  4893  4894  4895  4896  4897  4898  4899  4900  4901  4902  4903 \n",
              "    1     1     1     1     1     1     1     1     1     1     1     1     1 \n",
              " 4904  4905  4906  4907  4908  4909  4910  4911  4912  4913  4915  4916  4917 \n",
              "    1     1     2     1     1     1     1     1     1     1     1     1     1 \n",
              " 4918  4919  4920  4921  4922  4923  4924  4925  4926  4927  4928  4929  4930 \n",
              "    1     1     2     1     2     1     1     1     1     1     1     1     1 \n",
              " 4931  4932  4933  4934  4935  4936  4937  4938  4939  4940  4941  4942  4943 \n",
              "    1     1     1     1     1     1     1     1     1     1     1     1     1 \n",
              " 4944  4945  4946  4947  4948  4949  4950  4951  4952  4953  4954  4955  4956 \n",
              "    1     1     1     1     1     1     1     1     1     1     1     2     1 \n",
              " 4957  4958  4959  4960  4961  4962  4963  4964  4965  4966  4967  4968  4969 \n",
              "    1     2     1     1     1     1     1     2     1     1     1     1     1 \n",
              " 4970  4971  4972  4973  4974  4975  4976  4977  4978  4979  4980  4981  4982 \n",
              "    1     1     1     1     2     1     1     1     1     1     1     1     1 \n",
              " 4983  4984  4985  4986  4987  4988  4989  4990  4991  4992  4993  4994  4995 \n",
              "    1     1     1     1     1     1     1     1     1     2     1     1     1 \n",
              " 4996  4997  4998  4999  5000  5001  5002  5003  5004  5005  5006  5007  5008 \n",
              "    1     1     1     1     2     1     1     1     1     1     1     1     1 \n",
              " 5009  5010  5011  5012  5013  5014  5015  5016  5017  5018  5019  5020  5021 \n",
              "    1     1     2     2     1     1     1     2     1     1     1     1     1 \n",
              " 5022  5023  5024  5025  5026  5027  5028  5029  5030  5031  5032  5033  5034 \n",
              "    1     1     1     1     1     1     1     1     1     1     1     1     1 \n",
              " 5035  5036  5037  5038  5040  5041  5042  5043  5045  5046  5047  5048  5049 \n",
              "    1     1     1     1     1     1     1     1     1     1     1     1     1 \n",
              " 5050  5051  5052  5053  5054  5055  5056  5058  5059  5060  5061  5062  5063 \n",
              "    2     1     1     1     1     2     1     2     1     2     1     1     2 \n",
              " 5064  5065  5066  5067  5068  5069  5070  5071  5072  5073  5074  5075  5076 \n",
              "    1     1     1     1     1     2     1     1     1     1     2     1     1 \n",
              " 5077  5078  5079  5080  5081  5082  5083  5084  5085  5086  5087  5088  5089 \n",
              "    1     2     1     1     1     1     1     1     1     2     1     2     1 \n",
              " 5090  5091  5092  5093  5094  5095  5096  5097  5098  5099  5100  5101  5102 \n",
              "    1     1     2     2     1     1     2     1     1     1     1     1     1 \n",
              " 5103  5104  5105  5106  5107  5108  5109  5110  5111  5112  5113  5114  5115 \n",
              "    1     1     1     1     1     1     1     1     1     1     1     1     2 \n",
              " 5116  5117  5118  5120  5121  5122  5123  5124  5125  5126  5127  5128  5129 \n",
              "    2     1     1     1     2     2     1     1     1     1     1     1     1 \n",
              " 5130  5131  5132  5133  5134  5135  5136  5137  5138  5139  5140  5141  5142 \n",
              "    2     1     1     1     1     1     1     1     2     2     1     1     1 \n",
              " 5143  5144  5145  5146  5147  5148  5149  5150  5151  5152  5153  5154  5155 \n",
              "    1     1     1     1     1     1     1     1     1     1     2     1     1 \n",
              " 5156  5157  5158  5159  5160  5161  5162  5163  5164  5165  5166  5167  5168 \n",
              "    1     2     2     1     1     2     2     1     1     2     1     1     1 \n",
              " 5169  5170  5171  5172  5173  5174  5175  5176  5177  5178  5179  5180  5181 \n",
              "    1     2     1     1     1     1     1     1     1     2     1     1     1 \n",
              " 5182  5183  5184  5185  5186  5187  5188  5189  5190  5191  5192  5193  5194 \n",
              "    1     1     1     1     1     2     1     1     1     1     1     1     1 \n",
              " 5195  5196  5197  5198  5201  5202  5203  5204  5205  5206  5207  5208  5209 \n",
              "    1     1     1     1     1     1     1     1     1     1     1     1     1 \n",
              " 5210  5211  5212  5213  5214  5215  5216  5217  5218  5219  5220  5221  5222 \n",
              "    2     1     1     1     1     1     1     1     1     1     1     1     1 \n",
              " 5223  5224  5225  5226  5227  5228  5229  5230  5231  5232  5233  5234  5235 \n",
              "    1     1     1     2     1     1     1     1     1     1     1     1     1 \n",
              " 5236  5237  5238  5239  5240  5241  5242  5243  5244  5245  5246  5247  5248 \n",
              "    1     1     1     1     1     1     1     1     1     2     1     1     1 \n",
              " 5249  5250  5251  5252  5253  5254  5256  5257  5258  5259  5260  5261  5262 \n",
              "    1     1     1     1     1     1     1     1     1     2     1     1     1 \n",
              " 5263  5264  5265  5266  5267  5268  5269  5270  5271  5272  5273  5274  5275 \n",
              "    1     1     2     1     1     1     1     1     1     2     1     1     2 \n",
              " 5276  5278  5279  5280  5281  5282  5283  5284  5285  5286  5288  5289  5290 \n",
              "    1     1     1     1     1     2     1     1     1     1     1     1     1 \n",
              " 5291  5292  5293  5294  5295  5296  5297  5298  5299  5300  5301  5302  5303 \n",
              "    1     1     2     1     1     1     2     2     1     1     1     1     1 \n",
              " 5304  5305  5306  5307  5308  5309  5310  5311  5312  5313  5314  5315  5316 \n",
              "    1     1     1     1     2     2     1     1     1     1     1     1     1 \n",
              " 5317  5318  5319  5320  5321  5322  5323  5324  5325  5326  5327  5328  5329 \n",
              "    1     1     1     1     1     1     1     1     1     1     1     1     2 \n",
              " 5330  5331  5332  5333  5334  5335  5336  5337  5338  5339  5340  5341  5342 \n",
              "    1     2     1     1     1     2     2     1     1     1     1     2     1 \n",
              " 5343  5344  5345  5346  5347  5348  5349  5350  5351  5352  5353  5354  5355 \n",
              "    1     2     1     2     1     2     1     1     2     1     1     1     1 \n",
              " 5357  5358  5359  5360  5361  5362  5363  5364  5365  5366  5367  5368  5369 \n",
              "    1     1     1     2     1     1     1     2     1     1     1     1     1 \n",
              " 5370  5371  5372  5373  5374  5375  5376  5377  5378  5379  5380  5381  5382 \n",
              "    1     1     1     1     1     1     1     1     2     2     1     1     2 \n",
              " 5383  5384  5385  5386  5387  5388  5389  5390  5391  5392  5393  5394  5395 \n",
              "    1     1     1     1     2     1     1     1     1     1     1     1     1 \n",
              " 5396  5397  5398  5399  5400  5401  5402  5403  5404  5405  5406  5407  5409 \n",
              "    1     1     1     1     1     1     1     1     1     1     2     1     2 \n",
              " 5410  5411  5412  5413  5414  5415  5416  5417  5418  5419  5420  5421  5422 \n",
              "    1     1     1     1     1     2     1     2     1     1     1     1     1 \n",
              " 5423  5424  5425  5426  5427  5428  5429  5430  5431  5432  5433  5434  5435 \n",
              "    1     1     1     1     2     1     1     1     1     1     2     1     1 \n",
              " 5436  5437  5438  5439  5440  5441  5442  5443  5444  5445  5446  5447  5448 \n",
              "    1     1     1     1     1     1     1     1     1     1     1     1     1 \n",
              " 5449  5450  5451  5452  5453  5454  5455  5456  5457  5458  5459  5460  5461 \n",
              "    1     1     1     1     1     1     2     1     1     1     2     1     2 \n",
              " 5462  5463  5464  5465  5466  5467  5468  5469  5470  5471  5472  5473  5474 \n",
              "    1     1     1     1     1     1     1     1     1     1     1     1     1 \n",
              " 5475  5476  5477  5478  5479  5480  5481  5482  5483  5484  5485  5486  5487 \n",
              "    1     1     1     1     1     1     1     1     1     1     1     1     1 \n",
              " 5488  5489  5490  5491  5492  5493  5494  5495  5496  5497  5498  5499  5500 \n",
              "    1     1     1     1     1     1     1     1     2     1     1     1     1 \n",
              " 5501  5502  5503  5504  5505  5506  5507  5508  5509  5510  5511  5512  5513 \n",
              "    1     1     1     1     1     1     1     1     1     2     1     1     1 \n",
              " 5514  5515  5516  5517  5518  5519  5520  5521  5522  5523  5524  5525  5526 \n",
              "    1     1     1     1     1     1     1     1     1     1     1     1     1 \n",
              " 5527  5528  5529  5530  5531  5532  5533  5534  5535  5536  5537  5538  5539 \n",
              "    2     1     2     1     1     1     1     1     1     1     1     1     1 \n",
              " 5540  5541  5542  5543  5544  5545  5546  5547  5548  5549  5550  5551  5552 \n",
              "    1     1     1     1     1     2     1     1     1     2     1     1     1 \n",
              " 5553  5554  5555  5556  5557  5558  5559  5560  5561  5562  5563  5564  5565 \n",
              "    1     1     2     1     1     1     1     1     1     1     1     1     1 \n",
              " 5566  5567  5568  5569  5570  5571  5572  5573  5574  5575  5576  5577  5578 \n",
              "    1     1     1     1     2     1     1     1     1     1     1     1     1 \n",
              " 5579  5580  5581  5582  5583  5584  5585  5586  5587  5588  5589  5590  5591 \n",
              "    1     1     1     1     2     1     1     1     1     1     1     2     1 \n",
              " 5592  5593  5594  5595  5596  5597  5598  5599  5600  5601  5602  5603  5604 \n",
              "    1     2     2     1     1     1     1     1     2     1     2     1     1 \n",
              " 5605  5606  5607  5608  5609  5610  5611  5612  5613  5614  5615  5616  5617 \n",
              "    1     1     1     1     2     1     1     1     1     1     1     1     1 \n",
              " 5618  5619  5620  5621  5622  5623  5624  5625  5626  5627  5628  5629  5630 \n",
              "    2     1     1     1     1     1     1     1     2     1     1     1     1 \n",
              " 5631  5632  5633  5634  5635  5636  5637  5638  5639  5640  5641  5642  5643 \n",
              "    1     1     1     1     1     1     1     1     1     1     1     2     1 \n",
              " 5644  5645  5646  5647  5648  5649  5650  5651  5652  5653  5654  5655  5656 \n",
              "    1     1     1     1     1     1     1     1     1     1     1     1     1 \n",
              " 5657  5658  5659  5660  5661  5662  5663  5664  5665  5666  5667  5668  5669 \n",
              "    1     2     1     1     1     1     1     1     2     1     1     1     1 \n",
              " 5670  5671  5672  5673  5674  5675  5676  5677  5678  5679  5680  5681  5682 \n",
              "    1     1     1     1     1     1     1     2     1     1     1     1     1 \n",
              " 5683  5684  5685  5686  5687  5688  5689  5690  5691  5692  5693  5694  5695 \n",
              "    1     1     1     1     1     1     1     1     2     2     1     1     2 \n",
              " 5696  5697  5698  5699  5700  5701  5702  5703  5704  5705  5706  5707  5708 \n",
              "    1     1     1     1     2     1     1     1     1     1     1     1     1 \n",
              " 5709  5710  5711  5712  5713  5714  5715  5716  5717  5718  5719  5720  5721 \n",
              "    2     1     1     1     1     1     2     1     1     1     1     1     1 \n",
              " 5722  5723  5724  5725  5726  5727  5728  5729  5730  5731  5732  5733  5734 \n",
              "    1     1     1     1     1     2     1     1     1     1     1     1     1 \n",
              " 5735  5736  5737  5738  5739  5740  5741  5742  5743  5744  5745  5746  5747 \n",
              "    1     1     1     2     1     1     1     1     1     1     1     1     2 \n",
              " 5748  5749  5750  5751  5752  5753  5754  5755  5756  5757  5758  5759  5760 \n",
              "    1     1     1     1     1     1     1     1     1     1     1     1     1 \n",
              " 5761  5762  5763  5764  5765  5766  5767  5768  5769  5770  5771  5772  5773 \n",
              "    1     1     1     1     1     1     1     1     1     1     1     2     1 \n",
              " 5774  5775  5776  5777  5778  5779  5780  5781  5782  5783  5784  5785  5786 \n",
              "    1     1     1     2     1     1     1     2     1     1     1     2     1 \n",
              " 5787  5788  5789  5790  5791  5792  5793  5794  5795  5796  5797  5798  5799 \n",
              "    2     1     1     1     1     1     1     1     1     1     1     1     1 \n",
              " 5800  5801  5802  5803  5804  5805  5806  5807  5808  5809  5810  5811  5812 \n",
              "    1     1     1     1     1     1     1     1     1     1     1     1     1 \n",
              " 5813  5814  5815  5816  5817  5818  5819  5820  5821  5822  5823  5824  5825 \n",
              "    1     1     1     1     1     1     2     1     1     1     1     1     1 \n",
              " 5826  5827  5828  5829  5830  5831  5832  5833  5834  5835  5836  5837  5838 \n",
              "    1     2     1     1     1     1     1     2     1     1     1     1     1 \n",
              " 5839  5840  5841  5842  5843  5844  5845  5846  5847  5848  5849  5850  5851 \n",
              "    1     2     1     1     2     1     1     1     1     1     1     1     1 \n",
              " 5852  5853  5854  5855  5856  5857  5858  5859  5860  5861  5862  5863  5864 \n",
              "    1     1     1     1     1     1     1     1     2     1     1     1     1 \n",
              " 5865  5866  5867  5868  5869  5870  5871  5872  5873  5874  5875  5876  5877 \n",
              "    1     1     1     1     1     1     2     1     1     1     1     1     1 \n",
              " 5878  5879  5880  5881  5882  5883  5884  5885  5886  5887  5888  5889  5890 \n",
              "    1     2     1     1     1     1     1     1     1     1     1     1     1 \n",
              " 5891  5892  5893  5894  5895  5896  5897  5898  5899  5900  5901  5902  5903 \n",
              "    1     2     1     1     1     1     2     1     1     1     1     1     1 \n",
              " 5904  5905  5906  5907  5908  5909  5910  5911  5912  5913  5914  5915  5916 \n",
              "    2     1     1     1     1     1     1     1     1     1     1     1     1 \n",
              " 5917  5918  5919  5920  5921  5922  5923  5924  5925  5926  5927  5928  5929 \n",
              "    2     1     1     1     1     1     1     1     1     1     2     1     1 \n",
              " 5930  5931  5932  5933  5934  5935  5936  5937  5938  5939  5940  5941  5942 \n",
              "    1     1     1     1     1     1     2     1     1     1     1     1     2 \n",
              " 5943  5944  5945  5946  5947  5948  5949  5950  5951  5952  5953  5954  5955 \n",
              "    1     1     1     1     1     1     1     2     1     1     1     1     1 \n",
              " 5956  5957  5958  5959  5960  5961  5962  5963  5964  5965  5966  5967  5968 \n",
              "    2     1     1     1     2     1     1     1     1     1     1     1     1 \n",
              " 5969  5970  5971  5972  5973  5974  5975  5976  5977  5978  5979  5980  5981 \n",
              "    1     1     1     1     1     1     1     1     1     1     1     1     1 \n",
              " 5982  5983  5984  5985  5986  5987  5988  5989  5990  5991  5992  5993  5994 \n",
              "    1     1     1     1     1     1     1     1     1     1     1     1     1 \n",
              " 5995  5996  5997  5998  5999  6000  6001  6002  6003  6004  6005  6006  6007 \n",
              "    1     2     2     1     1     1     1     1     1     1     2     1     1 \n",
              " 6008  6009  6010  6011  6012  6013  6014  6015  6016  6017  6018  6019  6020 \n",
              "    1     1     1     2     1     2     1     1     2     1     1     1     2 \n",
              " 6021  6022  6023  6024  6025  6026  6027  6028  6029  6030  6031  6032  6033 \n",
              "    1     1     1     1     1     1     1     1     1     2     1     1     1 \n",
              " 6034  6035  6036  6037  6038  6039  6040  6041  6042  6043  6044  6045  6046 \n",
              "    1     1     1     1     1     1     1     1     2     1     1     1     1 \n",
              " 6047  6048  6049  6050  6051  6052  6053  6054  6055  6056  6057  6058  6059 \n",
              "    1     1     2     2     1     1     1     1     1     1     1     1     1 \n",
              " 6060  6061  6062  6063  6064  6065  6066  6067  6068  6069  6070  6071  6072 \n",
              "    1     1     2     1     1     1     1     1     1     1     1     1     1 \n",
              " 6073  6074  6075  6076  6077  6078  6079  6080  6081  6082  6083  6084  6085 \n",
              "    2     2     1     1     1     1     2     1     1     1     1     1     1 \n",
              " 6086  6087  6088  6089  6090  6091  6092  6093  6094  6095  6096  6097  6098 \n",
              "    1     1     1     1     1     1     1     1     1     1     1     1     1 \n",
              " 6099  6100  6101  6102  6103  6104  6105  6106  6107  6108  6109  6110  6111 \n",
              "    2     1     1     1     1     1     1     1     2     1     1     1     1 \n",
              " 6112  6113  6114  6115  6116  6117  6118  6119  6120  6121  6122  6123  6124 \n",
              "    1     1     1     2     2     1     1     1     1     1     1     1     2 \n",
              " 6125  6126  6127  6128  6129  6130  6131  6132  6133  6134  6135  6136  6137 \n",
              "    2     2     1     1     1     1     1     1     1     1     2     1     1 \n",
              " 6138  6139  6140  6141  6142  6143  6144  6145  6146  6147  6148  6149  6150 \n",
              "    1     1     2     1     1     1     1     1     1     1     1     2     1 \n",
              " 6151  6152  6153  6154  6155  6156  6157  6158  6159  6160  6161  6162  6163 \n",
              "    1     1     1     2     1     1     1     1     1     1     1     1     1 \n",
              " 6164  6165  6166  6167  6168  6169  6170  6171  6172  6173  6174  6175  6176 \n",
              "    1     1     1     1     1     1     1     1     1     1     1     1     1 \n",
              " 6177  6178  6179  6180  6181  6182  6183  6184  6185  6186  6187  6188  6189 \n",
              "    1     1     1     1     1     1     1     1     1     1     1     1     1 \n",
              " 6190  6191  6192  6193  6194  6195  6196  6197  6198  6199  6200  6201  6202 \n",
              "    1     1     1     1     1     1     1     1     1     1     2     1     1 \n",
              " 6203  6204  6205  6206  6207  6208  6209  6210  6211  6212  6213  6214  6215 \n",
              "    1     2     1     1     1     1     1     1     1     1     1     1     1 \n",
              " 6216  6217  6218  6219  6220  6221  6222  6223  6224  6225  6226  6227  6228 \n",
              "    1     1     2     1     1     1     2     1     1     2     1     1     1 \n",
              " 6229  6230  6231  6232  6233  6234  6235  6236  6237  6238  6239  6240  6241 \n",
              "    1     1     1     1     1     1     2     1     1     2     1     2     2 \n",
              " 6242  6243  6244  6245  6246  6247  6248  6249  6250  6251  6252  6253  6254 \n",
              "    1     1     2     2     1     1     1     2     1     1     1     1     1 \n",
              " 6255  6256  6257  6258  6259  6260  6261  6262  6263  6264  6265  6266  6267 \n",
              "    1     2     1     1     1     1     2     1     2     1     1     1     1 \n",
              " 6268  6269  6270  6271  6272  6273  6274  6275  6276  6277  6278  6279  6280 \n",
              "    1     1     1     1     1     1     1     1     1     1     1     2     1 \n",
              " 6281  6282  6283  6284  6285  6286  6287  6288  6289  6290  6291  6292  6293 \n",
              "    1     1     1     1     1     1     1     1     1     1     1     1     1 \n",
              " 6294  6295  6296  6297  6298  6299  6300  6301  6302  6303  6304  6305  6306 \n",
              "    1     1     1     1     1     1     2     1     1     2     1     1     1 \n",
              " 6307  6308  6309  6310  6311  6312  6313  6314  6315  6316  6317  6318  6319 \n",
              "    1     2     1     1     1     1     1     1     1     1     2     1     2 \n",
              " 6320  6321  6322  6323  6324  6325  6326  6327  6328  6329  6330  6331  6332 \n",
              "    1     1     1     1     1     1     1     1     2     1     1     1     1 \n",
              " 6333  6334  6335  6336  6337  6338  6339  6340  6341  6342  6343  6344  6345 \n",
              "    1     2     1     1     1     1     1     1     1     1     1     1     1 \n",
              " 6346  6347  6348  6349  6350  6351  6352  6353  6354  6355  6356  6357  6358 \n",
              "    1     1     1     2     1     1     1     1     1     1     1     1     1 \n",
              " 6359  6360  6361  6362  6363  6364  6365  6366  6367  6368  6369  6370  6371 \n",
              "    1     1     1     1     1     1     1     1     1     1     1     1     1 \n",
              " 6372  6373  6374  6375  6376  6377  6378  6379  6380  6381  6382  6383  6384 \n",
              "    1     1     1     1     2     1     1     1     1     1     1     2     1 \n",
              " 6385  6386  6387  6388  6389  6390  6391  6392  6393  6394  6395  6396  6397 \n",
              "    1     1     1     1     1     1     1     1     2     1     2     1     1 \n",
              " 6398  6399  6400  6401  6402  6403  6404  6405  6406  6407  6408  6409  6410 \n",
              "    1     1     1     1     1     1     1     1     1     1     1     1     1 \n",
              " 6411  6412  6413  6414  6415  6416  6417  6418  6419  6420  6421  6422  6423 \n",
              "    1     1     1     1     1     1     1     1     1     1     1     1     1 \n",
              " 6424  6425  6426  6427  6428  6429  6430  6431  6432  6433  6434  6435  6436 \n",
              "    2     1     1     1     1     1     1     1     1     2     1     1     1 \n",
              " 6437  6438  6439  6440  6441  6442  6443  6444  6445  6446  6447  6448  6449 \n",
              "    1     1     1     1     2     2     1     1     1     1     1     1     1 \n",
              " 6450  6451  6452  6453  6454  6455  6456  6457  6458  6459  6460  6461  6462 \n",
              "    1     1     1     1     1     1     1     1     2     1     1     1     1 \n",
              " 6463  6464  6465  6466  6467  6468  6469  6470  6471  6472  6473  6474  6475 \n",
              "    1     1     1     1     1     2     1     1     1     2     1     1     1 \n",
              " 6476  6477  6478  6479  6480  6481  6482  6483  6484  6485  6486  6487  6488 \n",
              "    2     1     1     2     1     1     1     1     1     1     1     1     1 \n",
              " 6489  6490  6491  6492  6493  6494  6495  6496  6497  6498  6499  6500  6501 \n",
              "    1     1     1     1     1     1     2     1     1     1     1     1     1 \n",
              " 6502  6503  6504  6505  6506  6507  6508  6509  6510  6511  6512  6513  6514 \n",
              "    1     1     1     1     1     1     1     1     1     1     1     1     1 \n",
              " 6515  6516  6517  6518  6519  6520  6521  6522  6523  6524  6525  6526  6527 \n",
              "    1     1     2     1     1     1     1     1     1     1     1     1     2 \n",
              " 6528  6529  6530  6531  6532  6533  6534  6535  6536  6537  6538  6539  6540 \n",
              "    1     1     1     1     1     1     1     1     1     1     2     2     1 \n",
              " 6541  6542  6543  6544  6545  6546  6547  6548  6549  6550  6551  6552  6553 \n",
              "    1     1     1     1     1     1     1     1     1     2     2     1     1 \n",
              " 6554  6555  6556  6557  6558  6559  6560  6561  6562  6563  6564  6565  6566 \n",
              "    1     1     1     1     1     1     2     1     1     1     1     1     1 \n",
              " 6567  6568  6569  6570  6571  6572  6573  6574  6575  6576  6577  6578  6579 \n",
              "    1     1     1     1     1     1     1     1     1     1     2     1     1 \n",
              " 6580  6581  6582  6583  6584  6585  6586  6587  6588  6589  6590  6591  6592 \n",
              "    2     1     1     1     1     1     1     2     1     1     1     1     1 \n",
              " 6593  6594  6595  6596  6597  6598  6599  6600  6601  6602  6603  6604  6605 \n",
              "    1     1     2     2     1     1     1     1     1     1     2     1     2 \n",
              " 6606  6607  6608  6609  6610  6611  6612  6613  6614  6615  6616  6617  6618 \n",
              "    2     1     1     1     1     1     1     1     1     1     1     1     1 \n",
              " 6619  6620  6621  6622  6623  6624  6625  6626  6627  6628  6629  6630  6631 \n",
              "    1     1     1     1     1     1     2     1     1     1     1     1     1 \n",
              " 6632  6633  6634  6635  6636  6637  6638  6639  6640  6641  6642  6643  6644 \n",
              "    1     1     1     1     1     2     2     1     2     1     1     1     1 \n",
              " 6645  6646  6647  6648  6649  6650  6651  6652  6653  6654  6655  6656  6657 \n",
              "    1     1     1     1     1     1     1     2     1     1     1     1     1 \n",
              " 6658  6659  6660  6661  6662  6663  6664  6665  6666  6667  6668  6669  6670 \n",
              "    2     1     2     1     1     1     1     1     1     1     1     1     1 \n",
              " 6671  6672  6673  6674  6675  6676  6677  6678  6679  6680  6681  6682  6683 \n",
              "    1     1     1     1     1     2     1     1     1     1     1     1     1 \n",
              " 6684  6685  6686  6687  6688  6689  6690  6691  6692  6693  6694  6695  6696 \n",
              "    1     1     2     1     1     1     1     1     1     1     1     1     1 \n",
              " 6697  6698  6699  6700  6701  6702  6703  6704  6705  6706  6707  6708  6709 \n",
              "    1     1     1     1     2     1     1     1     1     2     1     1     1 \n",
              " 6710  6711  6712  6713  6714  6715  6716  6717  6718  6719  6720  6721  6722 \n",
              "    1     1     1     1     2     2     1     2     1     1     1     1     1 \n",
              " 6723  6724  6725  6726  6727  6728  6729  6730  6731  6732  6733  6734  6735 \n",
              "    1     1     1     1     1     1     1     1     1     1     1     1     1 \n",
              " 6736  6737  6738  6739  6740  6741  6742  6743  6744  6745  6746  6747  6748 \n",
              "    2     2     1     1     1     1     1     1     1     1     1     1     1 \n",
              " 6749  6750  6751  6752  6753  6754  6755  6756  6757  6758  6759  6760  6761 \n",
              "    1     1     1     1     1     1     1     1     1     1     1     1     1 \n",
              " 6762  6763  6764  6765  6766  6767  6768  6769  6770  6771  6772  6773  6774 \n",
              "    2     1     1     2     1     1     1     1     1     1     1     1     1 \n",
              " 6775  6776  6777  6778  6779  6780  6781  6782  6783  6784  6785  6786  6787 \n",
              "    2     1     1     2     1     1     1     1     1     1     1     1     2 \n",
              " 6788  6789  6790  6791  6792  6793  6794  6795  6796  6797  6798  6799  6800 \n",
              "    1     2     1     1     1     1     1     1     1     1     1     1     1 \n",
              " 6801  6802  6803  6804  6805  6806  6807  6808  6809  6810  6811  6812  6813 \n",
              "    1     1     1     1     1     1     1     2     1     1     1     1     2 \n",
              " 6814  6815  6816  6817  6818  6819  6820  6821  6822  6823  6824  6825  6826 \n",
              "    1     2     1     1     1     1     1     1     1     1     1     1     1 \n",
              " 6827  6828  6829  6830  6831  6832  6833  6834  6835  6836  6837  6838  6839 \n",
              "    2     1     1     1     2     1     2     1     1     1     1     1     1 \n",
              " 6840  6841  6842  6843  6844  6845  6846  6847  6848  6849  6850  6851  6852 \n",
              "    1     1     1     1     1     1     2     1     2     1     1     1     1 \n",
              " 6853  6854  6855  6856  6857  6858  6859  6860  6861  6862  6863  6864  6865 \n",
              "    2     2     1     1     1     1     1     1     1     1     1     1     1 \n",
              " 6866  6867  6868  6869  6870  6871  6872  6873  6874  6875  6876  6877  6878 \n",
              "    2     1     2     1     1     1     1     1     1     1     1     2     1 \n",
              " 6879  6880  6881  6882  6883  6884  6885  6886  6887  6888  6889  6890  6891 \n",
              "    2     1     1     1     1     1     1     2     1     1     1     1     1 \n",
              " 6892  6893  6894  6895  6896  6897  6898  6899  6900  6901  6902  6903  6904 \n",
              "    1     1     1     1     1     1     1     1     1     1     1     1     1 \n",
              " 6905  6906  6907  6908  6909  6910  6911  6912  6913  6914  6915  6916  6917 \n",
              "    2     1     1     1     1     1     1     1     1     2     1     1     2 \n",
              " 6918  6919  6920  6921  6922  6923  6924  6925  6926  6927  6928  6929  6931 \n",
              "    1     1     1     1     1     1     1     1     1     2     1     1     1 \n",
              " 6932  6933  6934  6935  6936  6937  6938  6939  6940  6941  6942  6943  6944 \n",
              "    1     1     1     1     1     1     1     1     1     1     1     2     1 \n",
              " 6945  6946  6947  6948  6949  6950  6951  6952  6953  6954  6955  6956  6957 \n",
              "    1     1     1     2     1     1     1     2     1     1     1     1     1 \n",
              " 6958  6959  6960  6961  6962  6963  6964  6965  6966  6967  6968  6969  6970 \n",
              "    1     1     1     1     1     1     1     1     1     2     2     1     1 \n",
              " 6971  6972  6973  6974  6975  6976  6977  6978  6979  6980  6981  6982  6983 \n",
              "    1     1     1     1     1     1     1     1     1     1     1     1     1 \n",
              " 6984  6985  6986  6987  6988  6989  6990  6991  6992  6993  6994  6995  6996 \n",
              "    1     1     1     2     1     1     1     1     1     1     1     2     1 \n",
              " 6997  6998  6999  7000  7001  7002  7003  7004  7005  7006  7007  7008  7009 \n",
              "    1     1     1     1     1     1     1     1     1     1     1     1     1 \n",
              " 7010  7011  7012  7013  7014  7015  7016  7017  7018  7019  7020  7021  7022 \n",
              "    2     1     1     1     1     1     1     1     1     1     1     1     1 \n",
              " 7023  7024  7025  7026  7027  7028  7029  7030  7031  7032  7033  7034  7035 \n",
              "    1     1     1     1     1     1     1     1     1     2     1     1     1 \n",
              " 7036  7037  7038  7039  7040  7041  7042  7043  7044  7045  7046  7047  7048 \n",
              "    1     1     1     1     1     1     1     2     1     1     1     1     1 \n",
              " 7049  7050  7051  7052  7053  7054  7055  7056  7057  7058  7059  7060  7061 \n",
              "    1     1     1     1     1     1     1     1     1     1     1     1     1 \n",
              " 7062  7063  7064  7065  7066  7067  7068  7069  7070  7071  7072  7073  7074 \n",
              "    1     1     1     1     1     2     1     1     1     1     1     1     1 \n",
              " 7075  7076  7077  7078  7079  7080  7081  7082  7083  7084  7085  7086  7087 \n",
              "    1     1     1     1     1     1     1     1     1     1     1     1     1 \n",
              " 7088  7089  7090  7091  7092  7093  7094  7095  7096  7097  7098  7099  7100 \n",
              "    2     1     1     1     1     1     1     1     2     1     2     1     1 \n",
              " 7101  7102  7103  7104  7105  7106  7107  7108  7109  7110  7111  7112  7113 \n",
              "    1     2     1     1     1     1     1     1     1     1     1     1     1 \n",
              " 7114  7115  7116  7117  7118  7119  7120  7121  7122  7123  7124  7125  7126 \n",
              "    1     1     1     1     1     1     1     1     1     2     1     1     1 \n",
              " 7127  7128  7129  7130  7131  7132  7133  7134  7135  7136  7137  7138  7139 \n",
              "    1     2     2     1     1     2     1     1     1     1     1     1     1 \n",
              " 7140  7141  7142  7143  7144  7145  7146  7147  7148  7149  7150  7151  7153 \n",
              "    2     2     1     1     1     1     2     1     1     1     1     1     1 \n",
              " 7154  7155  7156  7157  7158  7159  7160  7161  7162  7163  7164  7165  7166 \n",
              "    1     1     1     1     1     1     1     2     1     1     1     1     1 \n",
              " 7167  7168  7169  7170  7171  7172  7173  7174  7175  7176  7177  7178  7179 \n",
              "    1     1     1     1     1     1     1     1     1     1     1     1     1 \n",
              " 7180  7181  7182  7183  7184  7185  7186  7187  7188  7189  7190  7191  7192 \n",
              "    1     2     1     1     1     1     1     1     1     1     1     1     1 \n",
              " 7193  7194  7195  7196  7197  7198  7199  7200  7201  7202  7203  7204  7205 \n",
              "    1     1     1     2     1     2     1     1     1     1     1     1     1 \n",
              " 7206  7207  7208  7209  7210  7211  7212  7213  7214  7215  7216  7217  7218 \n",
              "    1     2     1     1     1     1     1     2     1     1     1     1     1 \n",
              " 7219  7220  7221  7222  7223  7224  7225  7226  7227  7228  7229  7230  7231 \n",
              "    1     1     2     1     1     1     1     1     1     1     1     1     2 \n",
              " 7232  7233  7234  7235  7236  7237  7238  7239  7240  7241  7242  7243  7244 \n",
              "    1     1     1     1     1     1     1     2     1     1     1     1     1 \n",
              " 7245  7246  7247  7248  7249  7250  7251  7252  7253  7254  7255  7256  7257 \n",
              "    1     1     1     1     1     1     1     1     2     1     1     1     1 \n",
              " 7258  7259  7260  7261  7262  7263  7264  7265  7266  7267  7268  7269  7270 \n",
              "    1     1     1     1     2     1     1     1     1     1     1     1     1 \n",
              " 7271  7272  7273  7274  7275  7276  7277  7278  7279  7280  7281  7282  7283 \n",
              "    1     1     1     1     1     2     1     1     1     1     1     1     1 \n",
              " 7284  7285  7286  7287  7288  7289  7290  7291  7292  7293  7294  7295  7296 \n",
              "    1     1     1     1     1     2     1     1     1     1     1     1     1 \n",
              " 7297  7298  7299  7300  7301  7302  7303  7304  7305  7306  7307  7308  7309 \n",
              "    1     1     1     1     2     1     1     1     1     1     1     1     1 \n",
              " 7310  7311  7312  7313  7314  7315  7316  7317  7318  7319  7320  7321  7322 \n",
              "    1     1     1     1     1     2     1     1     1     1     1     1     1 \n",
              " 7323  7324  7325  7326  7327  7328  7329  7330  7331  7332  7333  7334  7335 \n",
              "    1     1     1     1     1     1     1     1     1     1     1     1     1 \n",
              " 7336  7337  7338  7339  7340  7341  7342  7343  7344  7345  7346  7347  7348 \n",
              "    1     1     1     1     1     1     1     1     1     2     1     1     1 \n",
              " 7349  7350  7351  7352  7353  7354  7355  7356  7357  7358  7359  7360  7361 \n",
              "    2     1     2     1     1     2     1     1     1     1     1     1     1 \n",
              " 7362  7363  7364  7365  7366  7367  7368  7369  7370  7371  7372  7373  7374 \n",
              "    1     1     1     1     1     1     2     1     1     2     1     1     1 \n",
              " 7375  7376  7377  7378  7379  7380  7381  7382  7383  7384  7385  7386  7387 \n",
              "    1     1     1     1     1     2     1     1     2     1     1     1     1 \n",
              " 7388  7389  7390  7391  7392  7393  7394  7395  7396  7397  7398  7399  7400 \n",
              "    1     1     1     1     1     1     1     1     1     1     1     1     1 \n",
              " 7401  7402  7403  7404  7405  7406  7407  7408  7409  7410  7411  7412  7413 \n",
              "    1     1     1     1     1     1     1     1     1     1     1     1     1 \n",
              " 7414  7415  7416  7417  7418  7419  7420  7421  7422  7423  7424  7425  7426 \n",
              "    1     1     1     1     1     1     1     1     1     1     1     1     1 \n",
              " 7427  7428  7429  7430  7431  7432  7433  7434  7435  7436  7437  7438  7439 \n",
              "    1     1     1     2     1     1     1     1     2     1     1     1     1 \n",
              " 7440  7441  7442  7443  7444  7445  7446  7447  7448  7449  7450  7451  7452 \n",
              "    1     1     2     1     1     1     1     1     1     1     1     1     1 \n",
              " 7453  7454  7455  7456  7457  7458  7459  7460  7461  7462  7463  7464  7465 \n",
              "    1     1     1     1     1     2     1     1     1     1     1     1     1 \n",
              " 7466  7467  7468  7469  7470  7471  7472  7473  7474  7475  7476  7477  7478 \n",
              "    1     1     1     1     1     1     1     1     1     1     1     1     1 \n",
              " 7479  7480  7481  7482  7483  7484  7485  7486  7487  7488  7489  7490  7491 \n",
              "    2     1     1     1     1     1     1     1     1     1     2     1     1 \n",
              " 7492  7493  7494  7495  7496  7497  7498  7499  7500  7501  7502  7503  7504 \n",
              "    1     1     1     1     1     1     1     1     1     2     1     2     1 \n",
              " 7505  7506  7507  7508  7509  7510  7511  7512  7513  7514  7515  7516  7517 \n",
              "    1     1     1     1     1     1     1     1     1     2     1     1     1 \n",
              " 7518  7519  7520  7521  7522  7523  7524  7525  7526  7527  7528  7529  7530 \n",
              "    1     1     1     1     1     1     1     1     2     2     2     1     1 \n",
              " 7531  7532  7533  7534  7535  7536  7537  7538  7539  7540  7541  7542  7543 \n",
              "    1     1     1     1     1     1     1     1     1     1     2     1     1 \n",
              " 7544  7545  7546  7547  7548  7549  7550  7551  7552  7553  7554  7555  7556 \n",
              "    1     1     1     1     1     1     1     2     1     2     1     1     1 \n",
              " 7557  7558  7559  7560  7561  7562  7563  7564  7565  7566  7567  7568  7569 \n",
              "    1     1     1     1     2     1     1     1     1     1     1     1     1 \n",
              " 7570  7571  7572  7573  7574  7575  7576  7577  7578  7579  7580  7581  7582 \n",
              "    1     1     1     1     1     1     1     1     1     1     1     1     1 \n",
              " 7583  7584  7585  7586  7587  7588  7589  7590  7591  7592  7593  7594  7595 \n",
              "    1     1     1     1     1     1     1     1     2     1     2     1     1 \n",
              " 7596  7597  7598  7599  7600  7601  7602  7603  7604  7605  7606  7607  7608 \n",
              "    1     1     1     1     1     2     2     1     1     1     1     1     1 \n",
              " 7609  7610  7611  7612  7613  7614  7615  7616  7617  7618  7619  7620  7621 \n",
              "    1     1     1     1     1     1     1     1     2     1     1     1     1 \n",
              " 7622  7623  7624  7625  7626  7627  7628  7629  7630  7631  7632  7633  7634 \n",
              "    1     1     1     1     1     1     1     1     1     1     1     1     1 \n",
              " 7635  7637  7638  7639  7640  7641  7642  7643  7644  7645  7646  7647  7648 \n",
              "    1     1     1     1     1     1     1     2     1     1     1     1     1 \n",
              " 7649  7650  7651  7652  7653  7654  7655  7656  7657  7658  7659  7660  7661 \n",
              "    1     1     1     1     1     1     1     1     1     1     1     1     1 \n",
              " 7662  7663  7664  7665  7666  7667  7668  7669  7670  7671  7672  7673  7674 \n",
              "    1     2     1     1     1     1     1     1     1     1     1     1     1 \n",
              " 7675  7676  7677  7678  7679  7680  7681  7682  7683  7684  7685  7686  7687 \n",
              "    1     1     1     1     1     1     1     1     1     1     1     1     1 \n",
              " 7688  7689  7690  7691  7692  7693  7694  7695  7696  7697  7698  7699  7700 \n",
              "    1     1     1     1     1     1     1     1     1     1     2     2     1 \n",
              " 7701  7702  7703  7704  7705  7706  7707  7708  7709  7710  7711  7712  7713 \n",
              "    1     1     2     1     1     1     1     1     1     1     1     1     1 \n",
              " 7714  7715  7716  7717  7718  7719  7720  7721  7722  7723  7724  7725  7726 \n",
              "    1     1     1     2     1     1     1     1     1     2     1     1     1 \n",
              " 7727  7728  7729  7730  7731  7732  7733  7734  7735  7736  7737  7738  7739 \n",
              "    1     1     1     1     1     1     1     1     1     1     1     1     1 \n",
              " 7740  7741  7742  7743  7744  7745  7746  7747  7748  7749  7750  7751  7752 \n",
              "    1     1     1     1     1     1     1     1     1     1     1     1     2 \n",
              " 7753  7754  7755  7756  7757  7758  7759  7760  7761  7762  7763  7764  7765 \n",
              "    1     1     1     1     1     1     1     1     1     1     1     1     1 \n",
              " 7766  7767  7768  7769  7770  7771  7772  7773  7774  7775  7776  7777  7778 \n",
              "    1     1     1     1     1     1     1     1     1     1     1     1     1 \n",
              " 7779  7780  7781  7782  7783  7784  7785  7786  7787  7788  7789  7790  7791 \n",
              "    1     1     1     1     1     1     1     1     2     1     1     1     1 \n",
              " 7792  7793  7794  7795  7796  7797  7798  7799  7800  7801  7802  7803  7804 \n",
              "    2     2     1     1     1     1     1     1     1     1     1     2     1 \n",
              " 7805  7806  7807  7808  7809  7810  7811  7812  7813  7814  7815  7816  7817 \n",
              "    1     1     1     1     1     1     1     1     1     1     1     1     2 \n",
              " 7818  7819  7820  7821  7822  7823  7824  7825  7826  7827  7828  7829  7830 \n",
              "    1     1     1     1     1     1     1     1     1     1     1     2     1 \n",
              " 7831  7832  7833  7834  7835  7836  7837  7838  7839  7840  7841  7842  7843 \n",
              "    1     1     1     1     1     1     1     1     1     1     1     1     1 \n",
              " 7844  7845  7846  7847  7848  7849  7850  7851  7852  7853  7854  7855  7856 \n",
              "    2     1     1     1     2     1     1     2     1     1     1     1     1 \n",
              " 7857  7858  7859  7860  7861  7862  7863  7864  7865  7866  7867  7868  7869 \n",
              "    1     1     1     1     1     1     1     2     2     1     1     1     1 \n",
              " 7870  7871  7872  7873  7874  7875  7876  7877  7878  7879  7880  7881  7882 \n",
              "    2     1     1     1     1     1     1     1     1     1     1     1     1 \n",
              " 7883  7884  7885  7886  7887  7888  7889  7890  7891  7892  7893  7894  7895 \n",
              "    1     1     1     1     2     1     1     1     1     1     1     1     1 \n",
              " 7896  7897  7898  7899  7900  7901  7902  7903  7904  7905  7906  7907  7908 \n",
              "    1     1     1     1     1     1     1     1     1     1     1     1     1 \n",
              " 7909  7910  7911  7912  7913  7914  7915  7916  7917  7918  7919  7920  7921 \n",
              "    1     1     1     1     1     1     1     1     1     1     1     1     1 \n",
              " 7922  7923  7924  7925  7926  7927  7928  7929  7930  7931  7932  7933  7934 \n",
              "    1     1     1     1     1     1     1     1     1     1     1     1     1 \n",
              " 7935  7936  7937  7938  7939  7940  7941  7942  7943  7944  7945  7946  7947 \n",
              "    1     1     1     1     2     1     2     1     1     1     1     1     1 \n",
              " 7948  7949  7950  7951  7952  7953  7954  7955  7956  7957  7958  7959  7960 \n",
              "    2     1     1     1     1     1     1     1     1     1     2     1     1 \n",
              " 7961  7962  7963  7964  7965  7966  7967  7968  7969  7970  7971  7972  7973 \n",
              "    2     1     1     1     1     1     1     1     1     1     1     1     1 \n",
              " 7974  7975  7976  7977  7978  7979  7980  7981  7982  7983  7984  7985  7986 \n",
              "    1     1     1     1     1     1     1     1     1     1     1     1     2 \n",
              " 7987  7988  7989  7990  7991  7992  7993  7994  7995  7996  7997  7998  7999 \n",
              "    2     1     1     1     1     2     2     2     1     1     1     1     1 \n",
              " 8000  8001  8002  8003  8004  8005  8006  8007  8008  8009  8010  8011  8012 \n",
              "    1     2     2     1     2     1     1     2     1     1     1     1     1 \n",
              " 8013  8014  8015  8016  8017  8018  8019  8020  8021  8022  8023  8024  8025 \n",
              "    1     1     1     2     1     1     1     1     1     2     1     1     1 \n",
              " 8026  8027  8028  8029  8030  8031  8032  8033  8034  8035  8036  8037  8038 \n",
              "    2     1     1     1     2     2     1     2     1     1     1     1     2 \n",
              " 8039  8040  8041  8042  8043  8044  8045  8046  8047  8048  8049  8050  8051 \n",
              "    1     1     1     1     2     1     1     1     2     1     2     1     1 \n",
              " 8052  8053  8054  8055  8056  8057  8058  8059  8060  8061  8062  8063  8064 \n",
              "    1     1     2     1     2     2     1     1     2     1     1     1     1 \n",
              " 8065  8066  8067  8068  8069  8070  8071  8072  8073  8074  8075  8076  8077 \n",
              "    2     1     1     2     1     1     1     1     1     1     1     2     1 \n",
              " 8078  8079  8080  8081  8082  8083  8084  8085  8086  8087  8088  8089  8090 \n",
              "    1     1     1     1     1     2     1     2     2     1     1     1     1 \n",
              " 8091  8092  8093  8094  8095  8096  8097  8098  8099  8100  8101  8102  8103 \n",
              "    1     1     1     1     1     1     1     1     1     2     2     1     1 \n",
              " 8104  8105  8106  8107  8108  8109  8110  8111  8112  8113  8114  8115  8116 \n",
              "    1     1     2     2     2     1     1     2     2     1     1     2     2 \n",
              " 8117  8118  8119  8120  8121  8122  8123  8124  8125  8126  8127  8128  8129 \n",
              "    2     2     2     1     1     1     1     1     1     1     1     1     1 \n",
              " 8130  8131  8132  8133  8134  8135  8136  8137  8138  8139  8140  8141  8142 \n",
              "    2     1     1     2     2     1     1     1     1     1     2     2     1 \n",
              " 8143  8144  8145  8146  8147  8148  8149  8150  8151  8152  8153  8154  8155 \n",
              "    1     1     1     1     1     1     2     1     2     2     1     2     1 \n",
              " 8156  8157  8158  8159  8160  8161  8162  8163  8164  8165  8166  8167  8168 \n",
              "    2     1     1     2     2     1     1     1     2     1     1     1     1 \n",
              " 8169  8170  8171  8172  8173  8174  8175  8176  8177  8178  8179  8180  8181 \n",
              "    1     1     2     1     1     1     1     1     1     1     1     1     1 \n",
              " 8182  8183  8184  8185  8186  8187  8188  8189  8190  8191  8192  8193  8194 \n",
              "    1     1     1     1     1     1     2     1     1     1     2     1     1 \n",
              " 8195  8196  8197  8198  8199  8200  8201  8202  8203  8204  8205  8206  8207 \n",
              "    1     1     1     1     1     1     1     2     1     2     1     2     1 \n",
              " 8208  8209  8210  8211  8212  8213  8214  8215  8216  8217  8218  8219  8220 \n",
              "    1     1     2     1     1     1     1     1     2     1     1     1     1 \n",
              " 8221  8222  8223  8224  8225  8226  8227  8228  8229  8230  8231  8232  8233 \n",
              "    1     1     1     1     1     1     1     1     1     1     1     2     1 \n",
              " 8234  8235  8236  8237  8238  8239  8240  8241  8242  8243  8244  8245  8246 \n",
              "    2     1     1     2     1     1     1     2     1     1     1     2     2 \n",
              " 8247  8248  8249  8250  8251  8252  8253  8254  8255  8256  8257  8258  8259 \n",
              "    1     1     1     2     2     1     1     1     1     1     1     1     1 \n",
              " 8260  8261  8262  8263  8264  8265  8266  8267  8268  8269  8270  8271  8272 \n",
              "    1     1     1     1     1     2     1     2     1     1     1     1     1 \n",
              " 8273  8274  8275  8276  8277  8278  8279  8280  8281  8282  8283  8284  8285 \n",
              "    1     2     1     1     1     1     1     2     2     1     1     2     2 \n",
              " 8286  8287  8288  8289  8290  8291  8292  8293  8294  8295  8296  8297  8298 \n",
              "    1     1     1     2     1     1     1     1     1     1     1     1     1 \n",
              " 8299  8300  8301  8302  8303  8304  8305  8306  8307  8308  8309  8310  8311 \n",
              "    1     2     1     1     1     1     1     1     1     1     2     1     2 \n",
              " 8312  8313  8314  8315  8316  8317  8318  8319  8320  8321  8322  8323  8324 \n",
              "    1     1     2     1     1     1     1     1     1     2     1     1     1 \n",
              " 8325  8326  8327  8328  8329  8330  8331  8332  8333  8334  8335  8336  8337 \n",
              "    2     1     1     2     2     1     2     1     1     1     1     1     1 \n",
              " 8338  8339  8340  8341  8342  8343  8344  8345  8346  8347  8348  8349  8350 \n",
              "    1     2     1     1     1     1     1     1     1     2     2     1     2 \n",
              " 8351  8352  8353  8354  8355  8356  8357  8358  8359  8360  8361  8362  8363 \n",
              "    2     1     2     1     2     1     2     1     1     1     2     1     1 \n",
              " 8364  8365  8366  8367  8368  8369  8370  8371  8372  8373  8374  8375  8376 \n",
              "    1     1     1     1     2     2     2     1     1     2     2     1     2 \n",
              " 8377  8378  8379  8380  8381  8382  8383  8384  8385  8386  8387  8388  8389 \n",
              "    1     1     2     2     1     2     1     1     1     1     2     1     2 \n",
              " 8390  8391  8392  8393  8394  8395  8396  8397  8398  8399  8400  8401  8402 \n",
              "    1     1     2     1     1     1     2     1     1     2     1     1     1 \n",
              " 8403  8404  8405  8406  8407  8408  8409  8410  8411  8412  8413  8414  8415 \n",
              "    2     1     2     1     1     1     1     1     1     1     1     2     2 \n",
              " 8416  8417  8418  8419  8420  8421  8422  8423  8424  8425  8426  8427  8428 \n",
              "    1     1     1     1     2     1     2     1     1     1     1     1     2 \n",
              " 8429  8430  8431  8432  8433  8434  8435  8436  8437  8438  8439  8440  8441 \n",
              "    2     1     2     1     1     2     1     1     1     1     1     1     1 \n",
              " 8442  8443  8444  8445  8446  8447  8448  8449  8450  8451  8452  8453  8454 \n",
              "    1     1     1     1     1     1     1     2     2     1     1     1     2 \n",
              " 8455  8456  8457  8458  8459  8460  8461  8462  8463  8464  8465  8466  8467 \n",
              "    1     1     1     1     2     2     1     2     1     2     1     1     1 \n",
              " 8468  8469  8470  8471  8472  8473  8474  8475  8476  8477  8478  8479  8480 \n",
              "    2     1     1     1     1     2     1     1     1     1     1     1     2 \n",
              " 8481  8482  8483  8484  8485  8486  8487  8488  8489  8490  8491  8492  8493 \n",
              "    2     2     1     2     2     1     1     1     1     1     2     1     1 \n",
              " 8494  8495  8496  8497  8498  8499  8500  8501  8502  8503  8504  8505  8506 \n",
              "    2     2     1     2     1     1     1     1     1     1     1     2     1 \n",
              " 8507  8508  8509  8510  8511  8512  8513  8514  8515  8516  8517  8518  8519 \n",
              "    2     1     1     1     1     1     1     1     2     1     1     1     1 \n",
              " 8520  8521  8522  8523  8524  8525  8526  8527  8528  8529  8530  8531  8532 \n",
              "    1     1     1     1     1     1     2     1     1     1     2     2     2 \n",
              " 8533  8534  8535  8536  8537  8538  8539  8540  8541  8542  8543  8544  8546 \n",
              "    1     1     1     2     1     1     2     1     1     1     1     1     1 \n",
              " 8547  8548  8549  8550  8551  8552  8553  8554  8555  8556  8557  8558  8559 \n",
              "    1     1     1     1     1     2     1     2     2     1     1     2     1 \n",
              " 8560  8561  8562  8563  8564  8565  8566  8567  8568  8569  8570  8571  8572 \n",
              "    1     1     1     1     1     1     2     2     1     1     1     1     1 \n",
              " 8573  8574  8575  8576  8577  8578  8579  8580  8581  8582  8583  8584  8585 \n",
              "    1     1     1     1     2     1     1     1     1     1     1     1     1 \n",
              " 8586  8587  8588  8589  8590  8591  8592  8593  8594  8595  8596  8597  8598 \n",
              "    1     2     1     1     1     1     1     1     1     1     1     1     1 \n",
              " 8599  8600  8601  8602  8603  8604  8605  8606  8607  8608  8609  8610  8611 \n",
              "    1     1     1     1     1     1     1     1     1     1     1     1     1 \n",
              " 8612  8613  8614  8615  8616  8617  8618  8619  8620  8621  8622  8623  8624 \n",
              "    1     2     2     2     1     1     1     1     1     1     1     1     1 \n",
              " 8625  8626  8627  8628  8629  8630  8631  8632  8633  8634  8635  8636  8637 \n",
              "    1     1     1     1     2     1     1     1     1     1     2     2     1 \n",
              " 8638  8639  8640  8641  8642  8643  8644  8645  8646  8647  8648  8649  8650 \n",
              "    1     1     1     2     1     1     2     1     2     1     2     1     1 \n",
              " 8651  8652  8653  8654  8655  8656  8657  8658  8659  8660  8661  8662  8663 \n",
              "    2     2     2     2     2     1     2     1     2     2     1     1     1 \n",
              " 8664  8665  8666  8667  8668  8669  8670  8671  8672  8673  8674  8675  8676 \n",
              "    1     1     1     1     1     2     1     1     1     1     1     1     2 \n",
              " 8677  8678  8679  8680  8681  8682  8683  8684  8685  8686  8687  8688  8689 \n",
              "    1     1     1     1     1     1     1     2     2     1     1     1     1 \n",
              " 8690  8691  8692  8693  8694  8695  8696  8697  8698  8699  8700  8701  8702 \n",
              "    1     1     2     2     1     1     1     1     1     1     1     2     1 \n",
              " 8703  8704  8705  8706  8707  8708  8709  8710  8711  8712  8713  8714  8715 \n",
              "    1     2     2     1     1     2     1     1     1     1     2     1     1 \n",
              " 8716  8717  8718  8719  8720  8721  8722  8723  8724  8725  8726  8727  8728 \n",
              "    1     2     1     1     1     2     1     1     2     1     1     1     1 \n",
              " 8729  8730  8731  8732  8733  8734  8735  8736  8737  8738  8739  8740  8741 \n",
              "    1     2     2     1     2     2     1     1     1     1     1     1     1 \n",
              " 8742  8743  8744  8745  8746  8747  8748  8749  8750  8751  8752  8753  8754 \n",
              "    1     1     1     1     2     1     1     1     1     2     1     1     2 \n",
              " 8755  8756  8757  8758  8759  8760  8761  8762  8763  8764  8765  8766  8767 \n",
              "    1     2     1     1     1     1     1     1     1     1     1     1     2 \n",
              " 8768  8769  8770  8771  8772  8773  8774  8775  8776  8777  8778  8779  8780 \n",
              "    2     1     1     1     1     2     1     1     1     1     1     1     1 \n",
              " 8781  8782  8783  8784  8785  8786  8787  8788  8789  8790  8791  8792  8793 \n",
              "    1     1     1     2     1     2     2     1     1     1     1     1     1 \n",
              " 8794  8795  8796  8797  8798  8799  8800  8801  8802  8803  8804  8805  8806 \n",
              "    1     2     1     1     2     2     1     1     2     1     1     2     1 \n",
              " 8807  8808  8809  8810  8811  8812  8813  8814  8815  8816  8817  8818  8819 \n",
              "    2     1     1     1     2     2     2     1     1     1     1     2     1 \n",
              " 8820  8821  8822  8823  8824  8825  8826  8827  8828  8829  8830  8831  8832 \n",
              "    1     1     1     1     2     2     1     1     1     1     1     1     1 \n",
              " 8833  8834  8835  8836  8837  8838  8839  8840  8841  8842  8843  8844  8845 \n",
              "    1     1     1     1     1     2     1     1     2     1     1     1     1 \n",
              " 8846  8847  8848  8849  8850  8851  8852  8853  8854  8855  8856  8857  8858 \n",
              "    1     1     2     2     1     1     1     1     1     2     1     1     1 \n",
              " 8859  8860  8861  8862  8863  8864  8865  8866  8867  8868  8869  8870  8871 \n",
              "    1     1     1     1     1     2     1     1     1     2     1     1     1 \n",
              " 8872  8873  8874  8875  8876  8877  8878  8879  8880  8881  8882  8883  8884 \n",
              "    1     1     1     1     1     2     1     1     1     1     1     1     1 \n",
              " 8885  8886  8887  8888  8889  8890  8891  8892  8893  8894  8895  8896  8897 \n",
              "    1     1     1     2     1     1     2     1     1     1     1     1     1 \n",
              " 8898  8899  8900  8901  8902  8903  8904  8905  8906  8907  8908  8909  8910 \n",
              "    1     1     1     1     2     1     2     2     1     2     1     1     1 \n",
              " 8911  8912  8913  8914  8915  8916  8917  8918  8919  8920  8921  8922  8923 \n",
              "    1     2     2     1     1     1     2     1     1     1     1     1     1 \n",
              " 8924  8925  8926  8927  8928  8929  8930  8931  8932  8933  8934  8935  8936 \n",
              "    1     1     1     1     1     1     1     1     1     2     1     2     1 \n",
              " 8937  8938  8939  8940  8941  8942  8943  8944  8945  8946  8947  8948  8949 \n",
              "    1     1     2     2     1     1     1     1     1     1     1     1     1 \n",
              " 8950  8951  8952  8953  8954  8955  8956  8957  8958  8959  8960  8961  8962 \n",
              "    1     1     1     1     1     1     1     2     1     1     1     1     1 \n",
              " 8963  8964  8965  8966  8967  8968  8969  8970  8971  8972  8973  8974  8975 \n",
              "    1     2     1     1     2     1     1     1     1     2     1     2     1 \n",
              " 8976  8977  8978  8979  8980  8981  8982  8983  8984  8985  8986  8987  8988 \n",
              "    1     1     1     1     1     2     1     2     2     1     1     2     1 \n",
              " 8989  8990  8991  8992  8993  8994  8995  8996  8997  8998  8999  9000  9001 \n",
              "    2     2     1     2     1     1     2     1     2     1     1     1     2 \n",
              " 9002  9003  9004  9005  9006  9007  9008  9009  9010  9011  9012  9013  9014 \n",
              "    1     2     1     2     1     1     1     2     1     2     1     1     1 \n",
              " 9015  9016  9017  9018  9019  9020  9021  9022  9023  9024  9025  9026  9027 \n",
              "    1     1     2     1     1     1     1     1     1     2     1     1     2 \n",
              " 9028  9029  9030  9031  9032  9033  9034  9035  9036  9037  9038  9039  9040 \n",
              "    2     1     2     1     1     1     1     2     1     1     2     1     1 \n",
              " 9041  9042  9043  9044  9045  9046  9047  9048  9049  9050  9051  9052  9053 \n",
              "    1     2     1     1     1     1     1     1     1     1     1     2     1 \n",
              " 9054  9055  9056  9057  9058  9059  9060  9061  9062  9063  9064  9065  9066 \n",
              "    1     1     1     1     2     1     1     2     1     2     1     1     1 \n",
              " 9067  9068  9069  9070  9071  9072  9073  9074  9075  9076  9077  9078  9079 \n",
              "    1     1     1     2     1     2     1     1     1     1     1     2     2 \n",
              " 9080  9081  9082  9083  9084  9085  9086  9087  9088  9089  9090  9091  9092 \n",
              "    1     2     2     1     1     1     1     2     1     1     1     2     1 \n",
              " 9093  9094  9095  9096  9097  9098  9099  9100  9101  9102  9103  9104  9105 \n",
              "    1     2     1     1     1     1     1     1     1     1     2     1     1 \n",
              " 9106  9107  9108  9109  9110  9111  9112  9113  9114  9115  9116  9117  9118 \n",
              "    1     2     2     2     1     1     1     2     1     2     2     1     2 \n",
              " 9119  9120  9121  9122  9123  9124  9125  9126  9127  9128  9129  9130  9131 \n",
              "    1     1     1     1     1     1     1     1     1     1     1     2     1 \n",
              " 9132  9133  9134  9135  9136  9137  9138  9139  9140  9141  9142  9143  9144 \n",
              "    1     1     1     1     1     2     1     2     1     1     1     2     1 \n",
              " 9145  9146  9147  9148  9149  9150  9151  9152  9153  9154  9155  9156  9157 \n",
              "    2     1     1     1     1     1     1     1     2     1     1     1     1 \n",
              " 9158  9159  9160  9161  9162  9163  9164  9165  9166  9167  9168  9169  9170 \n",
              "    1     1     1     1     1     1     1     1     2     2     1     1     2 \n",
              " 9171  9172  9173  9174  9175  9176  9177  9178  9179  9180  9181  9182  9183 \n",
              "    2     1     2     2     1     2     2     1     1     1     1     1     2 \n",
              " 9184  9185  9186  9187  9188  9189  9190  9191  9192  9193  9194  9195  9196 \n",
              "    2     1     1     1     1     1     1     1     1     2     1     1     1 \n",
              " 9197  9198  9199  9200  9201  9202  9203  9204  9205  9206  9207  9208  9209 \n",
              "    1     1     1     1     1     1     1     1     1     1     2     2     1 \n",
              " 9210  9211  9212  9213  9214  9215  9216  9217  9218  9219  9220  9221  9222 \n",
              "    1     1     1     1     1     2     1     1     1     2     2     1     1 \n",
              " 9223  9224  9225  9226  9227  9228  9229  9230  9231  9232  9233  9234  9235 \n",
              "    1     1     2     1     1     2     2     1     2     2     1     1     2 \n",
              " 9236  9237  9238  9239  9240  9241  9242  9243  9244  9245  9246  9247  9248 \n",
              "    2     1     1     1     1     1     2     1     1     2     1     2     1 \n",
              " 9249  9250  9251  9252  9253  9254  9255  9256  9257  9258  9259  9260  9261 \n",
              "    2     1     1     1     2     1     2     1     1     1     1     2     1 \n",
              " 9262  9263  9264  9265  9266  9267  9268  9269  9270  9271  9272  9273  9274 \n",
              "    1     1     1     1     1     1     1     1     1     1     1     1     1 \n",
              " 9275  9276  9277  9278  9279  9280  9281  9282  9283  9284  9285  9286  9287 \n",
              "    1     1     1     1     1     1     1     1     1     1     1     1     1 \n",
              " 9288  9289  9290  9291  9292  9293  9294  9295  9296  9297  9298  9299  9300 \n",
              "    1     1     1     1     1     1     2     1     1     1     2     1     2 \n",
              " 9301  9302  9303  9304  9305  9306  9308  9309  9310  9311  9312  9313  9314 \n",
              "    2     1     1     2     1     2     1     1     1     1     1     2     1 \n",
              " 9315  9316  9317  9318  9319  9320  9321  9322  9323  9324  9325  9326  9327 \n",
              "    1     1     1     1     1     1     1     2     1     1     1     1     1 \n",
              " 9328  9329  9330  9331  9332  9333  9334  9335  9336  9337  9338  9339  9340 \n",
              "    1     1     1     1     1     1     1     1     1     1     1     1     1 \n",
              " 9341  9342  9343  9344  9345  9346  9347  9348  9349  9350  9351  9352  9353 \n",
              "    1     2     1     1     1     1     1     1     1     1     2     2     1 \n",
              " 9354  9355  9356  9357  9358  9359  9360  9361  9362  9363  9364  9365  9366 \n",
              "    1     1     1     1     2     1     1     1     1     1     1     1     2 \n",
              " 9367  9368  9369  9370  9371  9372  9373  9374  9375  9376  9377  9378  9379 \n",
              "    1     2     1     1     1     1     1     2     2     1     1     1     1 \n",
              " 9380  9381  9382  9383  9384  9385  9386  9387  9388  9389  9390  9391  9392 \n",
              "    1     1     1     1     2     1     1     2     1     1     1     1     1 \n",
              " 9393  9394  9395  9396  9397  9398  9399  9400  9401  9402  9403  9404  9405 \n",
              "    2     2     1     1     2     1     2     1     1     2     1     1     1 \n",
              " 9406  9407  9408  9409  9410  9411  9412  9413  9414  9415  9416  9417  9418 \n",
              "    2     1     2     1     1     1     1     1     1     1     1     1     1 \n",
              " 9419  9420  9421  9422  9423  9424  9425  9426  9427  9428  9429  9430  9431 \n",
              "    1     1     1     2     1     1     1     2     1     1     1     1     2 \n",
              " 9432  9433  9434  9435  9436  9437  9438  9439  9440  9441  9442  9443  9444 \n",
              "    1     1     1     1     1     1     1     1     1     1     1     1     1 \n",
              " 9445  9446  9447  9448  9449  9450  9451  9452  9453  9454  9455  9456  9457 \n",
              "    1     1     1     2     1     1     1     1     1     2     1     1     1 \n",
              " 9458  9459  9460  9461  9462  9463  9464  9465  9466  9467  9468  9469  9470 \n",
              "    2     1     2     2     1     1     1     2     1     2     1     1     1 \n",
              " 9471  9472  9473  9474  9475  9476  9477  9478  9479  9480  9481  9482  9483 \n",
              "    2     1     1     1     2     1     1     2     2     1     1     1     1 \n",
              " 9484  9485  9486  9487  9488  9489  9490  9491  9492  9493  9494  9496  9497 \n",
              "    1     1     2     1     1     2     1     1     2     1     1     1     1 \n",
              " 9498  9499  9500  9501  9502  9503  9504  9505  9506  9507  9508  9509  9510 \n",
              "    1     1     1     1     1     2     1     1     1     2     2     1     2 \n",
              " 9511  9512  9513  9514  9515  9516  9517  9518  9519  9520  9521  9522  9523 \n",
              "    2     1     1     1     1     2     2     1     1     2     1     2     1 \n",
              " 9524  9525  9526  9527  9528  9529  9530  9531  9532  9533  9534  9535  9536 \n",
              "    2     1     1     1     1     1     1     2     1     1     1     2     1 \n",
              " 9537  9538  9539  9540  9541  9542  9543  9544  9545  9546  9547  9548  9549 \n",
              "    1     2     1     1     1     2     1     1     1     1     1     2     1 \n",
              " 9550  9551  9553  9554  9555  9556  9557  9558  9559  9560  9561  9562  9563 \n",
              "    1     1     2     1     2     2     2     1     1     1     1     1     1 \n",
              " 9564  9565  9566  9567  9568  9570  9571  9572  9573  9574  9575  9576  9577 \n",
              "    1     1     1     1     2     1     1     1     1     2     2     1     1 \n",
              " 9578  9579  9580  9581  9583  9584  9585  9586  9587  9588  9589  9590  9591 \n",
              "    1     1     2     1     1     1     1     1     1     1     1     1     1 \n",
              " 9592  9593  9594  9595  9596  9597  9598  9599  9600  9601  9602  9603  9604 \n",
              "    2     2     2     1     1     1     1     1     2     1     1     1     1 \n",
              " 9605  9606  9607  9608  9609  9610  9611  9612  9613  9614  9615  9616  9617 \n",
              "    1     1     1     1     2     1     1     1     2     1     1     1     1 \n",
              " 9618  9619  9620  9621  9622  9623  9624  9625  9626  9627  9628  9629  9630 \n",
              "    1     1     1     1     2     2     1     1     2     2     1     1     2 \n",
              " 9631  9632  9633  9634  9635  9636  9637  9638  9639  9640  9641  9642  9643 \n",
              "    1     2     2     1     1     1     1     1     2     1     1     1     1 \n",
              " 9644  9645  9646  9647  9648  9649  9650  9651  9652  9653  9654  9655  9656 \n",
              "    1     2     1     1     1     2     2     1     1     1     2     2     2 \n",
              " 9657  9658  9659  9660  9661  9662  9663  9664  9665  9666  9667  9668  9669 \n",
              "    1     1     1     1     1     1     1     1     1     2     1     1     2 \n",
              " 9670  9671  9672  9673  9674  9675  9676  9677  9678  9679  9680  9681  9682 \n",
              "    1     2     1     1     1     2     1     2     1     1     1     1     1 \n",
              " 9683  9684  9685  9686  9687  9688  9689  9690  9691  9692  9693  9694  9695 \n",
              "    2     2     1     2     1     1     1     1     1     1     1     2     1 \n",
              " 9696  9697  9698  9699  9700  9701  9702  9703  9704  9705  9706  9707  9708 \n",
              "    1     1     1     1     1     1     2     2     1     1     1     1     1 \n",
              " 9709  9710  9711  9712  9713  9714  9715  9716  9717  9718  9720  9721  9722 \n",
              "    1     1     2     1     1     1     2     1     1     1     1     2     1 \n",
              " 9723  9724  9725  9726  9727  9728  9729  9730  9731  9732  9733  9734  9735 \n",
              "    1     2     1     1     1     2     1     1     1     1     2     1     1 \n",
              " 9736  9737  9738  9739  9740  9741  9742  9743  9744  9745  9746  9747  9748 \n",
              "    1     1     1     1     2     1     1     1     1     2     1     1     1 \n",
              " 9749  9750  9751  9752  9753  9754  9755  9756  9757  9758  9759  9760  9761 \n",
              "    1     1     1     1     1     1     2     1     1     1     2     1     2 \n",
              " 9762  9763  9764  9765  9766  9767  9768  9769  9771  9772  9773  9774  9775 \n",
              "    1     1     1     1     1     1     2     2     1     1     1     1     1 \n",
              " 9776  9777  9778  9779  9780  9781  9782  9783  9784  9785  9786  9787  9788 \n",
              "    1     2     1     1     1     2     1     1     1     1     2     1     1 \n",
              " 9789  9790  9791  9792  9793  9794  9795  9796  9797  9798  9799  9800  9801 \n",
              "    1     1     1     1     2     1     1     2     2     1     1     1     2 \n",
              " 9802  9803  9804  9805  9806  9807  9808  9809  9810  9811  9812  9813  9814 \n",
              "    1     2     2     1     2     2     1     1     1     1     1     2     1 \n",
              " 9815  9816  9817  9818  9819  9820  9821  9822  9823  9824  9825  9826  9827 \n",
              "    1     1     2     1     1     1     1     1     2     1     1     1     2 \n",
              " 9828  9829  9830  9831  9832  9833  9834  9835  9836  9837  9838  9839  9840 \n",
              "    1     1     1     1     2     1     1     1     1     1     1     1     1 \n",
              " 9841  9842  9843  9844  9845  9846  9847  9848  9849  9850  9851  9852  9853 \n",
              "    2     1     1     1     1     2     1     1     2     1     1     2     1 \n",
              " 9854  9855  9856  9857  9858  9859  9860  9861  9862  9863  9864  9865  9866 \n",
              "    1     1     2     1     1     1     1     1     1     1     1     1     2 \n",
              " 9867  9868  9869  9870  9871  9872  9873  9874  9875  9876  9877  9878  9880 \n",
              "    1     2     2     1     1     2     1     1     1     1     1     2     1 \n",
              " 9881  9882  9883  9884  9885  9886  9887  9888  9889  9890  9891  9892  9893 \n",
              "    1     1     1     1     1     1     1     1     2     1     1     1     1 \n",
              " 9894  9895  9896  9897  9898  9899  9900  9901  9902  9903  9904  9905  9906 \n",
              "    1     1     2     1     1     1     2     2     1     1     2     1     2 \n",
              " 9907  9909  9910  9911  9912  9913  9914  9915  9916  9917  9918  9919  9920 \n",
              "    1     2     1     2     1     1     1     1     1     2     2     1     1 \n",
              " 9921  9922  9923  9924  9925  9926  9927  9928  9929  9930  9931  9932  9933 \n",
              "    1     1     1     1     1     1     1     2     2     2     1     2     1 \n",
              " 9934  9935  9936  9937  9938  9939  9940  9941  9942  9943  9944  9945  9946 \n",
              "    2     1     1     1     2     2     1     2     1     1     2     2     1 \n",
              " 9947  9948  9949  9950  9951  9952  9953  9954  9955  9956  9957  9958  9959 \n",
              "    2     1     1     1     2     1     1     1     1     1     1     1     1 \n",
              " 9960  9961  9962  9963  9964  9965  9966  9967  9968  9969  9970  9971  9972 \n",
              "    2     1     1     1     1     1     1     1     1     1     1     2     1 \n",
              " 9973  9974  9975  9976  9977  9978  9979  9980  9981  9982  9983  9984  9985 \n",
              "    1     1     1     1     2     2     1     1     1     1     1     1     2 \n",
              " 9986  9987  9988  9989  9990  9991  9992  9993  9994  9995  9996  9997  9998 \n",
              "    1     1     1     2     1     2     1     1     1     1     1     1     2 \n",
              " 9999 10000 10001 10002 10003 10004 10005 10006 10007 10008 10009 10010 10011 \n",
              "    2     2     1     1     2     1     1     1     1     1     1     2     1 \n",
              "10012 10013 10014 10015 10016 10017 10018 10019 10020 10021 10022 10023 10024 \n",
              "    1     1     1     1     1     1     1     1     1     2     1     1     1 \n",
              "10025 10026 10027 10028 10029 10030 10031 10032 10033 10034 10035 10036 10037 \n",
              "    2     2     1     1     1     1     1     1     1     1     1     1     1 \n",
              "10038 10039 10040 10041 10042 10043 10044 10045 10046 10047 10048 10049 10050 \n",
              "    1     1     1     1     1     1     1     1     1     1     1     2     1 \n",
              "10051 10052 10053 10054 10055 10056 10057 10058 10059 10060 10061 10062 10063 \n",
              "    1     2     1     1     1     1     1     1     1     2     1     1     1 \n",
              "10064 10065 10066 10067 10068 10069 10070 10071 10072 10073 10074 10075 10076 \n",
              "    1     1     2     2     2     1     1     2     1     1     2     1     1 \n",
              "10077 10078 10079 10080 10081 10082 10083 10084 10085 10086 10087 10088 10089 \n",
              "    1     1     1     1     1     1     1     2     1     1     1     1     1 \n",
              "10090 10091 10092 10093 10094 10095 10096 10097 10098 10099 10100 10101 10102 \n",
              "    1     1     1     1     1     1     1     2     1     1     2     1     1 \n",
              "10103 10104 10105 10106 10107 10108 10109 10110 10111 10112 10113 10114 10115 \n",
              "    2     2     2     1     1     1     1     1     1     1     1     1     2 \n",
              "10116 10117 10118 10119 10120 10121 10122 10123 10124 10125 10126 10127 10128 \n",
              "    1     1     1     1     1     1     1     2     1     2     1     2     1 \n",
              "10129 10130 10131 10132 10133 10134 10135 10136 10137 10138 10139 10140 10141 \n",
              "    1     1     1     1     1     2     2     1     1     1     1     1     1 \n",
              "10142 10143 10144 10145 10146 10148 10149 10150 10151 10152 10153 10154 10155 \n",
              "    2     1     1     2     2     2     1     1     1     1     2     1     2 \n",
              "10156 10157 10158 10159 10160 10161 10162 10163 10164 10165 10166 10167 10168 \n",
              "    1     1     2     1     1     1     1     1     2     1     1     1     1 \n",
              "10169 10170 10171 10172 10173 10174 10175 10176 10177 10178 10179 10180 10181 \n",
              "    1     1     1     2     1     1     2     1     2     1     1     2     1 \n",
              "10182 10183 10184 10185 10186 10187 10188 10189 10190 10191 10192 10193 10194 \n",
              "    1     1     2     1     2     1     2     2     1     2     1     1     1 \n",
              "10195 10196 10197 10198 10199 10200 10201 10202 10203 10204 10205 10206 10207 \n",
              "    2     1     1     1     1     1     2     1     1     1     1     1     1 \n",
              "10208 10209 10210 10211 10212 10213 10214 10215 10216 10217 10218 10219 10220 \n",
              "    1     1     1     1     1     1     1     2     1     1     1     2     1 \n",
              "10221 10222 10224 10225 10226 10227 10228 10229 10230 10231 10232 10233 10234 \n",
              "    1     1     1     1     2     1     1     1     1     1     1     2     1 \n",
              "10235 10236 10237 10238 10239 10240 10241 10242 10243 10244 10245 10246 10247 \n",
              "    2     1     1     1     1     1     1     1     1     1     1     1     1 \n",
              "10248 10249 10250 10251 10252 10253 10254 10255 10256 10257 10258 10259 10260 \n",
              "    1     1     1     1     2     2     2     1     1     2     1     1     1 \n",
              "10261 10262 10263 10264 10265 10266 10267 10268 10269 10271 10272 10273 10274 \n",
              "    2     2     2     1     1     1     2     1     2     1     2     2     2 \n",
              "10275 10276 10277 10278 10279 10280 10281 10282 10283 10284 10285 10286 10287 \n",
              "    1     1     2     1     1     1     2     1     1     1     1     2     2 \n",
              "10288 10289 10290 10291 10292 10293 10294 10295 10296 10297 10298 10299 10300 \n",
              "    1     1     1     2     2     1     1     1     1     1     1     2     1 \n",
              "10301 10302 10303 10304 10305 10306 10307 10308 10309 10310 10311 10312 10313 \n",
              "    1     1     2     1     1     2     1     1     1     1     2     1     1 \n",
              "10314 10315 10316 10317 10318 10319 10320 10321 10322 10323 10324 10325 10326 \n",
              "    1     1     1     2     2     1     1     2     2     1     1     1     1 \n",
              "10327 10328 10329 10330 10331 10332 10333 10334 10335 10336 10337 10338 10339 \n",
              "    2     1     2     1     1     1     2     1     1     1     1     1     1 \n",
              "10340 10341 10342 10343 10344 10345 10346 10347 10348 10349 10350 10351 10352 \n",
              "    1     1     1     1     1     1     1     2     1     1     1     1     1 \n",
              "10353 10354 10355 10356 10357 10358 10359 10360 10361 10362 10363 10364 10365 \n",
              "    1     2     1     2     2     2     2     1     2     1     1     1     1 \n",
              "10366 10367 10368 10369 10370 10371 10372 10373 10374 10375 10376 10377 10378 \n",
              "    1     2     1     1     1     1     1     1     1     2     2     1     1 \n",
              "10379 10380 10381 10382 10383 10384 10385 10386 10387 10388 10389 10390 10391 \n",
              "    1     2     2     1     2     1     1     1     1     1     2     2     2 \n",
              "10392 10393 10394 10395 10396 10397 10398 10399 10400 10401 10402 10403 10404 \n",
              "    1     1     2     1     2     1     1     1     1     2     1     1     1 \n",
              "10405 10406 10407 10408 10409 10410 10411 10412 10413 10414 10415 10416 10417 \n",
              "    2     1     1     1     1     1     1     1     2     1     2     1     1 \n",
              "10418 10419 10420 10421 10422 10423 10424 10425 10426 10427 10428 10429 10430 \n",
              "    2     1     2     2     2     1     2     2     1     1     1     1     1 \n",
              "10431 10432 10433 10434 10435 10436 10437 10438 10439 10440 10441 10442 10443 \n",
              "    2     1     2     2     2     2     1     1     1     2     1     2     2 \n",
              "10444 10445 10446 10447 10448 10449 10450 10451 10452 10453 10454 10455 10456 \n",
              "    1     2     2     1     1     2     1     1     1     1     2     1     1 \n",
              "10457 10458 10459 10460 10461 10462 10463 10464 10465 10466 10467 10468 10469 \n",
              "    1     1     1     1     1     2     1     1     1     1     1     2     1 \n",
              "10470 10471 10472 10473 10474 10475 10476 10477 10478 10479 10480 10481 10482 \n",
              "    1     2     1     1     1     1     1     1     1     1     1     1     1 \n",
              "10483 10484 10485 10486 10487 10488 10489 10490 10491 10492 10493 10494 10495 \n",
              "    1     2     1     1     2     1     1     2     2     1     2     1     1 \n",
              "10496 10497 10498 10499 10500 10501 10502 10503 10504 10505 10506 10507 10508 \n",
              "    1     1     1     1     1     1     1     1     2     1     1     2     1 \n",
              "10509 10510 10511 10512 10513 10514 10515 10516 10517 10518 10519 10520 10521 \n",
              "    1     1     1     1     1     1     1     2     1     2     1     1     2 \n",
              "10522 10523 10524 10525 10526 10527 10528 10529 10530 10531 10532 10533 10534 \n",
              "    1     2     1     1     1     1     1     2     1     1     1     1     2 \n",
              "10535 10536 10537 10538 10539 10540 10541 10542 10543 10544 10545 10546 10547 \n",
              "    1     1     1     2     2     1     1     1     1     1     1     2     2 \n",
              "10548 10549 10550 10551 10552 10553 10554 10555 10556 10557 10558 10559 10560 \n",
              "    1     1     1     1     1     1     1     1     1     1     2     1     1 \n",
              "10561 10562 10563 10564 10565 10566 10567 10568 10569 10570 10571 10572 10574 \n",
              "    1     1     1     1     1     1     1     1     1     1     2     1     2 \n",
              "10575 10576 10577 10578 10579 10580 10581 10582 10583 10584 10585 10586 10587 \n",
              "    1     1     1     2     1     1     2     1     2     1     1     1     1 \n",
              "10588 10589 10590 10591 10592 10593 10594 10595 10596 10597 10598 10599 10600 \n",
              "    1     1     1     1     1     1     2     1     1     2     1     1     1 \n",
              "10601 10602 10603 10604 10605 10606 10607 10608 10609 10610 10611 10612 10613 \n",
              "    1     1     1     2     1     2     1     1     1     2     2     1     1 \n",
              "10614 10615 10616 10617 10618 10619 10620 10621 10622 10623 10624 10625 10626 \n",
              "    2     1     1     1     2     2     2     1     1     1     2     2     1 \n",
              "10627 10628 10629 10630 10631 10633 10634 10635 10636 10637 10638 10639 10640 \n",
              "    1     1     1     1     1     2     1     1     1     1     1     1     1 \n",
              "10641 10642 10643 10644 10645 10646 10647 10648 10649 10650 10651 10652 10653 \n",
              "    1     1     1     1     2     1     1     2     1     1     1     1     1 \n",
              "10654 10655 10656 10657 10658 10659 10660 10661 10662 10663 10664 10665 10666 \n",
              "    1     1     1     2     1     1     1     1     2     1     1     1     1 \n",
              "10667 10668 10669 10670 10671 10672 10673 10674 10675 10676 10677 10678 10679 \n",
              "    1     2     1     1     1     2     1     1     1     1     1     1     1 \n",
              "10680 10681 10682 10683 10684 10685 10686 10687 10688 10689 10690 10691 10692 \n",
              "    2     1     2     1     1     1     2     1     1     1     1     1     1 \n",
              "10693 10694 10695 10696 10697 10698 10699 10700 10701 10702 10703 10704 10705 \n",
              "    1     2     1     1     1     1     1     2     1     2     1     1     1 \n",
              "10706 10707 10708 10709 10710 10711 10712 10713 10714 10715 10716 10717 10718 \n",
              "    1     2     1     1     1     1     1     2     1     1     1     1     1 \n",
              "10719 10720 10721 10722 10723 10724 10725 10726 10727 10728 10729 10730 10731 \n",
              "    1     1     1     1     1     2     1     1     1     1     1     1     1 \n",
              "10732 10733 10734 10735 10736 10737 10738 10739 10740 10741 10742 10743 10744 \n",
              "    1     1     1     1     1     1     1     2     1     1     1     2     2 \n",
              "10745 10746 10747 10748 10749 10750 10751 10753 10754 10755 10756 10757 10758 \n",
              "    1     2     1     1     1     2     1     1     1     1     1     2     1 \n",
              "10759 10760 10761 10762 10763 10764 10765 10766 10767 10768 10769 10770 10771 \n",
              "    1     1     1     1     1     2     1     1     1     2     2     1     1 \n",
              "10772 10773 10774 10775 10776 10777 10778 10779 10780 10781 10782 10783 10784 \n",
              "    2     1     1     1     2     1     1     1     1     1     1     1     1 \n",
              "10785 10786 10787 10788 10789 10790 10791 10792 10793 10794 10795 10797 10798 \n",
              "    2     1     1     1     1     2     1     1     1     1     1     1     2 \n",
              "10799 10800 10801 10802 10803 10804 10805 10806 10807 10808 10809 10810 10811 \n",
              "    1     2     1     1     2     2     1     1     1     1     1     2     1 \n",
              "10812 10813 10814 10815 10816 10817 10818 10819 10820 10821 10822 10823 10824 \n",
              "    1     2     1     2     1     1     1     1     1     2     2     1     1 \n",
              "10825 10826 10827 10828 10829 10830 10831 10832 10833 10834 10835 10836 10837 \n",
              "    1     1     1     1     2     1     1     2     2     2     2     1     1 \n",
              "10838 10839 10840 10841 10843 10844 10845 10846 10847 10848 10849 10850 10851 \n",
              "    1     1     1     2     1     1     2     2     1     1     2     2     1 \n",
              "10852 10853 10854 10855 10856 10857 10858 10859 10860 10861 10862 10863 10864 \n",
              "    2     1     1     1     1     2     1     1     1     1     1     1     1 \n",
              "10865 10866 10867 10868 10869 10870 10871 10872 10873 10874 10875 10876 10877 \n",
              "    1     2     1     1     1     1     1     1     1     1     1     2     2 \n",
              "10878 10879 10880 10881 10882 10883 10884 10885 10886 10887 10888 10889 10890 \n",
              "    1     1     1     1     2     2     2     1     1     1     2     1     1 \n",
              "10891 10892 10893 10894 10895 10896 10897 10898 10899 10900 10901 10902 10903 \n",
              "    1     1     1     1     1     1     1     1     2     1     1     1     1 \n",
              "10904 10905 10906 10907 10908 10909 10910 10911 10912 10913 10914 10915 10916 \n",
              "    2     1     1     1     1     1     2     1     1     1     2     1     2 \n",
              "10917 10918 10919 10920 10921 10922 10923 10924 10925 10926 10927 10928 10929 \n",
              "    1     2     1     1     1     1     1     2     1     1     1     1     1 \n",
              "10930 10931 10932 10933 10934 10935 10936 10937 10938 10939 10940 10941 10942 \n",
              "    1     2     1     1     2     2     1     2     2     1     1     1     2 \n",
              "10943 10944 10945 10946 10947 10948 10949 10950 10951 10952 10953 10954 10955 \n",
              "    1     2     1     1     1     2     1     2     2     2     1     1     1 \n",
              "10956 10957 10958 10959 10960 10961 10962 10963 10964 10965 10966 10967 10968 \n",
              "    2     1     1     1     2     1     2     1     1     1     1     2     1 \n",
              "10969 10970 10971 10972 10973 10974 10975 10976 10977 10978 10979 10980 10981 \n",
              "    1     2     1     1     1     1     1     1     1     1     1     1     1 \n",
              "10982 10983 10984 10985 10986 10987 10988 10990 10991 10992 10993 10994 10995 \n",
              "    1     1     1     1     2     1     1     1     1     1     2     1     1 \n",
              "10996 10997 10998 10999 11000 11001 11002 11003 11004 11005 11006 11007 11008 \n",
              "    1     1     1     1     1     1     1     1     1     1     1     1     2 \n",
              "11009 11010 11011 11012 11013 11014 11015 11016 11017 11018 11019 11020 11021 \n",
              "    1     1     1     1     1     1     1     1     1     1     1     1     1 \n",
              "11022 11023 11024 11025 11026 11027 11028 11029 11030 11031 11032 11033 11034 \n",
              "    1     1     2     1     2     1     1     1     1     1     1     2     1 \n",
              "11035 11036 11037 11038 11039 11040 11041 11042 11043 11045 11046 11047 11048 \n",
              "    1     2     1     2     2     2     1     1     1     1     1     1     1 \n",
              "11049 11050 11051 11052 11053 11054 11055 11056 11057 11058 11059 11060 11061 \n",
              "    2     1     2     1     1     1     1     1     1     2     1     1     2 \n",
              "11062 11063 11064 11065 11066 11067 11068 11069 11070 11071 11072 11073 11074 \n",
              "    1     2     2     1     1     1     1     1     1     1     1     1     1 \n",
              "11075 11076 11077 11078 11079 11080 11081 11082 11083 11084 11085 11086 11087 \n",
              "    1     1     1     1     1     1     1     1     1     1     1     1     1 \n",
              "11088 11089 11090 11091 11092 11093 11094 11095 11096 11097 11098 11099 11100 \n",
              "    1     1     1     2     1     1     2     1     1     1     1     1     1 \n",
              "11101 11102 11103 11104 11105 11106 11107 11108 11109 11110 11111 11112 11113 \n",
              "    2     1     2     1     2     1     1     1     2     1     1     1     1 \n",
              "11114 11115 11116 11117 11118 11119 11120 11121 11122 11123 11124 11125 11126 \n",
              "    1     1     1     1     2     2     1     1     2     1     2     1     1 \n",
              "11127 11128 11129 11130 11131 11132 11133 11134 11135 11136 11137 11138 11139 \n",
              "    1     1     1     2     1     1     1     1     1     2     2     2     2 \n",
              "11140 11141 11142 11143 11144 11145 11146 11147 11148 11149 11150 11151 11152 \n",
              "    2     1     2     1     2     1     1     1     2     1     2     1     1 \n",
              "11153 11154 11155 11156 11157 11158 11159 11160 11161 11162 11163 11164 11165 \n",
              "    1     2     2     1     2     1     1     1     1     2     1     1     1 \n",
              "11166 11167 11168 11169 11170 11171 11172 11173 11174 11175 11176 11177 11178 \n",
              "    2     1     1     1     2     1     2     2     2     1     1     1     1 \n",
              "11179 11180 11181 11182 11183 11184 11185 11186 11187 11188 11189 11190 11191 \n",
              "    1     2     2     1     1     1     1     2     1     1     1     1     1 \n",
              "11192 11193 11194 11195 11196 11197 11198 11199 11200 11201 11202 11203 11204 \n",
              "    1     2     2     1     2     1     2     2     1     1     1     1     2 \n",
              "11205 11207 11208 11209 11210 11211 11212 11213 11214 11215 11216 11217 11218 \n",
              "    1     2     2     1     1     1     1     2     1     1     1     1     2 \n",
              "11219 11220 11221 11222 11223 11224 11225 11226 11227 11228 11229 11230 11231 \n",
              "    1     1     2     1     2     1     1     1     2     1     2     1     1 \n",
              "11232 11233 11234 11235 11236 11237 11238 11239 11240 11241 11242 11243 11244 \n",
              "    1     1     1     2     2     1     1     1     2     2     1     1     1 \n",
              "11245 11246 11247 11248 11249 11250 11251 11252 11253 11254 11255 11256 11257 \n",
              "    1     1     2     1     1     1     2     1     1     1     1     2     1 \n",
              "11258 11259 11260 11261 11262 11263 11264 11265 11266 11267 11268 11269 11270 \n",
              "    1     1     1     1     1     1     1     1     2     1     1     1     1 \n",
              "11271 11272 11273 11274 11275 11276 11277 11278 11279 11280 11281 11282 11283 \n",
              "    1     1     2     1     1     1     1     1     2     1     1     2     1 \n",
              "11284 11285 11286 11287 11288 11289 11290 11291 11292 11293 11294 11295 11296 \n",
              "    1     1     1     1     2     1     1     1     1     2     1     2     1 \n",
              "11297 11298 11299 11300 11301 11302 11303 11304 11305 11306 11307 11308 11309 \n",
              "    2     2     1     2     1     1     1     1     1     1     1     2     1 \n",
              "11310 11311 11312 11313 11314 11315 11316 11317 11318 11319 11320 11321 11322 \n",
              "    1     1     1     1     2     1     1     2     1     1     2     1     1 \n",
              "11323 11324 11325 11326 11327 11328 11329 11330 11331 11332 11333 11334 11335 \n",
              "    1     1     1     2     1     1     1     1     1     1     1     1     1 \n",
              "11336 11337 11338 11339 11340 11341 11342 11343 11344 11345 11346 11347 11348 \n",
              "    1     1     1     1     2     1     1     1     1     1     2     1     1 \n",
              "11349 11350 11351 11352 11353 11354 11355 11356 11357 11358 11359 11360 11361 \n",
              "    1     1     1     2     1     1     1     2     2     2     1     1     1 \n",
              "11362 11363 11364 11365 11366 11367 11368 11369 11370 11371 11372 11373 11374 \n",
              "    2     1     1     1     1     2     1     1     2     1     1     1     1 \n",
              "11375 11376 11377 11378 11379 11380 11381 11382 11383 11384 11385 11386 11387 \n",
              "    1     1     1     1     1     1     1     1     1     1     1     2     2 \n",
              "11388 11389 11390 11391 11392 11393 11394 11395 11396 11397 11398 11399 11400 \n",
              "    2     1     1     2     2     1     2     1     1     2     1     1     1 \n",
              "11401 11402 11403 11404 11406 11407 11408 11409 11410 11411 11412 11413 11414 \n",
              "    1     1     1     1     1     1     1     2     1     1     2     1     1 \n",
              "11415 11416 11417 11418 11419 11420 11421 11422 11423 11424 11425 11426 11427 \n",
              "    1     1     1     1     2     1     1     2     1     2     1     1     1 \n",
              "11428 11429 11430 11431 11432 11433 11434 11435 11436 11437 11438 11439 11440 \n",
              "    1     1     1     2     1     1     1     2     1     2     2     1     2 \n",
              "11441 11442 11443 11444 11445 11446 11447 11448 11449 11450 11451 11452 11453 \n",
              "    1     2     1     1     1     1     1     1     2     1     2     2     2 \n",
              "11454 11455 11456 11457 11458 11459 11460 11461 11462 11463 11464 11465 11466 \n",
              "    1     2     1     1     1     2     1     1     1     2     1     2     2 \n",
              "11467 11468 11469 11470 11471 11472 11473 11474 11475 11476 11477 11478 11479 \n",
              "    1     1     1     1     1     1     1     1     1     2     1     1     1 \n",
              "11480 11481 11482 11483 11484 11485 11486 11487 11488 11489 11490 11491 11492 \n",
              "    1     2     1     1     2     1     2     2     1     2     2     1     1 \n",
              "11493 11494 11495 11496 11497 11498 11499 11500 11501 11502 11503 11504 11505 \n",
              "    1     2     1     1     1     1     1     1     1     1     1     1     1 \n",
              "11506 11507 11508 11509 11510 11511 11512 11513 11514 11515 11516 11517 11518 \n",
              "    1     2     2     2     1     1     1     1     1     1     1     1     1 \n",
              "11519 11520 11521 11522 11523 11525 11526 11527 11528 11529 11530 11531 11532 \n",
              "    1     1     1     2     1     1     2     1     1     2     1     1     1 \n",
              "11533 11534 11535 11536 11537 11538 11539 11540 11541 11542 11543 11544 11545 \n",
              "    1     1     2     1     1     1     1     2     1     1     2     1     1 \n",
              "11546 11547 11548 11549 11550 11551 11552 11553 11554 11555 11556 11557 11558 \n",
              "    2     2     1     1     1     2     1     2     2     1     1     1     1 \n",
              "11559 11560 11561 11562 11563 11564 11565 11566 11567 11568 11569 11570 11571 \n",
              "    1     2     2     1     1     1     1     2     1     1     2     1     2 \n",
              "11572 11573 11574 11575 11576 11577 11578 11579 11580 11581 11583 11584 11585 \n",
              "    1     2     1     1     1     1     1     1     1     2     1     1     1 \n",
              "11586 11587 11588 11589 11590 11591 11592 11593 11594 11595 11596 11597 11598 \n",
              "    2     1     1     1     2     1     1     1     2     1     1     1     2 \n",
              "11599 11600 11601 11602 11603 11604 11605 11606 11607 11608 11609 11610 11611 \n",
              "    1     2     1     2     2     1     1     1     1     1     2     1     1 \n",
              "11612 11613 11614 11615 11616 11617 11618 11619 11620 11621 11622 11623 11624 \n",
              "    1     2     1     2     2     2     1     1     1     1     1     1     2 \n",
              "11626 11627 11628 11629 11630 11631 11632 11633 11634 11635 11636 11637 11638 \n",
              "    2     1     1     1     2     2     1     2     1     1     1     1     2 \n",
              "11639 11640 11641 11642 11643 11644 11645 11646 11647 11648 11649 11650 11651 \n",
              "    2     1     1     2     1     2     1     1     1     1     1     1     1 \n",
              "11652 11653 11654 11655 11656 11657 11658 11660 11661 11662 11663 11664 11665 \n",
              "    1     1     1     1     2     1     1     1     1     1     1     1     2 \n",
              "11666 11667 11668 11669 11670 11671 11672 11673 11674 11675 11676 11677 11678 \n",
              "    1     1     1     1     2     2     1     2     2     1     2     2     1 \n",
              "11679 11680 11681 11682 11683 11684 11685 11686 11687 11688 11689 11690 11691 \n",
              "    1     1     1     1     2     1     1     2     1     1     2     1     1 \n",
              "11692 11693 11694 11695 11696 11697 11698 11699 11700 11701 11702 11703 11704 \n",
              "    2     1     1     1     1     1     1     1     1     2     1     1     1 \n",
              "11705 11706 11707 11708 11709 11710 11711 11712 11713 11714 11715 11716 11717 \n",
              "    1     1     1     1     1     1     1     1     1     1     2     1     1 \n",
              "11718 11719 11720 11721 11722 11723 11724 11725 11726 11727 11728 11729 11730 \n",
              "    1     1     2     1     1     1     1     1     1     1     1     1     1 \n",
              "11731 11732 11733 11735 11736 11737 11738 11739 11740 11741 11742 11743 11744 \n",
              "    1     1     1     2     1     1     1     2     1     1     1     2     1 \n",
              "11745 11746 11747 11749 11750 11751 11752 11753 11754 11755 11756 11757 11758 \n",
              "    1     1     1     1     1     1     1     1     1     1     1     2     2 \n",
              "11759 11760 11761 11762 11763 11764 11765 11766 11767 11768 11769 11770 11771 \n",
              "    1     2     2     1     1     2     1     2     2     2     1     1     1 \n",
              "11772 11773 11774 11775 11776 11777 11778 11779 11780 11781 11782 11783 11784 \n",
              "    2     1     1     1     2     1     1     1     1     1     1     1     1 \n",
              "11785 11786 11787 11788 11789 11790 11791 11792 11793 11794 11795 11796 11797 \n",
              "    1     1     1     1     1     2     1     1     1     2     1     2     1 \n",
              "11798 11799 11800 11801 11803 11804 11805 11806 11807 11808 11809 11810 11811 \n",
              "    1     1     1     1     1     1     1     1     1     1     2     2     1 \n",
              "11812 11813 11815 11816 11817 11818 11819 11820 11821 11822 11823 11824 11825 \n",
              "    1     1     2     1     2     2     2     2     2     1     2     1     1 \n",
              "11826 11827 11829 11830 11831 11832 11833 11834 11835 11836 11837 11838 11839 \n",
              "    1     1     1     1     1     2     1     1     2     1     1     1     1 \n",
              "11840 11841 11842 11843 11844 11845 11846 11847 11848 11849 11850 11851 11852 \n",
              "    2     1     1     1     1     1     2     2     1     1     1     2     1 \n",
              "11853 11854 11855 11856 11857 11858 11859 11860 11861 11862 11863 11864 11865 \n",
              "    1     1     1     1     1     2     1     1     1     1     1     1     1 \n",
              "11866 11867 11868 11869 11870 11871 11872 11873 11874 11875 11876 11877 11878 \n",
              "    2     1     2     1     1     1     2     1     1     1     1     1     1 \n",
              "11879 11880 11881 11882 11883 11884 11885 11886 11887 11888 11889 11890 11891 \n",
              "    2     1     1     1     1     1     2     1     1     1     1     2     1 \n",
              "11892 11893 11894 11895 11896 11897 11898 11899 11900 11901 11902 11903 11904 \n",
              "    1     1     1     1     1     2     1     1     1     2     1     1     1 \n",
              "11905 11906 11907 11908 11909 11910 11911 11912 11913 11914 11915 11916 11917 \n",
              "    2     2     1     1     2     2     1     1     1     1     1     1     1 \n",
              "11918 11919 11920 11921 11922 11923 11924 11925 11926 11927 11928 11929 11930 \n",
              "    2     1     1     1     1     1     1     1     1     2     2     2     1 \n",
              "11931 11932 11933 11934 11936 11937 11938 11940 11941 11942 11943 11944 11945 \n",
              "    1     2     1     2     1     1     1     2     1     1     1     2     1 \n",
              "11946 11947 11948 11949 11950 11951 11952 11953 11954 11955 11956 11957 11958 \n",
              "    1     1     1     1     1     2     2     2     1     1     1     1     2 \n",
              "11959 11960 11961 11962 11963 11964 11965 11966 11967 11968 11969 11970 11971 \n",
              "    1     1     1     1     2     2     1     1     2     1     2     2     1 \n",
              "11972 11973 11974 11975 11976 11977 11978 11979 11980 11981 11982 11983 11984 \n",
              "    1     1     1     1     1     1     1     1     2     1     2     1     1 \n",
              "11985 11986 11987 11988 11989 11990 11991 11992 11993 11994 11995 11996 11997 \n",
              "    1     2     2     1     1     1     1     1     2     1     1     1     1 \n",
              "11998 11999 12000 12001 12002 12003 12004 12005 12006 12007 12008 12009 12010 \n",
              "    1     2     2     2     1     1     2     1     1     1     1     1     1 \n",
              "12011 12012 12013 12014 12015 12016 12017 12018 12019 12020 12021 12022 12023 \n",
              "    1     1     1     1     1     1     1     1     1     1     1     2     1 \n",
              "12024 12025 12026 12027 12028 12029 12030 12031 12032 12033 12034 12035 12036 \n",
              "    1     2     2     1     1     1     1     1     1     1     1     1     1 \n",
              "12037 12038 12039 12040 12041 12042 12043 12044 12045 12046 12047 12048 12049 \n",
              "    1     1     1     2     2     1     1     1     1     2     2     1     2 \n",
              "12050 12051 12052 12053 12054 12055 12056 12057 12058 12059 12060 12061 12062 \n",
              "    1     1     1     1     1     1     1     2     2     1     1     1     1 \n",
              "12063 12064 12065 12066 12067 12068 12069 12070 12071 12072 12073 12074 12075 \n",
              "    1     1     1     1     1     1     1     1     1     1     1     1     1 \n",
              "12076 12077 12078 12079 12080 12081 12082 12083 12084 12085 12086 12087 12088 \n",
              "    2     2     1     1     1     2     2     1     1     1     1     1     1 \n",
              "12089 12090 12091 12092 12093 12094 12095 12096 12097 12098 12099 12100 12101 \n",
              "    2     1     1     1     1     1     1     1     1     2     1     2     1 \n",
              "12102 12103 12104 12105 12106 12107 12108 12109 12110 12111 12112 12113 12114 \n",
              "    1     1     1     1     2     1     1     2     2     1     2     2     1 \n",
              "12115 12116 12117 12118 12119 12120 12121 12122 12123 12124 12125 12126 12127 \n",
              "    1     1     1     2     1     1     1     1     1     1     1     1     1 \n",
              "12128 12129 12130 12131 12132 12133 12134 12135 12136 12137 12138 12139 12140 \n",
              "    1     1     1     1     1     1     1     1     2     2     1     2     1 \n",
              "12141 12142 12143 12144 12145 12146 12147 12148 12149 12150 12151 12152 12153 \n",
              "    1     1     1     1     1     1     1     1     1     1     1     2     1 \n",
              "12154 12155 12156 12157 12158 12159 12161 12162 12163 12164 12165 12166 12167 \n",
              "    2     2     1     2     2     1     1     1     1     1     1     1     2 \n",
              "12168 12169 12170 12171 12172 12173 12174 12175 12176 12177 12178 12179 12180 \n",
              "    1     2     1     1     2     2     1     1     1     1     2     2     1 \n",
              "12182 12183 12184 12185 12187 12188 12189 12190 12191 12192 12193 12194 12195 \n",
              "    1     1     1     1     1     1     2     1     1     2     1     2     1 \n",
              "12196 12197 12198 12199 12200 12201 12202 12203 12204 12205 12206 12207 12208 \n",
              "    1     1     2     2     1     1     1     1     2     1     1     1     1 \n",
              "12209 12210 12211 12212 12213 12214 12215 12216 12217 12218 12219 12220 12221 \n",
              "    1     2     1     1     1     2     1     1     1     1     2     1     1 \n",
              "12222 12223 12224 12225 12226 12227 12228 12229 12230 12231 12232 12233 12234 \n",
              "    2     1     1     2     1     1     1     1     1     1     1     1     1 \n",
              "12235 12236 12237 12238 12239 12240 12241 12242 12243 12244 12245 12246 12247 \n",
              "    2     1     1     1     2     1     1     1     1     2     1     1     1 \n",
              "12248 12249 12250 12251 12252 12253 12254 12255 12256 12257 12258 12259 12260 \n",
              "    2     1     1     1     2     1     2     2     1     1     2     1     1 \n",
              "12261 12262 12263 12264 12265 12266 12267 12268 12269 12270 12271 12272 12273 \n",
              "    1     1     1     1     1     1     1     1     1     1     1     1     1 \n",
              "12274 12275 12276 12277 12278 12279 12280 12281 12282 12283 12284 12285 12286 \n",
              "    1     2     1     1     1     1     2     1     1     1     1     1     1 \n",
              "12287 12288 12289 12290 12291 12292 12293 12294 12295 12296 12297 12298 12299 \n",
              "    1     1     2     1     1     1     2     1     1     2     1     1     1 \n",
              "12300 12301 12302 12303 12304 12305 12306 12307 12308 12309 12310 12311 12312 \n",
              "    1     1     1     1     2     1     1     1     1     1     1     1     1 \n",
              "12313 12314 12315 12316 12317 12318 12319 12320 12321 12322 12323 12324 12325 \n",
              "    1     1     1     2     1     1     2     1     1     1     1     2     1 \n",
              "12326 12327 12328 12329 12330 \n",
              "    1     2     2     2     1 "
            ],
            "text/latex": "\\begin{description*}\n\\item[1] 1\n\\item[2] 1\n\\item[3] 1\n\\item[4] 1\n\\item[5] 1\n\\item[6] 1\n\\item[7] 1\n\\item[8] 1\n\\item[9] 1\n\\item[10] 1\n\\item[11] 1\n\\item[12] 1\n\\item[13] 1\n\\item[14] 1\n\\item[15] 1\n\\item[16] 1\n\\item[17] 1\n\\item[18] 1\n\\item[19] 1\n\\item[20] 1\n\\item[21] 1\n\\item[22] 1\n\\item[23] 1\n\\item[24] 1\n\\item[25] 1\n\\item[26] 1\n\\item[27] 1\n\\item[28] 1\n\\item[29] 1\n\\item[30] 1\n\\item[31] 1\n\\item[32] 1\n\\item[33] 1\n\\item[34] 1\n\\item[35] 1\n\\item[36] 1\n\\item[37] 1\n\\item[38] 1\n\\item[39] 1\n\\item[40] 1\n\\item[41] 1\n\\item[42] 1\n\\item[43] 1\n\\item[44] 1\n\\item[45] 1\n\\item[46] 1\n\\item[47] 1\n\\item[48] 1\n\\item[49] 1\n\\item[50] 1\n\\item[51] 1\n\\item[52] 1\n\\item[53] 1\n\\item[54] 1\n\\item[55] 1\n\\item[56] 1\n\\item[57] 1\n\\item[58] 1\n\\item[59] 1\n\\item[60] 1\n\\item[61] 1\n\\item[62] 1\n\\item[63] 1\n\\item[64] 1\n\\item[65] 1\n\\item[66] 1\n\\item[67] 1\n\\item[68] 1\n\\item[69] 1\n\\item[70] 1\n\\item[71] 1\n\\item[72] 1\n\\item[73] 1\n\\item[74] 1\n\\item[75] 1\n\\item[76] 1\n\\item[77] 1\n\\item[78] 1\n\\item[79] 1\n\\item[80] 1\n\\item[81] 1\n\\item[82] 1\n\\item[83] 1\n\\item[84] 1\n\\item[85] 1\n\\item[86] 1\n\\item[87] 1\n\\item[88] 1\n\\item[89] 1\n\\item[90] 1\n\\item[91] 1\n\\item[92] 1\n\\item[93] 1\n\\item[94] 1\n\\item[95] 1\n\\item[96] 1\n\\item[97] 1\n\\item[98] 1\n\\item[99] 1\n\\item[100] 1\n\\item[101] 1\n\\item[102] 1\n\\item[103] 1\n\\item[104] 1\n\\item[105] 1\n\\item[106] 1\n\\item[107] 1\n\\item[108] 1\n\\item[109] 1\n\\item[110] 1\n\\item[111] 1\n\\item[112] 1\n\\item[113] 1\n\\item[114] 1\n\\item[115] 1\n\\item[116] 1\n\\item[117] 1\n\\item[118] 1\n\\item[119] 1\n\\item[120] 1\n\\item[121] 1\n\\item[122] 1\n\\item[123] 1\n\\item[124] 1\n\\item[125] 1\n\\item[126] 1\n\\item[127] 1\n\\item[128] 1\n\\item[129] 1\n\\item[130] 1\n\\item[131] 1\n\\item[132] 1\n\\item[133] 1\n\\item[134] 1\n\\item[135] 1\n\\item[136] 1\n\\item[137] 1\n\\item[138] 1\n\\item[139] 1\n\\item[140] 1\n\\item[141] 1\n\\item[142] 1\n\\item[143] 1\n\\item[144] 1\n\\item[145] 1\n\\item[146] 1\n\\item[147] 1\n\\item[148] 1\n\\item[149] 1\n\\item[150] 1\n\\item[151] 1\n\\item[152] 1\n\\item[153] 1\n\\item[154] 1\n\\item[155] 1\n\\item[156] 1\n\\item[157] 1\n\\item[158] 1\n\\item[160] 1\n\\item[161] 1\n\\item[162] 1\n\\item[163] 1\n\\item[164] 1\n\\item[165] 1\n\\item[166] 1\n\\item[167] 1\n\\item[168] 1\n\\item[169] 1\n\\item[170] 1\n\\item[171] 1\n\\item[172] 1\n\\item[173] 1\n\\item[174] 1\n\\item[175] 1\n\\item[176] 1\n\\item[177] 1\n\\item[178] 1\n\\item[180] 1\n\\item[181] 1\n\\item[182] 1\n\\item[183] 1\n\\item[184] 1\n\\item[185] 2\n\\item[186] 1\n\\item[187] 1\n\\item[188] 1\n\\item[189] 1\n\\item[190] 1\n\\item[191] 1\n\\item[192] 1\n\\item[193] 1\n\\item[194] 1\n\\item[195] 1\n\\item[196] 1\n\\item[197] 1\n\\item[198] 1\n\\item[199] 1\n\\item[200] 1\n\\item[201] 2\n\\item[202] 2\n\\item[203] ⋯\n\\item[204] 1\n\\item[205] 1\n\\item[206] 1\n\\item[207] 1\n\\item[208] 1\n\\item[209] 1\n\\item[210] 1\n\\item[211] 1\n\\item[212] 2\n\\item[213] 2\n\\item[214] 1\n\\item[215] 2\n\\item[216] 1\n\\item[217] 1\n\\item[218] 1\n\\item[219] 1\n\\item[220] 1\n\\item[221] 1\n\\item[222] 1\n\\item[223] 1\n\\item[224] 1\n\\item[225] 1\n\\item[226] 1\n\\item[227] 1\n\\item[228] 2\n\\item[229] 1\n\\item[230] 2\n\\item[231] 2\n\\item[232] 1\n\\item[233] 2\n\\item[234] 2\n\\item[235] 1\n\\item[236] 1\n\\item[237] 1\n\\item[238] 1\n\\item[239] 1\n\\item[240] 1\n\\item[241] 1\n\\item[242] 2\n\\item[243] 1\n\\item[244] 2\n\\item[245] 1\n\\item[246] 1\n\\item[247] 2\n\\item[248] 2\n\\item[249] 1\n\\item[250] 1\n\\item[251] 1\n\\item[252] 1\n\\item[253] 2\n\\item[254] 2\n\\item[255] 1\n\\item[256] 1\n\\item[257] 1\n\\item[258] 1\n\\item[259] 1\n\\item[260] 1\n\\item[261] 1\n\\item[262] 2\n\\item[263] 1\n\\item[264] 1\n\\item[265] 2\n\\item[266] 1\n\\item[267] 2\n\\item[268] 1\n\\item[269] 1\n\\item[270] 1\n\\item[271] 2\n\\item[272] 2\n\\item[273] 1\n\\item[274] 1\n\\item[275] 1\n\\item[276] 1\n\\item[277] 2\n\\item[278] 1\n\\item[279] 1\n\\item[280] 1\n\\item[281] 1\n\\item[282] 1\n\\item[283] 2\n\\item[284] 1\n\\item[285] 1\n\\item[286] 1\n\\item[287] 2\n\\item[288] 1\n\\item[289] 1\n\\item[290] 1\n\\item[291] 1\n\\item[292] 2\n\\item[293] 1\n\\item[294] 1\n\\item[295] 2\n\\item[296] 1\n\\item[297] 1\n\\item[298] 2\n\\item[299] 1\n\\item[300] 1\n\\item[301] 1\n\\item[302] 1\n\\item[303] 1\n\\item[304] 1\n\\item[305] 1\n\\item[306] 1\n\\item[307] 1\n\\item[308] 2\n\\item[309] 1\n\\item[310] 1\n\\item[311] 1\n\\item[312] 2\n\\item[313] 1\n\\item[314] 1\n\\item[315] 1\n\\item[316] 1\n\\item[317] 2\n\\item[318] 1\n\\item[319] 1\n\\item[320] 1\n\\item[321] 2\n\\item[322] 1\n\\item[323] 1\n\\item[324] 1\n\\item[325] 2\n\\item[326] 1\n\\item[327] 2\n\\item[328] 2\n\\item[329] 1\n\\item[330] 1\n\\item[331] 2\n\\item[332] 1\n\\item[333] 1\n\\item[334] 1\n\\item[335] 1\n\\item[336] 1\n\\item[337] 1\n\\item[338] 1\n\\item[339] 1\n\\item[340] 1\n\\item[341] 1\n\\item[342] 1\n\\item[343] 1\n\\item[344] 1\n\\item[345] 1\n\\item[346] 1\n\\item[347] 1\n\\item[348] 2\n\\item[349] 1\n\\item[350] 1\n\\item[351] 1\n\\item[352] 1\n\\item[353] 2\n\\item[354] 1\n\\item[355] 1\n\\item[356] 1\n\\item[357] 1\n\\item[358] 1\n\\item[359] 1\n\\item[360] 1\n\\item[361] 1\n\\item[362] 2\n\\item[363] 1\n\\item[364] 1\n\\item[365] 1\n\\item[366] 2\n\\item[367] 1\n\\item[368] 1\n\\item[369] 2\n\\item[370] 1\n\\item[371] 1\n\\item[372] 1\n\\item[373] 1\n\\item[374] 1\n\\item[375] 1\n\\item[376] 1\n\\item[377] 2\n\\item[378] 1\n\\item[379] 1\n\\item[380] 1\n\\item[381] 1\n\\item[382] 1\n\\item[383] 1\n\\item[384] 1\n\\item[385] 1\n\\item[386] 1\n\\item[387] 1\n\\item[388] 1\n\\item[389] 2\n\\item[390] 1\n\\item[391] 1\n\\item[392] 2\n\\item[393] 1\n\\item[394] 1\n\\item[395] 1\n\\item[396] 1\n\\item[397] 2\n\\item[398] 1\n\\item[399] 1\n\\item[400] 2\n\\item[401] 2\n\\item[402] 2\n\\item[403] 1\n\\end{description*}\n",
            "text/markdown": "1\n:   12\n:   13\n:   14\n:   15\n:   16\n:   17\n:   18\n:   19\n:   110\n:   111\n:   112\n:   113\n:   114\n:   115\n:   116\n:   117\n:   118\n:   119\n:   120\n:   121\n:   122\n:   123\n:   124\n:   125\n:   126\n:   127\n:   128\n:   129\n:   130\n:   131\n:   132\n:   133\n:   134\n:   135\n:   136\n:   137\n:   138\n:   139\n:   140\n:   141\n:   142\n:   143\n:   144\n:   145\n:   146\n:   147\n:   148\n:   149\n:   150\n:   151\n:   152\n:   153\n:   154\n:   155\n:   156\n:   157\n:   158\n:   159\n:   160\n:   161\n:   162\n:   163\n:   164\n:   165\n:   166\n:   167\n:   168\n:   169\n:   170\n:   171\n:   172\n:   173\n:   174\n:   175\n:   176\n:   177\n:   178\n:   179\n:   180\n:   181\n:   182\n:   183\n:   184\n:   185\n:   186\n:   187\n:   188\n:   189\n:   190\n:   191\n:   192\n:   193\n:   194\n:   195\n:   196\n:   197\n:   198\n:   199\n:   1100\n:   1101\n:   1102\n:   1103\n:   1104\n:   1105\n:   1106\n:   1107\n:   1108\n:   1109\n:   1110\n:   1111\n:   1112\n:   1113\n:   1114\n:   1115\n:   1116\n:   1117\n:   1118\n:   1119\n:   1120\n:   1121\n:   1122\n:   1123\n:   1124\n:   1125\n:   1126\n:   1127\n:   1128\n:   1129\n:   1130\n:   1131\n:   1132\n:   1133\n:   1134\n:   1135\n:   1136\n:   1137\n:   1138\n:   1139\n:   1140\n:   1141\n:   1142\n:   1143\n:   1144\n:   1145\n:   1146\n:   1147\n:   1148\n:   1149\n:   1150\n:   1151\n:   1152\n:   1153\n:   1154\n:   1155\n:   1156\n:   1157\n:   1158\n:   1160\n:   1161\n:   1162\n:   1163\n:   1164\n:   1165\n:   1166\n:   1167\n:   1168\n:   1169\n:   1170\n:   1171\n:   1172\n:   1173\n:   1174\n:   1175\n:   1176\n:   1177\n:   1178\n:   1180\n:   1181\n:   1182\n:   1183\n:   1184\n:   1185\n:   2186\n:   1187\n:   1188\n:   1189\n:   1190\n:   1191\n:   1192\n:   1193\n:   1194\n:   1195\n:   1196\n:   1197\n:   1198\n:   1199\n:   1200\n:   1201\n:   2202\n:   2203\n:   ⋯204\n:   1205\n:   1206\n:   1207\n:   1208\n:   1209\n:   1210\n:   1211\n:   1212\n:   2213\n:   2214\n:   1215\n:   2216\n:   1217\n:   1218\n:   1219\n:   1220\n:   1221\n:   1222\n:   1223\n:   1224\n:   1225\n:   1226\n:   1227\n:   1228\n:   2229\n:   1230\n:   2231\n:   2232\n:   1233\n:   2234\n:   2235\n:   1236\n:   1237\n:   1238\n:   1239\n:   1240\n:   1241\n:   1242\n:   2243\n:   1244\n:   2245\n:   1246\n:   1247\n:   2248\n:   2249\n:   1250\n:   1251\n:   1252\n:   1253\n:   2254\n:   2255\n:   1256\n:   1257\n:   1258\n:   1259\n:   1260\n:   1261\n:   1262\n:   2263\n:   1264\n:   1265\n:   2266\n:   1267\n:   2268\n:   1269\n:   1270\n:   1271\n:   2272\n:   2273\n:   1274\n:   1275\n:   1276\n:   1277\n:   2278\n:   1279\n:   1280\n:   1281\n:   1282\n:   1283\n:   2284\n:   1285\n:   1286\n:   1287\n:   2288\n:   1289\n:   1290\n:   1291\n:   1292\n:   2293\n:   1294\n:   1295\n:   2296\n:   1297\n:   1298\n:   2299\n:   1300\n:   1301\n:   1302\n:   1303\n:   1304\n:   1305\n:   1306\n:   1307\n:   1308\n:   2309\n:   1310\n:   1311\n:   1312\n:   2313\n:   1314\n:   1315\n:   1316\n:   1317\n:   2318\n:   1319\n:   1320\n:   1321\n:   2322\n:   1323\n:   1324\n:   1325\n:   2326\n:   1327\n:   2328\n:   2329\n:   1330\n:   1331\n:   2332\n:   1333\n:   1334\n:   1335\n:   1336\n:   1337\n:   1338\n:   1339\n:   1340\n:   1341\n:   1342\n:   1343\n:   1344\n:   1345\n:   1346\n:   1347\n:   1348\n:   2349\n:   1350\n:   1351\n:   1352\n:   1353\n:   2354\n:   1355\n:   1356\n:   1357\n:   1358\n:   1359\n:   1360\n:   1361\n:   1362\n:   2363\n:   1364\n:   1365\n:   1366\n:   2367\n:   1368\n:   1369\n:   2370\n:   1371\n:   1372\n:   1373\n:   1374\n:   1375\n:   1376\n:   1377\n:   2378\n:   1379\n:   1380\n:   1381\n:   1382\n:   1383\n:   1384\n:   1385\n:   1386\n:   1387\n:   1388\n:   1389\n:   2390\n:   1391\n:   1392\n:   2393\n:   1394\n:   1395\n:   1396\n:   1397\n:   2398\n:   1399\n:   1400\n:   2401\n:   2402\n:   2403\n:   1\n\n",
            "text/html": [
              "<style>\n",
              ".dl-inline {width: auto; margin:0; padding: 0}\n",
              ".dl-inline>dt, .dl-inline>dd {float: none; width: auto; display: inline-block}\n",
              ".dl-inline>dt::after {content: \":\\0020\"; padding-right: .5ex}\n",
              ".dl-inline>dt:not(:first-of-type) {padding-left: .5ex}\n",
              "</style><dl class=dl-inline><dt>1</dt><dd>1</dd><dt>2</dt><dd>1</dd><dt>3</dt><dd>1</dd><dt>4</dt><dd>1</dd><dt>5</dt><dd>1</dd><dt>6</dt><dd>1</dd><dt>7</dt><dd>1</dd><dt>8</dt><dd>1</dd><dt>9</dt><dd>1</dd><dt>10</dt><dd>1</dd><dt>11</dt><dd>1</dd><dt>12</dt><dd>1</dd><dt>13</dt><dd>1</dd><dt>14</dt><dd>1</dd><dt>15</dt><dd>1</dd><dt>16</dt><dd>1</dd><dt>17</dt><dd>1</dd><dt>18</dt><dd>1</dd><dt>19</dt><dd>1</dd><dt>20</dt><dd>1</dd><dt>21</dt><dd>1</dd><dt>22</dt><dd>1</dd><dt>23</dt><dd>1</dd><dt>24</dt><dd>1</dd><dt>25</dt><dd>1</dd><dt>26</dt><dd>1</dd><dt>27</dt><dd>1</dd><dt>28</dt><dd>1</dd><dt>29</dt><dd>1</dd><dt>30</dt><dd>1</dd><dt>31</dt><dd>1</dd><dt>32</dt><dd>1</dd><dt>33</dt><dd>1</dd><dt>34</dt><dd>1</dd><dt>35</dt><dd>1</dd><dt>36</dt><dd>1</dd><dt>37</dt><dd>1</dd><dt>38</dt><dd>1</dd><dt>39</dt><dd>1</dd><dt>40</dt><dd>1</dd><dt>41</dt><dd>1</dd><dt>42</dt><dd>1</dd><dt>43</dt><dd>1</dd><dt>44</dt><dd>1</dd><dt>45</dt><dd>1</dd><dt>46</dt><dd>1</dd><dt>47</dt><dd>1</dd><dt>48</dt><dd>1</dd><dt>49</dt><dd>1</dd><dt>50</dt><dd>1</dd><dt>51</dt><dd>1</dd><dt>52</dt><dd>1</dd><dt>53</dt><dd>1</dd><dt>54</dt><dd>1</dd><dt>55</dt><dd>1</dd><dt>56</dt><dd>1</dd><dt>57</dt><dd>1</dd><dt>58</dt><dd>1</dd><dt>59</dt><dd>1</dd><dt>60</dt><dd>1</dd><dt>61</dt><dd>1</dd><dt>62</dt><dd>1</dd><dt>63</dt><dd>1</dd><dt>64</dt><dd>1</dd><dt>65</dt><dd>1</dd><dt>66</dt><dd>1</dd><dt>67</dt><dd>1</dd><dt>68</dt><dd>1</dd><dt>69</dt><dd>1</dd><dt>70</dt><dd>1</dd><dt>71</dt><dd>1</dd><dt>72</dt><dd>1</dd><dt>73</dt><dd>1</dd><dt>74</dt><dd>1</dd><dt>75</dt><dd>1</dd><dt>76</dt><dd>1</dd><dt>77</dt><dd>1</dd><dt>78</dt><dd>1</dd><dt>79</dt><dd>1</dd><dt>80</dt><dd>1</dd><dt>81</dt><dd>1</dd><dt>82</dt><dd>1</dd><dt>83</dt><dd>1</dd><dt>84</dt><dd>1</dd><dt>85</dt><dd>1</dd><dt>86</dt><dd>1</dd><dt>87</dt><dd>1</dd><dt>88</dt><dd>1</dd><dt>89</dt><dd>1</dd><dt>90</dt><dd>1</dd><dt>91</dt><dd>1</dd><dt>92</dt><dd>1</dd><dt>93</dt><dd>1</dd><dt>94</dt><dd>1</dd><dt>95</dt><dd>1</dd><dt>96</dt><dd>1</dd><dt>97</dt><dd>1</dd><dt>98</dt><dd>1</dd><dt>99</dt><dd>1</dd><dt>100</dt><dd>1</dd><dt>101</dt><dd>1</dd><dt>102</dt><dd>1</dd><dt>103</dt><dd>1</dd><dt>104</dt><dd>1</dd><dt>105</dt><dd>1</dd><dt>106</dt><dd>1</dd><dt>107</dt><dd>1</dd><dt>108</dt><dd>1</dd><dt>109</dt><dd>1</dd><dt>110</dt><dd>1</dd><dt>111</dt><dd>1</dd><dt>112</dt><dd>1</dd><dt>113</dt><dd>1</dd><dt>114</dt><dd>1</dd><dt>115</dt><dd>1</dd><dt>116</dt><dd>1</dd><dt>117</dt><dd>1</dd><dt>118</dt><dd>1</dd><dt>119</dt><dd>1</dd><dt>120</dt><dd>1</dd><dt>121</dt><dd>1</dd><dt>122</dt><dd>1</dd><dt>123</dt><dd>1</dd><dt>124</dt><dd>1</dd><dt>125</dt><dd>1</dd><dt>126</dt><dd>1</dd><dt>127</dt><dd>1</dd><dt>128</dt><dd>1</dd><dt>129</dt><dd>1</dd><dt>130</dt><dd>1</dd><dt>131</dt><dd>1</dd><dt>132</dt><dd>1</dd><dt>133</dt><dd>1</dd><dt>134</dt><dd>1</dd><dt>135</dt><dd>1</dd><dt>136</dt><dd>1</dd><dt>137</dt><dd>1</dd><dt>138</dt><dd>1</dd><dt>139</dt><dd>1</dd><dt>140</dt><dd>1</dd><dt>141</dt><dd>1</dd><dt>142</dt><dd>1</dd><dt>143</dt><dd>1</dd><dt>144</dt><dd>1</dd><dt>145</dt><dd>1</dd><dt>146</dt><dd>1</dd><dt>147</dt><dd>1</dd><dt>148</dt><dd>1</dd><dt>149</dt><dd>1</dd><dt>150</dt><dd>1</dd><dt>151</dt><dd>1</dd><dt>152</dt><dd>1</dd><dt>153</dt><dd>1</dd><dt>154</dt><dd>1</dd><dt>155</dt><dd>1</dd><dt>156</dt><dd>1</dd><dt>157</dt><dd>1</dd><dt>158</dt><dd>1</dd><dt>160</dt><dd>1</dd><dt>161</dt><dd>1</dd><dt>162</dt><dd>1</dd><dt>163</dt><dd>1</dd><dt>164</dt><dd>1</dd><dt>165</dt><dd>1</dd><dt>166</dt><dd>1</dd><dt>167</dt><dd>1</dd><dt>168</dt><dd>1</dd><dt>169</dt><dd>1</dd><dt>170</dt><dd>1</dd><dt>171</dt><dd>1</dd><dt>172</dt><dd>1</dd><dt>173</dt><dd>1</dd><dt>174</dt><dd>1</dd><dt>175</dt><dd>1</dd><dt>176</dt><dd>1</dd><dt>177</dt><dd>1</dd><dt>178</dt><dd>1</dd><dt>180</dt><dd>1</dd><dt>181</dt><dd>1</dd><dt>182</dt><dd>1</dd><dt>183</dt><dd>1</dd><dt>184</dt><dd>1</dd><dt>185</dt><dd>2</dd><dt>186</dt><dd>1</dd><dt>187</dt><dd>1</dd><dt>188</dt><dd>1</dd><dt>189</dt><dd>1</dd><dt>190</dt><dd>1</dd><dt>191</dt><dd>1</dd><dt>192</dt><dd>1</dd><dt>193</dt><dd>1</dd><dt>194</dt><dd>1</dd><dt>195</dt><dd>1</dd><dt>196</dt><dd>1</dd><dt>197</dt><dd>1</dd><dt>198</dt><dd>1</dd><dt>199</dt><dd>1</dd><dt>200</dt><dd>1</dd><dt>201</dt><dd>2</dd><dt>202</dt><dd>2</dd><dt>203</dt><dd>⋯</dd><dt>204</dt><dd>1</dd><dt>205</dt><dd>1</dd><dt>206</dt><dd>1</dd><dt>207</dt><dd>1</dd><dt>208</dt><dd>1</dd><dt>209</dt><dd>1</dd><dt>210</dt><dd>1</dd><dt>211</dt><dd>1</dd><dt>212</dt><dd>2</dd><dt>213</dt><dd>2</dd><dt>214</dt><dd>1</dd><dt>215</dt><dd>2</dd><dt>216</dt><dd>1</dd><dt>217</dt><dd>1</dd><dt>218</dt><dd>1</dd><dt>219</dt><dd>1</dd><dt>220</dt><dd>1</dd><dt>221</dt><dd>1</dd><dt>222</dt><dd>1</dd><dt>223</dt><dd>1</dd><dt>224</dt><dd>1</dd><dt>225</dt><dd>1</dd><dt>226</dt><dd>1</dd><dt>227</dt><dd>1</dd><dt>228</dt><dd>2</dd><dt>229</dt><dd>1</dd><dt>230</dt><dd>2</dd><dt>231</dt><dd>2</dd><dt>232</dt><dd>1</dd><dt>233</dt><dd>2</dd><dt>234</dt><dd>2</dd><dt>235</dt><dd>1</dd><dt>236</dt><dd>1</dd><dt>237</dt><dd>1</dd><dt>238</dt><dd>1</dd><dt>239</dt><dd>1</dd><dt>240</dt><dd>1</dd><dt>241</dt><dd>1</dd><dt>242</dt><dd>2</dd><dt>243</dt><dd>1</dd><dt>244</dt><dd>2</dd><dt>245</dt><dd>1</dd><dt>246</dt><dd>1</dd><dt>247</dt><dd>2</dd><dt>248</dt><dd>2</dd><dt>249</dt><dd>1</dd><dt>250</dt><dd>1</dd><dt>251</dt><dd>1</dd><dt>252</dt><dd>1</dd><dt>253</dt><dd>2</dd><dt>254</dt><dd>2</dd><dt>255</dt><dd>1</dd><dt>256</dt><dd>1</dd><dt>257</dt><dd>1</dd><dt>258</dt><dd>1</dd><dt>259</dt><dd>1</dd><dt>260</dt><dd>1</dd><dt>261</dt><dd>1</dd><dt>262</dt><dd>2</dd><dt>263</dt><dd>1</dd><dt>264</dt><dd>1</dd><dt>265</dt><dd>2</dd><dt>266</dt><dd>1</dd><dt>267</dt><dd>2</dd><dt>268</dt><dd>1</dd><dt>269</dt><dd>1</dd><dt>270</dt><dd>1</dd><dt>271</dt><dd>2</dd><dt>272</dt><dd>2</dd><dt>273</dt><dd>1</dd><dt>274</dt><dd>1</dd><dt>275</dt><dd>1</dd><dt>276</dt><dd>1</dd><dt>277</dt><dd>2</dd><dt>278</dt><dd>1</dd><dt>279</dt><dd>1</dd><dt>280</dt><dd>1</dd><dt>281</dt><dd>1</dd><dt>282</dt><dd>1</dd><dt>283</dt><dd>2</dd><dt>284</dt><dd>1</dd><dt>285</dt><dd>1</dd><dt>286</dt><dd>1</dd><dt>287</dt><dd>2</dd><dt>288</dt><dd>1</dd><dt>289</dt><dd>1</dd><dt>290</dt><dd>1</dd><dt>291</dt><dd>1</dd><dt>292</dt><dd>2</dd><dt>293</dt><dd>1</dd><dt>294</dt><dd>1</dd><dt>295</dt><dd>2</dd><dt>296</dt><dd>1</dd><dt>297</dt><dd>1</dd><dt>298</dt><dd>2</dd><dt>299</dt><dd>1</dd><dt>300</dt><dd>1</dd><dt>301</dt><dd>1</dd><dt>302</dt><dd>1</dd><dt>303</dt><dd>1</dd><dt>304</dt><dd>1</dd><dt>305</dt><dd>1</dd><dt>306</dt><dd>1</dd><dt>307</dt><dd>1</dd><dt>308</dt><dd>2</dd><dt>309</dt><dd>1</dd><dt>310</dt><dd>1</dd><dt>311</dt><dd>1</dd><dt>312</dt><dd>2</dd><dt>313</dt><dd>1</dd><dt>314</dt><dd>1</dd><dt>315</dt><dd>1</dd><dt>316</dt><dd>1</dd><dt>317</dt><dd>2</dd><dt>318</dt><dd>1</dd><dt>319</dt><dd>1</dd><dt>320</dt><dd>1</dd><dt>321</dt><dd>2</dd><dt>322</dt><dd>1</dd><dt>323</dt><dd>1</dd><dt>324</dt><dd>1</dd><dt>325</dt><dd>2</dd><dt>326</dt><dd>1</dd><dt>327</dt><dd>2</dd><dt>328</dt><dd>2</dd><dt>329</dt><dd>1</dd><dt>330</dt><dd>1</dd><dt>331</dt><dd>2</dd><dt>332</dt><dd>1</dd><dt>333</dt><dd>1</dd><dt>334</dt><dd>1</dd><dt>335</dt><dd>1</dd><dt>336</dt><dd>1</dd><dt>337</dt><dd>1</dd><dt>338</dt><dd>1</dd><dt>339</dt><dd>1</dd><dt>340</dt><dd>1</dd><dt>341</dt><dd>1</dd><dt>342</dt><dd>1</dd><dt>343</dt><dd>1</dd><dt>344</dt><dd>1</dd><dt>345</dt><dd>1</dd><dt>346</dt><dd>1</dd><dt>347</dt><dd>1</dd><dt>348</dt><dd>2</dd><dt>349</dt><dd>1</dd><dt>350</dt><dd>1</dd><dt>351</dt><dd>1</dd><dt>352</dt><dd>1</dd><dt>353</dt><dd>2</dd><dt>354</dt><dd>1</dd><dt>355</dt><dd>1</dd><dt>356</dt><dd>1</dd><dt>357</dt><dd>1</dd><dt>358</dt><dd>1</dd><dt>359</dt><dd>1</dd><dt>360</dt><dd>1</dd><dt>361</dt><dd>1</dd><dt>362</dt><dd>2</dd><dt>363</dt><dd>1</dd><dt>364</dt><dd>1</dd><dt>365</dt><dd>1</dd><dt>366</dt><dd>2</dd><dt>367</dt><dd>1</dd><dt>368</dt><dd>1</dd><dt>369</dt><dd>2</dd><dt>370</dt><dd>1</dd><dt>371</dt><dd>1</dd><dt>372</dt><dd>1</dd><dt>373</dt><dd>1</dd><dt>374</dt><dd>1</dd><dt>375</dt><dd>1</dd><dt>376</dt><dd>1</dd><dt>377</dt><dd>2</dd><dt>378</dt><dd>1</dd><dt>379</dt><dd>1</dd><dt>380</dt><dd>1</dd><dt>381</dt><dd>1</dd><dt>382</dt><dd>1</dd><dt>383</dt><dd>1</dd><dt>384</dt><dd>1</dd><dt>385</dt><dd>1</dd><dt>386</dt><dd>1</dd><dt>387</dt><dd>1</dd><dt>388</dt><dd>1</dd><dt>389</dt><dd>2</dd><dt>390</dt><dd>1</dd><dt>391</dt><dd>1</dd><dt>392</dt><dd>2</dd><dt>393</dt><dd>1</dd><dt>394</dt><dd>1</dd><dt>395</dt><dd>1</dd><dt>396</dt><dd>1</dd><dt>397</dt><dd>2</dd><dt>398</dt><dd>1</dd><dt>399</dt><dd>1</dd><dt>400</dt><dd>2</dd><dt>401</dt><dd>2</dd><dt>402</dt><dd>2</dd><dt>403</dt><dd>1</dd></dl>\n"
            ]
          },
          "metadata": {
            "tags": []
          }
        }
      ]
    },
    {
      "cell_type": "code",
      "metadata": {
        "id": "I3PfKlzsgLYu",
        "colab_type": "code",
        "colab": {
          "base_uri": "https://localhost:8080/",
          "height": 33
        },
        "outputId": "449f488a-2763-4ab1-bc37-8269647c5bc3"
      },
      "source": [
        "\n",
        "data.n <- as.numeric(data.class)\n",
        "\n",
        "mean(data.n == final$cluster)"
      ],
      "execution_count": 63,
      "outputs": [
        {
          "output_type": "display_data",
          "data": {
            "text/plain": [
              "[1] 0.1291089"
            ],
            "text/latex": "0.129108943356013",
            "text/markdown": "0.129108943356013",
            "text/html": [
              "0.129108943356013"
            ]
          },
          "metadata": {
            "tags": []
          }
        }
      ]
    },
    {
      "cell_type": "markdown",
      "metadata": {
        "id": "c_iOzxGZhns5",
        "colab_type": "text"
      },
      "source": [
        "Gives 12.91% accuracy "
      ]
    },
    {
      "cell_type": "markdown",
      "metadata": {
        "id": "RZFiUgPzhxSt",
        "colab_type": "text"
      },
      "source": [
        "#6.Challenging the solution "
      ]
    },
    {
      "cell_type": "markdown",
      "metadata": {
        "id": "wXla3Pvuh6B_",
        "colab_type": "text"
      },
      "source": [
        "##Hierachical Clustering"
      ]
    },
    {
      "cell_type": "code",
      "metadata": {
        "id": "z8Z0YvT2hck4",
        "colab_type": "code",
        "colab": {}
      },
      "source": [
        "# data.new <- data[, c(1,2,3,4,5,6,7,8,9,10,11,12,13,14,15,16,17)]\n",
        "# data.class<- data[, \"Revenue\"]\n",
        "# \n",
        "# Calculating euclidean distances of the independent variables.\n",
        "\n",
        "c <- dist(data.new, method = \"euclidean\")\n"
      ],
      "execution_count": 67,
      "outputs": []
    },
    {
      "cell_type": "code",
      "metadata": {
        "id": "aiiqRJBSipfJ",
        "colab_type": "code",
        "colab": {}
      },
      "source": [
        "# using the hclust clustering method.\n",
        "h_model <- hclust(c, method = \"ward.D2\" )\n"
      ],
      "execution_count": 68,
      "outputs": []
    },
    {
      "cell_type": "code",
      "metadata": {
        "id": "vvYUprzrjDXM",
        "colab_type": "code",
        "colab": {
          "base_uri": "https://localhost:8080/",
          "height": 436
        },
        "outputId": "13eb308d-dd67-423a-f250-55e24d127367"
      },
      "source": [
        "# Dendogram\n",
        "plot(h_model, cex = 0.6, hang = -1)\n"
      ],
      "execution_count": 69,
      "outputs": [
        {
          "output_type": "display_data",
          "data": {
            "image/png": "[encoded data removed]",
            "text/plain": [
              "Plot with title “Cluster Dendrogram”"
            ]
          },
          "metadata": {
            "tags": [],
            "image/png": {
              "width": 420,
              "height": 420
            }
          }
        }
      ]
    },
    {
      "cell_type": "code",
      "metadata": {
        "id": "HZraUKeJjNNa",
        "colab_type": "code",
        "colab": {
          "base_uri": "https://localhost:8080/",
          "height": 70
        },
        "outputId": "c3049b46-4fd0-4005-97e7-bbdafbdd8f84"
      },
      "source": [
        "# displaying the tree in 2 groups.\n",
        "sub_group = cutree (h_model, k = 2)\n",
        "table (sub_group)"
      ],
      "execution_count": 70,
      "outputs": [
        {
          "output_type": "display_data",
          "data": {
            "text/plain": [
              "sub_group\n",
              "    1     2 \n",
              "10224  1975 "
            ]
          },
          "metadata": {
            "tags": []
          }
        }
      ]
    },
    {
      "cell_type": "code",
      "metadata": {
        "id": "8YqYq_nnjQcA",
        "colab_type": "code",
        "colab": {
          "base_uri": "https://localhost:8080/",
          "height": 87
        },
        "outputId": "d562448a-8c31-4375-be88-f6cf1cceb29d"
      },
      "source": [
        "table (sub_group, data.class)"
      ],
      "execution_count": 71,
      "outputs": [
        {
          "output_type": "display_data",
          "data": {
            "text/plain": [
              "         data.class\n",
              "sub_group FALSE TRUE\n",
              "        1  8602 1622\n",
              "        2  1689  286"
            ]
          },
          "metadata": {
            "tags": []
          }
        }
      ]
    },
    {
      "cell_type": "code",
      "metadata": {
        "id": "oL0b2qofjVfv",
        "colab_type": "code",
        "colab": {
          "base_uri": "https://localhost:8080/",
          "height": 33
        },
        "outputId": "afa3aa45-d2e5-47d7-f8d0-bf25ee841396"
      },
      "source": [
        "# Accuracy\n",
        "\n",
        "mean(sub_group == data.class)"
      ],
      "execution_count": 72,
      "outputs": [
        {
          "output_type": "display_data",
          "data": {
            "text/plain": [
              "[1] 0.1329617"
            ],
            "text/latex": "0.132961718173621",
            "text/markdown": "0.132961718173621",
            "text/html": [
              "0.132961718173621"
            ]
          },
          "metadata": {
            "tags": []
          }
        }
      ]
    },
    {
      "cell_type": "markdown",
      "metadata": {
        "id": "HMA7g1-snk00",
        "colab_type": "text"
      },
      "source": [
        "- An accuracy of 13.30% isSlightly higher as compared to the Kmeans clustering accuracy"
      ]
    },
    {
      "cell_type": "markdown",
      "metadata": {
        "id": "peanPMsHnzoW",
        "colab_type": "text"
      },
      "source": [
        "#7. Conclusions and Recommendations"
      ]
    },
    {
      "cell_type": "markdown",
      "metadata": {
        "id": "oO7OUEfKpuEM",
        "colab_type": "text"
      },
      "source": [
        "- Hierachical clustering performed slightly better in terms of accuracy. It is therefore recommended that the hierachical method be utilised when it comes to analytics for the data herein and future data. \n",
        "- "
      ]
    },
    {
      "cell_type": "code",
      "metadata": {
        "id": "57tzwmmWjyyV",
        "colab_type": "code",
        "colab": {}
      },
      "source": [
        ""
      ],
      "execution_count": null,
      "outputs": []
    }
  ]
}